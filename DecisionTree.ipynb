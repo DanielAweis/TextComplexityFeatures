{
 "cells": [
  {
   "cell_type": "code",
   "execution_count": 1,
   "metadata": {},
   "outputs": [],
   "source": [
    "import pandas as pd\n",
    "import numpy as np\n",
    "from math import sqrt\n",
    "\n",
    "from sklearn.model_selection import train_test_split\n",
    "\n",
    "from sklearn.preprocessing import StandardScaler\n",
    "from sklearn.tree import DecisionTreeRegressor\n",
    "from sklearn.ensemble import RandomForestRegressor\n",
    "\n",
    "from sklearn.metrics import mean_squared_error\n",
    "from sklearn.metrics import mean_absolute_error"
   ]
  },
  {
   "cell_type": "code",
   "execution_count": 2,
   "metadata": {},
   "outputs": [],
   "source": [
    "df = pd.read_csv('data/small_feature_vectors.csv')\n",
    "y = np.array([0.0, 0.0, 0.0, 0.0, 0.0, 0.5, 0.5, 0.5, 0.5, 0.5, 1.0, 1.0, 1.0, 1.0, 1.0])\n",
    "X = df.drop([\"#id\"],  axis='columns')"
   ]
  },
  {
   "cell_type": "code",
   "execution_count": 3,
   "metadata": {},
   "outputs": [],
   "source": [
    "X_train, X_test, y_train, y_test = train_test_split(X, y, test_size=0.2, random_state=123)"
   ]
  },
  {
   "cell_type": "code",
   "execution_count": 4,
   "metadata": {},
   "outputs": [],
   "source": [
    "scaler = StandardScaler()\n",
    "train_scaled = scaler.fit_transform(X_train)\n",
    "test_scaled = scaler.transform(X_test)"
   ]
  },
  {
   "cell_type": "code",
   "execution_count": 5,
   "metadata": {},
   "outputs": [],
   "source": [
    "tree_model = DecisionTreeRegressor()\n",
    "rf_model = RandomForestRegressor()"
   ]
  },
  {
   "cell_type": "code",
   "execution_count": 6,
   "metadata": {},
   "outputs": [
    {
     "data": {
      "text/html": [
       "<style>#sk-container-id-1 {color: black;background-color: white;}#sk-container-id-1 pre{padding: 0;}#sk-container-id-1 div.sk-toggleable {background-color: white;}#sk-container-id-1 label.sk-toggleable__label {cursor: pointer;display: block;width: 100%;margin-bottom: 0;padding: 0.3em;box-sizing: border-box;text-align: center;}#sk-container-id-1 label.sk-toggleable__label-arrow:before {content: \"▸\";float: left;margin-right: 0.25em;color: #696969;}#sk-container-id-1 label.sk-toggleable__label-arrow:hover:before {color: black;}#sk-container-id-1 div.sk-estimator:hover label.sk-toggleable__label-arrow:before {color: black;}#sk-container-id-1 div.sk-toggleable__content {max-height: 0;max-width: 0;overflow: hidden;text-align: left;background-color: #f0f8ff;}#sk-container-id-1 div.sk-toggleable__content pre {margin: 0.2em;color: black;border-radius: 0.25em;background-color: #f0f8ff;}#sk-container-id-1 input.sk-toggleable__control:checked~div.sk-toggleable__content {max-height: 200px;max-width: 100%;overflow: auto;}#sk-container-id-1 input.sk-toggleable__control:checked~label.sk-toggleable__label-arrow:before {content: \"▾\";}#sk-container-id-1 div.sk-estimator input.sk-toggleable__control:checked~label.sk-toggleable__label {background-color: #d4ebff;}#sk-container-id-1 div.sk-label input.sk-toggleable__control:checked~label.sk-toggleable__label {background-color: #d4ebff;}#sk-container-id-1 input.sk-hidden--visually {border: 0;clip: rect(1px 1px 1px 1px);clip: rect(1px, 1px, 1px, 1px);height: 1px;margin: -1px;overflow: hidden;padding: 0;position: absolute;width: 1px;}#sk-container-id-1 div.sk-estimator {font-family: monospace;background-color: #f0f8ff;border: 1px dotted black;border-radius: 0.25em;box-sizing: border-box;margin-bottom: 0.5em;}#sk-container-id-1 div.sk-estimator:hover {background-color: #d4ebff;}#sk-container-id-1 div.sk-parallel-item::after {content: \"\";width: 100%;border-bottom: 1px solid gray;flex-grow: 1;}#sk-container-id-1 div.sk-label:hover label.sk-toggleable__label {background-color: #d4ebff;}#sk-container-id-1 div.sk-serial::before {content: \"\";position: absolute;border-left: 1px solid gray;box-sizing: border-box;top: 0;bottom: 0;left: 50%;z-index: 0;}#sk-container-id-1 div.sk-serial {display: flex;flex-direction: column;align-items: center;background-color: white;padding-right: 0.2em;padding-left: 0.2em;position: relative;}#sk-container-id-1 div.sk-item {position: relative;z-index: 1;}#sk-container-id-1 div.sk-parallel {display: flex;align-items: stretch;justify-content: center;background-color: white;position: relative;}#sk-container-id-1 div.sk-item::before, #sk-container-id-1 div.sk-parallel-item::before {content: \"\";position: absolute;border-left: 1px solid gray;box-sizing: border-box;top: 0;bottom: 0;left: 50%;z-index: -1;}#sk-container-id-1 div.sk-parallel-item {display: flex;flex-direction: column;z-index: 1;position: relative;background-color: white;}#sk-container-id-1 div.sk-parallel-item:first-child::after {align-self: flex-end;width: 50%;}#sk-container-id-1 div.sk-parallel-item:last-child::after {align-self: flex-start;width: 50%;}#sk-container-id-1 div.sk-parallel-item:only-child::after {width: 0;}#sk-container-id-1 div.sk-dashed-wrapped {border: 1px dashed gray;margin: 0 0.4em 0.5em 0.4em;box-sizing: border-box;padding-bottom: 0.4em;background-color: white;}#sk-container-id-1 div.sk-label label {font-family: monospace;font-weight: bold;display: inline-block;line-height: 1.2em;}#sk-container-id-1 div.sk-label-container {text-align: center;}#sk-container-id-1 div.sk-container {/* jupyter's `normalize.less` sets `[hidden] { display: none; }` but bootstrap.min.css set `[hidden] { display: none !important; }` so we also need the `!important` here to be able to override the default hidden behavior on the sphinx rendered scikit-learn.org. See: https://github.com/scikit-learn/scikit-learn/issues/21755 */display: inline-block !important;position: relative;}#sk-container-id-1 div.sk-text-repr-fallback {display: none;}</style><div id=\"sk-container-id-1\" class=\"sk-top-container\"><div class=\"sk-text-repr-fallback\"><pre>RandomForestRegressor()</pre><b>In a Jupyter environment, please rerun this cell to show the HTML representation or trust the notebook. <br />On GitHub, the HTML representation is unable to render, please try loading this page with nbviewer.org.</b></div><div class=\"sk-container\" hidden><div class=\"sk-item\"><div class=\"sk-estimator sk-toggleable\"><input class=\"sk-toggleable__control sk-hidden--visually\" id=\"sk-estimator-id-1\" type=\"checkbox\" checked><label for=\"sk-estimator-id-1\" class=\"sk-toggleable__label sk-toggleable__label-arrow\">RandomForestRegressor</label><div class=\"sk-toggleable__content\"><pre>RandomForestRegressor()</pre></div></div></div></div></div>"
      ],
      "text/plain": [
       "RandomForestRegressor()"
      ]
     },
     "execution_count": 6,
     "metadata": {},
     "output_type": "execute_result"
    }
   ],
   "source": [
    "tree_model.fit(train_scaled, y_train)\n",
    "rf_model.fit(train_scaled, y_train)"
   ]
  },
  {
   "cell_type": "code",
   "execution_count": 7,
   "metadata": {},
   "outputs": [],
   "source": [
    "tree_mse = mean_squared_error(y_train, tree_model.predict(train_scaled))\n",
    "tree_mae = mean_absolute_error(y_train, tree_model.predict(train_scaled))\n",
    "rf_mse = mean_squared_error(y_train, rf_model.predict(train_scaled))\n",
    "rf_mae = mean_absolute_error(y_train, rf_model.predict(train_scaled))"
   ]
  },
  {
   "cell_type": "code",
   "execution_count": 11,
   "metadata": {},
   "outputs": [
    {
     "data": {
      "text/plain": [
       "array([0. , 0.5, 0.5, 0.5, 1. , 0. , 0. , 0.5, 1. , 0. , 1. , 1. ])"
      ]
     },
     "execution_count": 11,
     "metadata": {},
     "output_type": "execute_result"
    }
   ],
   "source": [
    "tree_model.predict(train_scaled)"
   ]
  },
  {
   "cell_type": "code",
   "execution_count": 12,
   "metadata": {},
   "outputs": [
    {
     "data": {
      "text/plain": [
       "array([0. , 0.5, 0.5, 0.5, 1. , 0. , 0. , 0.5, 1. , 0. , 1. , 1. ])"
      ]
     },
     "execution_count": 12,
     "metadata": {},
     "output_type": "execute_result"
    }
   ],
   "source": [
    "y_train"
   ]
  },
  {
   "cell_type": "code",
   "execution_count": 8,
   "metadata": {},
   "outputs": [
    {
     "name": "stdout",
     "output_type": "stream",
     "text": [
      "Decision Tree training mse =  0.0  & mae =  0.0  & rmse =  0.0\n",
      "Random Forest training mse =  0.009708333333333334  & mae =  0.09000000000000001  & rmse =  0.09853087502571635\n"
     ]
    }
   ],
   "source": [
    "print(\"Decision Tree training mse = \",tree_mse,\" & mae = \",tree_mae,\" & rmse = \", sqrt(tree_mse))\n",
    "print(\"Random Forest training mse = \",rf_mse,\" & mae = \",rf_mae,\" & rmse = \", sqrt(rf_mse))"
   ]
  },
  {
   "cell_type": "code",
   "execution_count": 9,
   "metadata": {},
   "outputs": [],
   "source": [
    "tree_test_mse = mean_squared_error(y_test, tree_model.predict(test_scaled))\n",
    "tree_test_mae = mean_absolute_error(y_test, tree_model.predict(test_scaled))\n",
    "rf_test_mse = mean_squared_error(y_test, rf_model.predict(test_scaled))\n",
    "rf_test_mae = mean_absolute_error(y_test, rf_model.predict(test_scaled))"
   ]
  },
  {
   "cell_type": "code",
   "execution_count": 10,
   "metadata": {},
   "outputs": [
    {
     "name": "stdout",
     "output_type": "stream",
     "text": [
      "Decision Tree test mse =  0.0  & mae =  0.0  & rmse =  0.0\n",
      "Random Forest test mse =  0.028516666666666662  & mae =  0.15  & rmse =  0.16886878535320451\n"
     ]
    }
   ],
   "source": [
    "print(\"Decision Tree test mse = \",tree_test_mse,\" & mae = \",tree_test_mae,\" & rmse = \", sqrt(tree_test_mse))\n",
    "print(\"Random Forest test mse = \",rf_test_mse,\" & mae = \",rf_test_mae,\" & rmse = \", sqrt(rf_test_mse))"
   ]
  },
  {
   "cell_type": "markdown",
   "metadata": {},
   "source": [
    "## All Data:"
   ]
  },
  {
   "cell_type": "code",
   "execution_count": 13,
   "metadata": {},
   "outputs": [],
   "source": [
    "df_all = pd.read_csv('data/feature_df.csv')\n",
    "y_all = np.array(df_all[\"#label\"])\n",
    "X_all = df_all.drop([\"#id\", \"#label\"],  axis='columns')"
   ]
  },
  {
   "cell_type": "code",
   "execution_count": 14,
   "metadata": {},
   "outputs": [
    {
     "data": {
      "text/html": [
       "<div>\n",
       "<style scoped>\n",
       "    .dataframe tbody tr th:only-of-type {\n",
       "        vertical-align: middle;\n",
       "    }\n",
       "\n",
       "    .dataframe tbody tr th {\n",
       "        vertical-align: top;\n",
       "    }\n",
       "\n",
       "    .dataframe thead th {\n",
       "        text-align: right;\n",
       "    }\n",
       "</style>\n",
       "<table border=\"1\" class=\"dataframe\">\n",
       "  <thead>\n",
       "    <tr style=\"text-align: right;\">\n",
       "      <th></th>\n",
       "      <th>#label</th>\n",
       "      <th>#id</th>\n",
       "      <th>average_sentence_length_in_token</th>\n",
       "      <th>average_characters_per_word</th>\n",
       "      <th>average_syllables_per_word</th>\n",
       "      <th>text_length_in_token</th>\n",
       "      <th>average_number_of_noun_phrases_per_sentence</th>\n",
       "      <th>average_heights</th>\n",
       "      <th>average_number_of_subordinate_clauses_per_sentence</th>\n",
       "      <th>average_count_of_sentences_with_verb_as_root</th>\n",
       "      <th>...</th>\n",
       "      <th>POS_tag_proportion_for_numerales</th>\n",
       "      <th>POS_tag_proportion_for_adpositions</th>\n",
       "      <th>ttr</th>\n",
       "      <th>lexical_complexity_score</th>\n",
       "      <th>average_number_of_verbs_in_sentence</th>\n",
       "      <th>average_count_of_pronouns_per_sentence</th>\n",
       "      <th>average_count_of_definite_articles_per_sentence</th>\n",
       "      <th>average_semantic_similarity_of_all_nouns</th>\n",
       "      <th>average_semantic_similarity_of_all_verbs</th>\n",
       "      <th>average_semantic_similarity_of_all_adjectives\\r\\n</th>\n",
       "    </tr>\n",
       "  </thead>\n",
       "  <tbody>\n",
       "    <tr>\n",
       "      <th>0</th>\n",
       "      <td>0.0</td>\n",
       "      <td>miniklexi_0</td>\n",
       "      <td>7.285714</td>\n",
       "      <td>4.862745</td>\n",
       "      <td>1.627451</td>\n",
       "      <td>102</td>\n",
       "      <td>2.214286</td>\n",
       "      <td>3.857143</td>\n",
       "      <td>0.071429</td>\n",
       "      <td>0.357143</td>\n",
       "      <td>...</td>\n",
       "      <td>0.176471</td>\n",
       "      <td>0.137255</td>\n",
       "      <td>0.683168</td>\n",
       "      <td>7.406711</td>\n",
       "      <td>1.285714</td>\n",
       "      <td>0.642857</td>\n",
       "      <td>0.142857</td>\n",
       "      <td>0.164365</td>\n",
       "      <td>0.339265</td>\n",
       "      <td>0.329539</td>\n",
       "    </tr>\n",
       "    <tr>\n",
       "      <th>1</th>\n",
       "      <td>0.0</td>\n",
       "      <td>miniklexi_1</td>\n",
       "      <td>8.090909</td>\n",
       "      <td>4.494382</td>\n",
       "      <td>1.539326</td>\n",
       "      <td>89</td>\n",
       "      <td>2.454545</td>\n",
       "      <td>4.363636</td>\n",
       "      <td>0.000000</td>\n",
       "      <td>0.363636</td>\n",
       "      <td>...</td>\n",
       "      <td>0.157303</td>\n",
       "      <td>0.146067</td>\n",
       "      <td>0.590909</td>\n",
       "      <td>7.652426</td>\n",
       "      <td>0.909091</td>\n",
       "      <td>0.090909</td>\n",
       "      <td>1.454545</td>\n",
       "      <td>0.207224</td>\n",
       "      <td>0.405196</td>\n",
       "      <td>0.241409</td>\n",
       "    </tr>\n",
       "    <tr>\n",
       "      <th>2</th>\n",
       "      <td>0.0</td>\n",
       "      <td>miniklexi_2</td>\n",
       "      <td>7.187500</td>\n",
       "      <td>4.521739</td>\n",
       "      <td>1.634783</td>\n",
       "      <td>115</td>\n",
       "      <td>2.750000</td>\n",
       "      <td>3.500000</td>\n",
       "      <td>0.312500</td>\n",
       "      <td>0.687500</td>\n",
       "      <td>...</td>\n",
       "      <td>0.208696</td>\n",
       "      <td>0.113043</td>\n",
       "      <td>0.517544</td>\n",
       "      <td>8.269501</td>\n",
       "      <td>0.875000</td>\n",
       "      <td>0.375000</td>\n",
       "      <td>1.312500</td>\n",
       "      <td>0.257176</td>\n",
       "      <td>0.401604</td>\n",
       "      <td>0.011698</td>\n",
       "    </tr>\n",
       "    <tr>\n",
       "      <th>3</th>\n",
       "      <td>0.0</td>\n",
       "      <td>miniklexi_3</td>\n",
       "      <td>7.200000</td>\n",
       "      <td>5.000000</td>\n",
       "      <td>1.743056</td>\n",
       "      <td>144</td>\n",
       "      <td>2.000000</td>\n",
       "      <td>3.850000</td>\n",
       "      <td>0.150000</td>\n",
       "      <td>0.350000</td>\n",
       "      <td>...</td>\n",
       "      <td>0.208333</td>\n",
       "      <td>0.090278</td>\n",
       "      <td>0.531469</td>\n",
       "      <td>7.802380</td>\n",
       "      <td>1.000000</td>\n",
       "      <td>0.600000</td>\n",
       "      <td>0.600000</td>\n",
       "      <td>0.249245</td>\n",
       "      <td>0.449268</td>\n",
       "      <td>0.249822</td>\n",
       "    </tr>\n",
       "    <tr>\n",
       "      <th>4</th>\n",
       "      <td>0.0</td>\n",
       "      <td>miniklexi_4</td>\n",
       "      <td>6.235294</td>\n",
       "      <td>5.132075</td>\n",
       "      <td>1.877358</td>\n",
       "      <td>106</td>\n",
       "      <td>2.176471</td>\n",
       "      <td>3.470588</td>\n",
       "      <td>0.117647</td>\n",
       "      <td>0.470588</td>\n",
       "      <td>...</td>\n",
       "      <td>0.188679</td>\n",
       "      <td>0.122642</td>\n",
       "      <td>0.704762</td>\n",
       "      <td>7.951559</td>\n",
       "      <td>0.882353</td>\n",
       "      <td>0.529412</td>\n",
       "      <td>0.647059</td>\n",
       "      <td>0.161453</td>\n",
       "      <td>0.386161</td>\n",
       "      <td>0.202404</td>\n",
       "    </tr>\n",
       "  </tbody>\n",
       "</table>\n",
       "<p>5 rows × 29 columns</p>\n",
       "</div>"
      ],
      "text/plain": [
       "   #label          #id  average_sentence_length_in_token  \\\n",
       "0     0.0  miniklexi_0                          7.285714   \n",
       "1     0.0  miniklexi_1                          8.090909   \n",
       "2     0.0  miniklexi_2                          7.187500   \n",
       "3     0.0  miniklexi_3                          7.200000   \n",
       "4     0.0  miniklexi_4                          6.235294   \n",
       "\n",
       "   average_characters_per_word  average_syllables_per_word  \\\n",
       "0                     4.862745                    1.627451   \n",
       "1                     4.494382                    1.539326   \n",
       "2                     4.521739                    1.634783   \n",
       "3                     5.000000                    1.743056   \n",
       "4                     5.132075                    1.877358   \n",
       "\n",
       "   text_length_in_token  average_number_of_noun_phrases_per_sentence  \\\n",
       "0                   102                                     2.214286   \n",
       "1                    89                                     2.454545   \n",
       "2                   115                                     2.750000   \n",
       "3                   144                                     2.000000   \n",
       "4                   106                                     2.176471   \n",
       "\n",
       "   average_heights  average_number_of_subordinate_clauses_per_sentence  \\\n",
       "0         3.857143                                           0.071429    \n",
       "1         4.363636                                           0.000000    \n",
       "2         3.500000                                           0.312500    \n",
       "3         3.850000                                           0.150000    \n",
       "4         3.470588                                           0.117647    \n",
       "\n",
       "   average_count_of_sentences_with_verb_as_root  ...  \\\n",
       "0                                      0.357143  ...   \n",
       "1                                      0.363636  ...   \n",
       "2                                      0.687500  ...   \n",
       "3                                      0.350000  ...   \n",
       "4                                      0.470588  ...   \n",
       "\n",
       "   POS_tag_proportion_for_numerales  POS_tag_proportion_for_adpositions  \\\n",
       "0                          0.176471                            0.137255   \n",
       "1                          0.157303                            0.146067   \n",
       "2                          0.208696                            0.113043   \n",
       "3                          0.208333                            0.090278   \n",
       "4                          0.188679                            0.122642   \n",
       "\n",
       "        ttr  lexical_complexity_score  average_number_of_verbs_in_sentence  \\\n",
       "0  0.683168                  7.406711                             1.285714   \n",
       "1  0.590909                  7.652426                             0.909091   \n",
       "2  0.517544                  8.269501                             0.875000   \n",
       "3  0.531469                  7.802380                             1.000000   \n",
       "4  0.704762                  7.951559                             0.882353   \n",
       "\n",
       "   average_count_of_pronouns_per_sentence  \\\n",
       "0                                0.642857   \n",
       "1                                0.090909   \n",
       "2                                0.375000   \n",
       "3                                0.600000   \n",
       "4                                0.529412   \n",
       "\n",
       "   average_count_of_definite_articles_per_sentence  \\\n",
       "0                                         0.142857   \n",
       "1                                         1.454545   \n",
       "2                                         1.312500   \n",
       "3                                         0.600000   \n",
       "4                                         0.647059   \n",
       "\n",
       "   average_semantic_similarity_of_all_nouns  \\\n",
       "0                                  0.164365   \n",
       "1                                  0.207224   \n",
       "2                                  0.257176   \n",
       "3                                  0.249245   \n",
       "4                                  0.161453   \n",
       "\n",
       "   average_semantic_similarity_of_all_verbs  \\\n",
       "0                                  0.339265   \n",
       "1                                  0.405196   \n",
       "2                                  0.401604   \n",
       "3                                  0.449268   \n",
       "4                                  0.386161   \n",
       "\n",
       "   average_semantic_similarity_of_all_adjectives\\r\\n  \n",
       "0                                           0.329539  \n",
       "1                                           0.241409  \n",
       "2                                           0.011698  \n",
       "3                                           0.249822  \n",
       "4                                           0.202404  \n",
       "\n",
       "[5 rows x 29 columns]"
      ]
     },
     "execution_count": 14,
     "metadata": {},
     "output_type": "execute_result"
    }
   ],
   "source": [
    "df_all.head()"
   ]
  },
  {
   "cell_type": "code",
   "execution_count": 23,
   "metadata": {},
   "outputs": [],
   "source": [
    "X_train_all, X_test_all, y_train_all, y_test_all = train_test_split(X_all, y_all, test_size=0.2, random_state=123)"
   ]
  },
  {
   "cell_type": "code",
   "execution_count": 24,
   "metadata": {},
   "outputs": [],
   "source": [
    "all_scaler = StandardScaler()\n",
    "all_train_scaled = all_scaler.fit_transform(X_train_all)\n",
    "all_test_scaled = all_scaler.transform(X_test_all)"
   ]
  },
  {
   "cell_type": "code",
   "execution_count": 25,
   "metadata": {},
   "outputs": [],
   "source": [
    "all_tree_model = DecisionTreeRegressor()\n",
    "all_rf_model = RandomForestRegressor()"
   ]
  },
  {
   "cell_type": "code",
   "execution_count": 26,
   "metadata": {},
   "outputs": [
    {
     "data": {
      "text/html": [
       "<style>#sk-container-id-3 {color: black;background-color: white;}#sk-container-id-3 pre{padding: 0;}#sk-container-id-3 div.sk-toggleable {background-color: white;}#sk-container-id-3 label.sk-toggleable__label {cursor: pointer;display: block;width: 100%;margin-bottom: 0;padding: 0.3em;box-sizing: border-box;text-align: center;}#sk-container-id-3 label.sk-toggleable__label-arrow:before {content: \"▸\";float: left;margin-right: 0.25em;color: #696969;}#sk-container-id-3 label.sk-toggleable__label-arrow:hover:before {color: black;}#sk-container-id-3 div.sk-estimator:hover label.sk-toggleable__label-arrow:before {color: black;}#sk-container-id-3 div.sk-toggleable__content {max-height: 0;max-width: 0;overflow: hidden;text-align: left;background-color: #f0f8ff;}#sk-container-id-3 div.sk-toggleable__content pre {margin: 0.2em;color: black;border-radius: 0.25em;background-color: #f0f8ff;}#sk-container-id-3 input.sk-toggleable__control:checked~div.sk-toggleable__content {max-height: 200px;max-width: 100%;overflow: auto;}#sk-container-id-3 input.sk-toggleable__control:checked~label.sk-toggleable__label-arrow:before {content: \"▾\";}#sk-container-id-3 div.sk-estimator input.sk-toggleable__control:checked~label.sk-toggleable__label {background-color: #d4ebff;}#sk-container-id-3 div.sk-label input.sk-toggleable__control:checked~label.sk-toggleable__label {background-color: #d4ebff;}#sk-container-id-3 input.sk-hidden--visually {border: 0;clip: rect(1px 1px 1px 1px);clip: rect(1px, 1px, 1px, 1px);height: 1px;margin: -1px;overflow: hidden;padding: 0;position: absolute;width: 1px;}#sk-container-id-3 div.sk-estimator {font-family: monospace;background-color: #f0f8ff;border: 1px dotted black;border-radius: 0.25em;box-sizing: border-box;margin-bottom: 0.5em;}#sk-container-id-3 div.sk-estimator:hover {background-color: #d4ebff;}#sk-container-id-3 div.sk-parallel-item::after {content: \"\";width: 100%;border-bottom: 1px solid gray;flex-grow: 1;}#sk-container-id-3 div.sk-label:hover label.sk-toggleable__label {background-color: #d4ebff;}#sk-container-id-3 div.sk-serial::before {content: \"\";position: absolute;border-left: 1px solid gray;box-sizing: border-box;top: 0;bottom: 0;left: 50%;z-index: 0;}#sk-container-id-3 div.sk-serial {display: flex;flex-direction: column;align-items: center;background-color: white;padding-right: 0.2em;padding-left: 0.2em;position: relative;}#sk-container-id-3 div.sk-item {position: relative;z-index: 1;}#sk-container-id-3 div.sk-parallel {display: flex;align-items: stretch;justify-content: center;background-color: white;position: relative;}#sk-container-id-3 div.sk-item::before, #sk-container-id-3 div.sk-parallel-item::before {content: \"\";position: absolute;border-left: 1px solid gray;box-sizing: border-box;top: 0;bottom: 0;left: 50%;z-index: -1;}#sk-container-id-3 div.sk-parallel-item {display: flex;flex-direction: column;z-index: 1;position: relative;background-color: white;}#sk-container-id-3 div.sk-parallel-item:first-child::after {align-self: flex-end;width: 50%;}#sk-container-id-3 div.sk-parallel-item:last-child::after {align-self: flex-start;width: 50%;}#sk-container-id-3 div.sk-parallel-item:only-child::after {width: 0;}#sk-container-id-3 div.sk-dashed-wrapped {border: 1px dashed gray;margin: 0 0.4em 0.5em 0.4em;box-sizing: border-box;padding-bottom: 0.4em;background-color: white;}#sk-container-id-3 div.sk-label label {font-family: monospace;font-weight: bold;display: inline-block;line-height: 1.2em;}#sk-container-id-3 div.sk-label-container {text-align: center;}#sk-container-id-3 div.sk-container {/* jupyter's `normalize.less` sets `[hidden] { display: none; }` but bootstrap.min.css set `[hidden] { display: none !important; }` so we also need the `!important` here to be able to override the default hidden behavior on the sphinx rendered scikit-learn.org. See: https://github.com/scikit-learn/scikit-learn/issues/21755 */display: inline-block !important;position: relative;}#sk-container-id-3 div.sk-text-repr-fallback {display: none;}</style><div id=\"sk-container-id-3\" class=\"sk-top-container\"><div class=\"sk-text-repr-fallback\"><pre>RandomForestRegressor()</pre><b>In a Jupyter environment, please rerun this cell to show the HTML representation or trust the notebook. <br />On GitHub, the HTML representation is unable to render, please try loading this page with nbviewer.org.</b></div><div class=\"sk-container\" hidden><div class=\"sk-item\"><div class=\"sk-estimator sk-toggleable\"><input class=\"sk-toggleable__control sk-hidden--visually\" id=\"sk-estimator-id-3\" type=\"checkbox\" checked><label for=\"sk-estimator-id-3\" class=\"sk-toggleable__label sk-toggleable__label-arrow\">RandomForestRegressor</label><div class=\"sk-toggleable__content\"><pre>RandomForestRegressor()</pre></div></div></div></div></div>"
      ],
      "text/plain": [
       "RandomForestRegressor()"
      ]
     },
     "execution_count": 26,
     "metadata": {},
     "output_type": "execute_result"
    }
   ],
   "source": [
    "all_tree_model.fit(all_train_scaled, y_train_all)\n",
    "all_rf_model.fit(all_train_scaled, y_train_all)"
   ]
  },
  {
   "cell_type": "code",
   "execution_count": 27,
   "metadata": {},
   "outputs": [],
   "source": [
    "all_tree_mse = mean_squared_error(y_train_all, all_tree_model.predict(all_train_scaled))\n",
    "all_tree_mae = mean_absolute_error(y_train_all, all_tree_model.predict(all_train_scaled))\n",
    "all_rf_mse = mean_squared_error(y_train_all, all_rf_model.predict(all_train_scaled))\n",
    "all_rf_mae = mean_absolute_error(y_train_all, all_rf_model.predict(all_train_scaled))"
   ]
  },
  {
   "cell_type": "code",
   "execution_count": 29,
   "metadata": {},
   "outputs": [],
   "source": [
    "#all_tree_model.predict(all_train_scaled)"
   ]
  },
  {
   "cell_type": "code",
   "execution_count": 30,
   "metadata": {},
   "outputs": [
    {
     "name": "stdout",
     "output_type": "stream",
     "text": [
      "Decision Tree training mse =  0.0  & mae =  0.0  & rmse =  0.0\n",
      "Random Forest training mse =  0.0015783898305084748  & mae =  0.015593220338983055  & rmse =  0.03972895456098077\n"
     ]
    }
   ],
   "source": [
    "print(\"Decision Tree training mse = \",all_tree_mse,\" & mae = \",all_tree_mae,\" & rmse = \", sqrt(all_tree_mse))\n",
    "print(\"Random Forest training mse = \",all_rf_mse,\" & mae = \",all_rf_mae,\" & rmse = \", sqrt(all_rf_mse))"
   ]
  },
  {
   "cell_type": "code",
   "execution_count": 31,
   "metadata": {},
   "outputs": [],
   "source": [
    "all_tree_test_mse = mean_squared_error(y_test_all, all_tree_model.predict(all_test_scaled))\n",
    "all_tree_test_mae = mean_absolute_error(y_test_all, all_tree_model.predict(all_test_scaled))\n",
    "all_rf_test_mse = mean_squared_error(y_test_all, all_rf_model.predict(all_test_scaled))\n",
    "all_rf_test_mae = mean_absolute_error(y_test_all, all_rf_model.predict(all_test_scaled))"
   ]
  },
  {
   "cell_type": "code",
   "execution_count": 32,
   "metadata": {},
   "outputs": [
    {
     "name": "stdout",
     "output_type": "stream",
     "text": [
      "Decision Tree test mse =  0.01694915254237288  & mae =  0.02824858757062147  & rmse =  0.13018891098082386\n",
      "Random Forest test mse =  0.009920903954802262  & mae =  0.041186440677966105  & rmse =  0.0996037346428449\n"
     ]
    }
   ],
   "source": [
    "print(\"Decision Tree test mse = \",all_tree_test_mse,\" & mae = \",all_tree_test_mae,\" & rmse = \", sqrt(all_tree_test_mse))\n",
    "print(\"Random Forest test mse = \",all_rf_test_mse,\" & mae = \",all_rf_test_mae,\" & rmse = \", sqrt(all_rf_test_mse))"
   ]
  },
  {
   "cell_type": "code",
   "execution_count": null,
   "metadata": {},
   "outputs": [],
   "source": []
  }
 ],
 "metadata": {
  "kernelspec": {
   "display_name": "Python 3",
   "language": "python",
   "name": "python3"
  },
  "language_info": {
   "codemirror_mode": {
    "name": "ipython",
    "version": 3
   },
   "file_extension": ".py",
   "mimetype": "text/x-python",
   "name": "python",
   "nbconvert_exporter": "python",
   "pygments_lexer": "ipython3",
   "version": "3.8.0"
  }
 },
 "nbformat": 4,
 "nbformat_minor": 4
}
