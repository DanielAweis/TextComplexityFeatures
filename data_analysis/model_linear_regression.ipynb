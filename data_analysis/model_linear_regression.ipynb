{
 "cells": [
  {
   "cell_type": "markdown",
   "metadata": {},
   "source": [
    "# Lineare Regression \n",
    "\n",
    "Lineare Regression ist ein statistisches Verfahren zur Beschreibung der Beziehung zwischen einer abhängigen Variable (y) und einer oder mehreren unabhängigen Variablen (X). Sie zielt darauf ab, eine lineare Beziehung zwischen den Variablen zu modellieren, indem sie eine mathematische Funktion verwendet, die die unabhängigen Variablen auf die abhängige Variable abbildet. Das Ziel ist es, eine Hyperebene zu finden, die die Trainingsdaten am besten beschreibt und in der Lage ist, einen kontinuierlichen Wert für neue Instanzen vorherzusagen. Je näher die die Hyperebene an den Instanzen liegt, desto besser ist das Modell. Das Ziel der Linearen Regression besteht darin, die Koeffizienten so anzupassen, dass sie die Residuen minimiert, das heißt, die Differenz zwischen den beobachteten Werten und den vorhergesagten Werten der abhängigen Variable. (Bishop and Nasrabadi, 2006)"
   ]
  },
  {
   "cell_type": "code",
   "execution_count": 1,
   "metadata": {},
   "outputs": [],
   "source": [
    "import pandas as pd\n",
    "import matplotlib.pyplot as plt\n",
    "import numpy as np\n",
    "from sklearn.model_selection import train_test_split\n",
    "from sklearn.preprocessing import StandardScaler\n",
    "from sklearn.linear_model import LinearRegression\n",
    "from sklearn.metrics import mean_squared_error\n",
    "from sklearn.metrics import mean_absolute_error\n",
    "from sklearn.metrics import precision_recall_fscore_support\n",
    "from sklearn.model_selection import cross_val_score\n",
    "from math import sqrt"
   ]
  },
  {
   "cell_type": "code",
   "execution_count": 2,
   "metadata": {},
   "outputs": [],
   "source": [
    "lexica_corpus = pd.read_csv(\"text_complexity_lexica_corpus.csv\").drop([\"Unnamed: 0\"],  axis='columns')\n",
    "lexica_corpus_df = lexica_corpus.drop([\"#id\"],  axis='columns')\n",
    "#df.to_csv(\"text_complexity_lexica_corpus.csv\")\n"
   ]
  },
  {
   "cell_type": "markdown",
   "metadata": {},
   "source": [
    "## Baseline Textkomplexitätsmerkmale"
   ]
  },
  {
   "cell_type": "code",
   "execution_count": 3,
   "metadata": {},
   "outputs": [
    {
     "data": {
      "text/html": [
       "<div>\n",
       "<style scoped>\n",
       "    .dataframe tbody tr th:only-of-type {\n",
       "        vertical-align: middle;\n",
       "    }\n",
       "\n",
       "    .dataframe tbody tr th {\n",
       "        vertical-align: top;\n",
       "    }\n",
       "\n",
       "    .dataframe thead th {\n",
       "        text-align: right;\n",
       "    }\n",
       "</style>\n",
       "<table border=\"1\" class=\"dataframe\">\n",
       "  <thead>\n",
       "    <tr style=\"text-align: right;\">\n",
       "      <th></th>\n",
       "      <th>#label</th>\n",
       "      <th>sentence_length</th>\n",
       "      <th>characters_per_word</th>\n",
       "      <th>syllables_per_word</th>\n",
       "      <th>text_length</th>\n",
       "    </tr>\n",
       "  </thead>\n",
       "  <tbody>\n",
       "    <tr>\n",
       "      <th>0</th>\n",
       "      <td>0.0</td>\n",
       "      <td>7.285714</td>\n",
       "      <td>4.862745</td>\n",
       "      <td>1.627451</td>\n",
       "      <td>102</td>\n",
       "    </tr>\n",
       "    <tr>\n",
       "      <th>1</th>\n",
       "      <td>0.0</td>\n",
       "      <td>8.090909</td>\n",
       "      <td>4.494382</td>\n",
       "      <td>1.539326</td>\n",
       "      <td>89</td>\n",
       "    </tr>\n",
       "    <tr>\n",
       "      <th>2</th>\n",
       "      <td>0.0</td>\n",
       "      <td>7.187500</td>\n",
       "      <td>4.521739</td>\n",
       "      <td>1.634783</td>\n",
       "      <td>115</td>\n",
       "    </tr>\n",
       "    <tr>\n",
       "      <th>3</th>\n",
       "      <td>0.0</td>\n",
       "      <td>7.200000</td>\n",
       "      <td>5.000000</td>\n",
       "      <td>1.743056</td>\n",
       "      <td>144</td>\n",
       "    </tr>\n",
       "    <tr>\n",
       "      <th>4</th>\n",
       "      <td>0.0</td>\n",
       "      <td>6.235294</td>\n",
       "      <td>5.132075</td>\n",
       "      <td>1.877358</td>\n",
       "      <td>106</td>\n",
       "    </tr>\n",
       "  </tbody>\n",
       "</table>\n",
       "</div>"
      ],
      "text/plain": [
       "   #label  sentence_length  characters_per_word  syllables_per_word  \\\n",
       "0     0.0         7.285714             4.862745            1.627451   \n",
       "1     0.0         8.090909             4.494382            1.539326   \n",
       "2     0.0         7.187500             4.521739            1.634783   \n",
       "3     0.0         7.200000             5.000000            1.743056   \n",
       "4     0.0         6.235294             5.132075            1.877358   \n",
       "\n",
       "   text_length  \n",
       "0          102  \n",
       "1           89  \n",
       "2          115  \n",
       "3          144  \n",
       "4          106  "
      ]
     },
     "execution_count": 3,
     "metadata": {},
     "output_type": "execute_result"
    }
   ],
   "source": [
    "baseline_df = lexica_corpus_df[[\"#label\", \"sentence_length\", \"characters_per_word\", \"syllables_per_word\", \"text_length\"]]\n",
    "baseline_df.head()"
   ]
  },
  {
   "cell_type": "markdown",
   "metadata": {},
   "source": [
    "### Train und Test Daten"
   ]
  },
  {
   "cell_type": "code",
   "execution_count": 4,
   "metadata": {},
   "outputs": [
    {
     "name": "stdout",
     "output_type": "stream",
     "text": [
      "X_train_baseline shape:  (708, 4)\n",
      "X_test_baseline shape:  (177, 4)\n",
      "y_train_baseline shape:  (708,)\n",
      "y_test_baseline shape:  (177,)\n"
     ]
    }
   ],
   "source": [
    "y_baseline = baseline_df[\"#label\"]\n",
    "X_baseline = baseline_df.drop([\"#label\"],  axis='columns')\n",
    "\n",
    "X_train_baseline, X_test_baseline, y_train_baseline, y_test_baseline = train_test_split(X_baseline, y_baseline, test_size=0.2, random_state=123)\n",
    "\n",
    "print(\"X_train_baseline shape: \", X_train_baseline.shape)\n",
    "print(\"X_test_baseline shape: \", X_test_baseline.shape)\n",
    "print(\"y_train_baseline shape: \", y_train_baseline.shape)\n",
    "print(\"y_test_baseline shape: \", y_test_baseline.shape)"
   ]
  },
  {
   "cell_type": "markdown",
   "metadata": {},
   "source": [
    "### Standardisierung\n",
    "Standardisierung zur Normalisierung der Daten, indem die Daten so skaliert werden, dass sie einen Mittelwert von Null und eine Standardabweichung von Eins haben. Dies verhindert, dass Datenpunkte, die eine viel größere Skala haben als andere, das Modell dominieren."
   ]
  },
  {
   "cell_type": "code",
   "execution_count": 5,
   "metadata": {},
   "outputs": [],
   "source": [
    "scaler_bl = StandardScaler()\n",
    "train_scaled_baseline = scaler_bl.fit_transform(X_train_baseline)\n",
    "test_scaled_baseline = scaler_bl.transform(X_test_baseline)"
   ]
  },
  {
   "cell_type": "markdown",
   "metadata": {},
   "source": [
    "### Lineare Regression"
   ]
  },
  {
   "cell_type": "code",
   "execution_count": 6,
   "metadata": {},
   "outputs": [
    {
     "data": {
      "text/html": [
       "<style>#sk-container-id-1 {color: black;background-color: white;}#sk-container-id-1 pre{padding: 0;}#sk-container-id-1 div.sk-toggleable {background-color: white;}#sk-container-id-1 label.sk-toggleable__label {cursor: pointer;display: block;width: 100%;margin-bottom: 0;padding: 0.3em;box-sizing: border-box;text-align: center;}#sk-container-id-1 label.sk-toggleable__label-arrow:before {content: \"▸\";float: left;margin-right: 0.25em;color: #696969;}#sk-container-id-1 label.sk-toggleable__label-arrow:hover:before {color: black;}#sk-container-id-1 div.sk-estimator:hover label.sk-toggleable__label-arrow:before {color: black;}#sk-container-id-1 div.sk-toggleable__content {max-height: 0;max-width: 0;overflow: hidden;text-align: left;background-color: #f0f8ff;}#sk-container-id-1 div.sk-toggleable__content pre {margin: 0.2em;color: black;border-radius: 0.25em;background-color: #f0f8ff;}#sk-container-id-1 input.sk-toggleable__control:checked~div.sk-toggleable__content {max-height: 200px;max-width: 100%;overflow: auto;}#sk-container-id-1 input.sk-toggleable__control:checked~label.sk-toggleable__label-arrow:before {content: \"▾\";}#sk-container-id-1 div.sk-estimator input.sk-toggleable__control:checked~label.sk-toggleable__label {background-color: #d4ebff;}#sk-container-id-1 div.sk-label input.sk-toggleable__control:checked~label.sk-toggleable__label {background-color: #d4ebff;}#sk-container-id-1 input.sk-hidden--visually {border: 0;clip: rect(1px 1px 1px 1px);clip: rect(1px, 1px, 1px, 1px);height: 1px;margin: -1px;overflow: hidden;padding: 0;position: absolute;width: 1px;}#sk-container-id-1 div.sk-estimator {font-family: monospace;background-color: #f0f8ff;border: 1px dotted black;border-radius: 0.25em;box-sizing: border-box;margin-bottom: 0.5em;}#sk-container-id-1 div.sk-estimator:hover {background-color: #d4ebff;}#sk-container-id-1 div.sk-parallel-item::after {content: \"\";width: 100%;border-bottom: 1px solid gray;flex-grow: 1;}#sk-container-id-1 div.sk-label:hover label.sk-toggleable__label {background-color: #d4ebff;}#sk-container-id-1 div.sk-serial::before {content: \"\";position: absolute;border-left: 1px solid gray;box-sizing: border-box;top: 0;bottom: 0;left: 50%;z-index: 0;}#sk-container-id-1 div.sk-serial {display: flex;flex-direction: column;align-items: center;background-color: white;padding-right: 0.2em;padding-left: 0.2em;position: relative;}#sk-container-id-1 div.sk-item {position: relative;z-index: 1;}#sk-container-id-1 div.sk-parallel {display: flex;align-items: stretch;justify-content: center;background-color: white;position: relative;}#sk-container-id-1 div.sk-item::before, #sk-container-id-1 div.sk-parallel-item::before {content: \"\";position: absolute;border-left: 1px solid gray;box-sizing: border-box;top: 0;bottom: 0;left: 50%;z-index: -1;}#sk-container-id-1 div.sk-parallel-item {display: flex;flex-direction: column;z-index: 1;position: relative;background-color: white;}#sk-container-id-1 div.sk-parallel-item:first-child::after {align-self: flex-end;width: 50%;}#sk-container-id-1 div.sk-parallel-item:last-child::after {align-self: flex-start;width: 50%;}#sk-container-id-1 div.sk-parallel-item:only-child::after {width: 0;}#sk-container-id-1 div.sk-dashed-wrapped {border: 1px dashed gray;margin: 0 0.4em 0.5em 0.4em;box-sizing: border-box;padding-bottom: 0.4em;background-color: white;}#sk-container-id-1 div.sk-label label {font-family: monospace;font-weight: bold;display: inline-block;line-height: 1.2em;}#sk-container-id-1 div.sk-label-container {text-align: center;}#sk-container-id-1 div.sk-container {/* jupyter's `normalize.less` sets `[hidden] { display: none; }` but bootstrap.min.css set `[hidden] { display: none !important; }` so we also need the `!important` here to be able to override the default hidden behavior on the sphinx rendered scikit-learn.org. See: https://github.com/scikit-learn/scikit-learn/issues/21755 */display: inline-block !important;position: relative;}#sk-container-id-1 div.sk-text-repr-fallback {display: none;}</style><div id=\"sk-container-id-1\" class=\"sk-top-container\"><div class=\"sk-text-repr-fallback\"><pre>LinearRegression()</pre><b>In a Jupyter environment, please rerun this cell to show the HTML representation or trust the notebook. <br />On GitHub, the HTML representation is unable to render, please try loading this page with nbviewer.org.</b></div><div class=\"sk-container\" hidden><div class=\"sk-item\"><div class=\"sk-estimator sk-toggleable\"><input class=\"sk-toggleable__control sk-hidden--visually\" id=\"sk-estimator-id-1\" type=\"checkbox\" checked><label for=\"sk-estimator-id-1\" class=\"sk-toggleable__label sk-toggleable__label-arrow\">LinearRegression</label><div class=\"sk-toggleable__content\"><pre>LinearRegression()</pre></div></div></div></div></div>"
      ],
      "text/plain": [
       "LinearRegression()"
      ]
     },
     "execution_count": 6,
     "metadata": {},
     "output_type": "execute_result"
    }
   ],
   "source": [
    "model_bl = LinearRegression()\n",
    "model_bl.fit(train_scaled_baseline, y_train_baseline)"
   ]
  },
  {
   "cell_type": "markdown",
   "metadata": {},
   "source": [
    "### Model Evaluation"
   ]
  },
  {
   "cell_type": "code",
   "execution_count": 7,
   "metadata": {},
   "outputs": [
    {
     "name": "stdout",
     "output_type": "stream",
     "text": [
      "mse_baseline =  0.03685208023090866  & mae_baseline =  0.14821594137849964  & rmse_baseline =  0.19196895642501333\n"
     ]
    }
   ],
   "source": [
    "mse_baseline = mean_squared_error(y_train_baseline, model_bl.predict(train_scaled_baseline))\n",
    "mae_baseline = mean_absolute_error(y_train_baseline, model_bl.predict(train_scaled_baseline))\n",
    "print(\"mse_baseline = \",mse_baseline,\" & mae_baseline = \",mae_baseline,\" & rmse_baseline = \", sqrt(mse_baseline))"
   ]
  },
  {
   "cell_type": "code",
   "execution_count": 8,
   "metadata": {},
   "outputs": [
    {
     "name": "stdout",
     "output_type": "stream",
     "text": [
      "mse_baseline =  0.038843457378416706  & mae_baseline =  0.1543669159060447  & rmse_baseline =  0.1970874358715357\n"
     ]
    }
   ],
   "source": [
    "test_mse_baseline = mean_squared_error(y_test_baseline, model_bl.predict(test_scaled_baseline))\n",
    "test_mae_baseline = mean_absolute_error(y_test_baseline, model_bl.predict(test_scaled_baseline))\n",
    "print(\"mse_baseline = \",test_mse_baseline,\" & mae_baseline = \",test_mae_baseline,\" & rmse_baseline = \", sqrt(test_mse_baseline))"
   ]
  },
  {
   "cell_type": "code",
   "execution_count": 9,
   "metadata": {},
   "outputs": [
    {
     "name": "stdout",
     "output_type": "stream",
     "text": [
      "Mean squared error: 0.05364619107960049\n"
     ]
    }
   ],
   "source": [
    "scores_bl = cross_val_score(model_bl, X_baseline, y_baseline, cv=5, scoring='neg_mean_squared_error')\n",
    "\n",
    "# durchschnittliche mittlere quadratische Abweichung\n",
    "mse_mean_bl = -scores_bl.mean()\n",
    "print(\"Mean squared error:\", mse_mean_bl)"
   ]
  },
  {
   "cell_type": "markdown",
   "metadata": {},
   "source": [
    "## Alle Textkomplexitätsmerkmale "
   ]
  },
  {
   "cell_type": "markdown",
   "metadata": {},
   "source": [
    "### Train und Test Daten"
   ]
  },
  {
   "cell_type": "code",
   "execution_count": 10,
   "metadata": {},
   "outputs": [
    {
     "name": "stdout",
     "output_type": "stream",
     "text": [
      "X_train shape:  (708, 53)\n",
      "X_test shape:  (177, 53)\n",
      "y_train shape:  (708,)\n",
      "y_test shape:  (177,)\n"
     ]
    }
   ],
   "source": [
    "y = lexica_corpus_df[\"#label\"]\n",
    "X = lexica_corpus_df.drop([\"#label\"],  axis='columns')\n",
    "\n",
    "X_train, X_test, y_train, y_test = train_test_split(X, y, test_size=0.2, random_state=123)\n",
    "\n",
    "print(\"X_train shape: \", X_train.shape)\n",
    "print(\"X_test shape: \", X_test.shape)\n",
    "print(\"y_train shape: \", y_train.shape)\n",
    "print(\"y_test shape: \", y_test.shape)"
   ]
  },
  {
   "cell_type": "markdown",
   "metadata": {},
   "source": [
    "### Standardisierung\n",
    "Standardisierung zur Normalisierung der Daten, indem die Daten so skaliert werden, dass sie einen Mittelwert von Null und eine Standardabweichung von Eins haben. Dies verhindert, dass Datenpunkte, die eine viel größere Skala haben als andere, das Modell dominieren."
   ]
  },
  {
   "cell_type": "code",
   "execution_count": 11,
   "metadata": {},
   "outputs": [],
   "source": [
    "scaler = StandardScaler()\n",
    "train_scaled = scaler.fit_transform(X_train)\n",
    "test_scaled = scaler.transform(X_test)"
   ]
  },
  {
   "cell_type": "markdown",
   "metadata": {},
   "source": [
    "### Lineare Regression"
   ]
  },
  {
   "cell_type": "code",
   "execution_count": 12,
   "metadata": {},
   "outputs": [
    {
     "data": {
      "text/html": [
       "<style>#sk-container-id-2 {color: black;background-color: white;}#sk-container-id-2 pre{padding: 0;}#sk-container-id-2 div.sk-toggleable {background-color: white;}#sk-container-id-2 label.sk-toggleable__label {cursor: pointer;display: block;width: 100%;margin-bottom: 0;padding: 0.3em;box-sizing: border-box;text-align: center;}#sk-container-id-2 label.sk-toggleable__label-arrow:before {content: \"▸\";float: left;margin-right: 0.25em;color: #696969;}#sk-container-id-2 label.sk-toggleable__label-arrow:hover:before {color: black;}#sk-container-id-2 div.sk-estimator:hover label.sk-toggleable__label-arrow:before {color: black;}#sk-container-id-2 div.sk-toggleable__content {max-height: 0;max-width: 0;overflow: hidden;text-align: left;background-color: #f0f8ff;}#sk-container-id-2 div.sk-toggleable__content pre {margin: 0.2em;color: black;border-radius: 0.25em;background-color: #f0f8ff;}#sk-container-id-2 input.sk-toggleable__control:checked~div.sk-toggleable__content {max-height: 200px;max-width: 100%;overflow: auto;}#sk-container-id-2 input.sk-toggleable__control:checked~label.sk-toggleable__label-arrow:before {content: \"▾\";}#sk-container-id-2 div.sk-estimator input.sk-toggleable__control:checked~label.sk-toggleable__label {background-color: #d4ebff;}#sk-container-id-2 div.sk-label input.sk-toggleable__control:checked~label.sk-toggleable__label {background-color: #d4ebff;}#sk-container-id-2 input.sk-hidden--visually {border: 0;clip: rect(1px 1px 1px 1px);clip: rect(1px, 1px, 1px, 1px);height: 1px;margin: -1px;overflow: hidden;padding: 0;position: absolute;width: 1px;}#sk-container-id-2 div.sk-estimator {font-family: monospace;background-color: #f0f8ff;border: 1px dotted black;border-radius: 0.25em;box-sizing: border-box;margin-bottom: 0.5em;}#sk-container-id-2 div.sk-estimator:hover {background-color: #d4ebff;}#sk-container-id-2 div.sk-parallel-item::after {content: \"\";width: 100%;border-bottom: 1px solid gray;flex-grow: 1;}#sk-container-id-2 div.sk-label:hover label.sk-toggleable__label {background-color: #d4ebff;}#sk-container-id-2 div.sk-serial::before {content: \"\";position: absolute;border-left: 1px solid gray;box-sizing: border-box;top: 0;bottom: 0;left: 50%;z-index: 0;}#sk-container-id-2 div.sk-serial {display: flex;flex-direction: column;align-items: center;background-color: white;padding-right: 0.2em;padding-left: 0.2em;position: relative;}#sk-container-id-2 div.sk-item {position: relative;z-index: 1;}#sk-container-id-2 div.sk-parallel {display: flex;align-items: stretch;justify-content: center;background-color: white;position: relative;}#sk-container-id-2 div.sk-item::before, #sk-container-id-2 div.sk-parallel-item::before {content: \"\";position: absolute;border-left: 1px solid gray;box-sizing: border-box;top: 0;bottom: 0;left: 50%;z-index: -1;}#sk-container-id-2 div.sk-parallel-item {display: flex;flex-direction: column;z-index: 1;position: relative;background-color: white;}#sk-container-id-2 div.sk-parallel-item:first-child::after {align-self: flex-end;width: 50%;}#sk-container-id-2 div.sk-parallel-item:last-child::after {align-self: flex-start;width: 50%;}#sk-container-id-2 div.sk-parallel-item:only-child::after {width: 0;}#sk-container-id-2 div.sk-dashed-wrapped {border: 1px dashed gray;margin: 0 0.4em 0.5em 0.4em;box-sizing: border-box;padding-bottom: 0.4em;background-color: white;}#sk-container-id-2 div.sk-label label {font-family: monospace;font-weight: bold;display: inline-block;line-height: 1.2em;}#sk-container-id-2 div.sk-label-container {text-align: center;}#sk-container-id-2 div.sk-container {/* jupyter's `normalize.less` sets `[hidden] { display: none; }` but bootstrap.min.css set `[hidden] { display: none !important; }` so we also need the `!important` here to be able to override the default hidden behavior on the sphinx rendered scikit-learn.org. See: https://github.com/scikit-learn/scikit-learn/issues/21755 */display: inline-block !important;position: relative;}#sk-container-id-2 div.sk-text-repr-fallback {display: none;}</style><div id=\"sk-container-id-2\" class=\"sk-top-container\"><div class=\"sk-text-repr-fallback\"><pre>LinearRegression()</pre><b>In a Jupyter environment, please rerun this cell to show the HTML representation or trust the notebook. <br />On GitHub, the HTML representation is unable to render, please try loading this page with nbviewer.org.</b></div><div class=\"sk-container\" hidden><div class=\"sk-item\"><div class=\"sk-estimator sk-toggleable\"><input class=\"sk-toggleable__control sk-hidden--visually\" id=\"sk-estimator-id-2\" type=\"checkbox\" checked><label for=\"sk-estimator-id-2\" class=\"sk-toggleable__label sk-toggleable__label-arrow\">LinearRegression</label><div class=\"sk-toggleable__content\"><pre>LinearRegression()</pre></div></div></div></div></div>"
      ],
      "text/plain": [
       "LinearRegression()"
      ]
     },
     "execution_count": 12,
     "metadata": {},
     "output_type": "execute_result"
    }
   ],
   "source": [
    "model = LinearRegression()\n",
    "model.fit(X_train, y_train)"
   ]
  },
  {
   "cell_type": "markdown",
   "metadata": {},
   "source": [
    "### Model Evaluation\n",
    "\n",
    "- Der mittlere quadratische Fehler (mse) ist ein Maß für die durchschnittliche Abweichung zwischen den Vorhersagen und den tatsächlichen Werten und wird verwendet, um die Leistung von Regressionsmodellen zu bewerten. Je kleiner der mittlere quadratische Fehler, desto besser ist die Leistung des Modells.\n",
    "- Der mittlere absolute Fehler (mae) ist ein weiteres Maß für die durchschnittliche Abweichung zwischen den Vorhersagen und den tatsächlichen Werten. Im Vergleich zum mittleren quadratischen Fehler ist er weniger empfindlich gegenüber Ausreißern in den Daten."
   ]
  },
  {
   "cell_type": "code",
   "execution_count": 13,
   "metadata": {},
   "outputs": [
    {
     "name": "stdout",
     "output_type": "stream",
     "text": [
      "mse =  0.021005751180014312  & mae =  0.11324751945133679  & rmse =  0.14493360955973708\n"
     ]
    }
   ],
   "source": [
    "mse = mean_squared_error(y_train, model.predict(X_train))\n",
    "mae = mean_absolute_error(y_train, model.predict(X_train))\n",
    "print(\"mse = \",mse,\" & mae = \",mae,\" & rmse = \", sqrt(mse))"
   ]
  },
  {
   "cell_type": "code",
   "execution_count": 14,
   "metadata": {},
   "outputs": [
    {
     "name": "stdout",
     "output_type": "stream",
     "text": [
      "mse =  0.025746639609367614  & mae =  0.12163565469434168  & rmse =  0.16045759442721186\n"
     ]
    }
   ],
   "source": [
    "test_mse = mean_squared_error(y_test, model.predict(X_test))\n",
    "test_mae = mean_absolute_error(y_test, model.predict(X_test))\n",
    "print(\"mse = \",test_mse,\" & mae = \",test_mae,\" & rmse = \", sqrt(test_mse))"
   ]
  },
  {
   "cell_type": "markdown",
   "metadata": {},
   "source": [
    "- 5-Fold-Validierung ist ein Verfahren, bei dem die verfügbaren Daten in fünf zufällige Untergruppen unterteilt werden. Das Modell wird dann fünfmal trainiert und getestet, wobei jeweils eine der fünf Untergruppen als Testdatensatz und die anderen vier als Trainingsdatensätze verwendet werden. Das Ergebnis der Validierung ist der Durchschnitt der Leistung des Modells auf den fünf Testdatensätzen."
   ]
  },
  {
   "cell_type": "code",
   "execution_count": 15,
   "metadata": {},
   "outputs": [
    {
     "name": "stdout",
     "output_type": "stream",
     "text": [
      "Mean squared error: 0.034179321268390433\n"
     ]
    }
   ],
   "source": [
    "scores = cross_val_score(model, X, y, cv=5, scoring='neg_mean_squared_error')\n",
    "\n",
    "# durchschnittliche mittlere quadratische Abweichung\n",
    "mse_mean = -scores.mean()\n",
    "print(\"Mean squared error:\", mse_mean)"
   ]
  },
  {
   "cell_type": "markdown",
   "metadata": {},
   "source": [
    "### Merkmalswichtigkeit für das Modell\n",
    "\n",
    "Die Feature Importance (Merkmalswichtigkeit) zeigt, welche Merkmale (Features) die größte Vorhersagekraft für das Modell haben. Bei linearen Modellen können die Koeffizienten - also Gewichte - wiedergeben, wie wichtig das jeweilige Merkmal ist, um eine Vorhersage zu treffen, die möglichst einen kleinen Abstand zum eigentlich gesuchten Wert hat. (siehe Feature Importance in https://christophm.github.io/interpretable-ml-book/limo.html )"
   ]
  },
  {
   "cell_type": "code",
   "execution_count": 16,
   "metadata": {},
   "outputs": [],
   "source": [
    "importances = model.coef_\n",
    "features = lexica_corpus_df.drop([\"#label\"],  axis='columns').columns\n",
    "feat_importances = pd.Series(importances, index=features)\n",
    "feat_importances = feat_importances.sort_values()"
   ]
  },
  {
   "cell_type": "code",
   "execution_count": 17,
   "metadata": {},
   "outputs": [
    {
     "data": {
      "text/plain": [
       "<AxesSubplot:title={'center':'Feature Importances'}>"
      ]
     },
     "execution_count": 17,
     "metadata": {},
     "output_type": "execute_result"
    },
    {
     "data": {
      "image/png": "[encoded data removed]",
      "text/plain": [
       "<Figure size 1440x1440 with 1 Axes>"
      ]
     },
     "metadata": {
      "needs_background": "light"
     },
     "output_type": "display_data"
    }
   ],
   "source": [
    "plt.figure(figsize=(20, 20)) \n",
    "plt.title('Feature Importances')\n",
    "feat_importances.plot(kind='barh')"
   ]
  },
  {
   "cell_type": "markdown",
   "metadata": {},
   "source": [
    "Einige der extrahierten Features aus dem Lexica-Korpus haben sogar eine negative Feature Importanz, was bedeutet, dass diese die Fehler des Modells vergrößern.  "
   ]
  },
  {
   "cell_type": "code",
   "execution_count": 18,
   "metadata": {},
   "outputs": [],
   "source": [
    "positiv_feat_importances = feat_importances[21:]\n",
    "#positiv_feat_importances.index.tolist()"
   ]
  },
  {
   "cell_type": "code",
   "execution_count": 19,
   "metadata": {},
   "outputs": [
    {
     "data": {
      "text/plain": [
       "POS_verbs                                        -2.533494\n",
       "POS_pronouns                                     -1.155380\n",
       "POS_aux_verbs                                    -0.917656\n",
       "POS_numerales                                    -0.745151\n",
       "sents_with_nouns_as_root                         -0.293585\n",
       "semantic_similarity_adjectives                   -0.250106\n",
       "Expansion.Manner.Arg1-as-manner                  -0.180129\n",
       "sents_with_verb_as_root                          -0.179643\n",
       "semantic_similarity_verbs                        -0.166415\n",
       "POS_nouns                                        -0.143055\n",
       "noun_phrases_per_sent                            -0.059065\n",
       "sub_clauses_per_sent                             -0.059037\n",
       "Expansion.Level-of-detail.Arg2-as-detail         -0.052531\n",
       "count_of_discourse_markers                       -0.033838\n",
       "Contingency.Negative-condition.Arg1-as-negCond   -0.015734\n",
       "Expansion.Equivalence                            -0.009081\n",
       "Expansion.Instantiation.Arg2-as-instance         -0.008859\n",
       "Expansion.Disjunction                            -0.007236\n",
       "Expansion.Conjunction                            -0.005384\n",
       "Contingency.Cause.Result                         -0.004667\n",
       "Contingency.Purpose.Arg1-as-goal                 -0.003381\n",
       "text_length                                       0.000730\n",
       "Comparison.Contrast                               0.001330\n",
       "Temporal.Asynchronous.Precedence                  0.002266\n",
       "Expansion.Substitution.Arg2-as-subst              0.002292\n",
       "sentence_length                                   0.002769\n",
       "Expansion.Manner.Arg2-as-manner                   0.002819\n",
       "Comparison.Concession.Arg1-as-denier              0.003209\n",
       "Contingency.Purpose.Arg2-as-goal                  0.005881\n",
       "Contingency.Cause.Reason                          0.007191\n",
       "Temporal.Synchronous                              0.012103\n",
       "Expansion.Exception.Arg2-as-except                0.013081\n",
       "Comparison.Concession.Arg2-as-denier              0.015361\n",
       "Temporal.Asynchronous.Succession                  0.019037\n",
       "Contingency.Condition.Arg2-as-cond                0.020546\n",
       "Expansion.Exception.Arg1-as-except                0.021054\n",
       "articles_per_sentence                             0.048150\n",
       "tree_height                                       0.056638\n",
       "lexical_complexity_score                          0.056645\n",
       "Expansion.Substitution.Arg1-as-subst              0.083931\n",
       "semantic_similarity_nouns                         0.085239\n",
       "Contingency.Negative-condition.Arg2-as-negCond    0.087304\n",
       "syllables_per_word                                0.094264\n",
       "characters_per_word                               0.122118\n",
       "verbs_in_sentence                                 0.151033\n",
       "pronouns_per_sentence                             0.182833\n",
       "Contingency.Condition.Arg1-as-cond                0.239420\n",
       "ttr                                               0.470132\n",
       "POS_adjectives                                    0.540363\n",
       "POS_determiners                                   0.579607\n",
       "POS_adpositions                                   1.239600\n",
       "POS_conjunctions                                  2.581301\n",
       "POS_punctuations                                  3.356444\n",
       "dtype: float64"
      ]
     },
     "execution_count": 19,
     "metadata": {},
     "output_type": "execute_result"
    }
   ],
   "source": [
    "feat_importances"
   ]
  },
  {
   "cell_type": "code",
   "execution_count": 20,
   "metadata": {},
   "outputs": [],
   "source": [
    "positiv_feat_importances_df = lexica_corpus_df[['#label',\n",
    "'Expansion.Manner.Arg2-as-manner',\n",
    " 'Expansion.Substitution.Arg2-as-subst',\n",
    " 'Comparison.Concession.Arg1-as-denier',\n",
    " 'Expansion.Exception.Arg1-as-except',\n",
    " 'Expansion.Exception.Arg2-as-except',\n",
    " 'Comparison.Contrast',\n",
    " 'Temporal.Asynchronous.Precedence',\n",
    " 'Comparison.Concession.Arg2-as-denier',\n",
    " 'semantic_similarity_nouns',\n",
    " 'Contingency.Condition.Arg1-as-cond',\n",
    " 'Contingency.Purpose.Arg2-as-goal',\n",
    " 'Contingency.Cause.Reason',\n",
    " 'Contingency.Negative-condition.Arg2-as-negCond',\n",
    " 'sentence_length',\n",
    " 'Temporal.Asynchronous.Succession',\n",
    " 'Expansion.Substitution.Arg1-as-subst',\n",
    " 'Contingency.Condition.Arg2-as-cond',\n",
    " 'POS_adjectives',\n",
    " 'POS_determiners',\n",
    " 'Temporal.Synchronous',\n",
    " 'syllables_per_word',\n",
    " 'POS_adpositions',\n",
    " 'lexical_complexity_score',\n",
    " 'articles_per_sentence',\n",
    " 'ttr',\n",
    " 'POS_conjunctions',\n",
    " 'pronouns_per_sentence',\n",
    " 'tree_height',\n",
    " 'text_length',\n",
    " 'verbs_in_sentence',\n",
    " 'characters_per_word',\n",
    " 'POS_punctuations']]"
   ]
  },
  {
   "cell_type": "code",
   "execution_count": 21,
   "metadata": {},
   "outputs": [
    {
     "data": {
      "text/html": [
       "<div>\n",
       "<style scoped>\n",
       "    .dataframe tbody tr th:only-of-type {\n",
       "        vertical-align: middle;\n",
       "    }\n",
       "\n",
       "    .dataframe tbody tr th {\n",
       "        vertical-align: top;\n",
       "    }\n",
       "\n",
       "    .dataframe thead th {\n",
       "        text-align: right;\n",
       "    }\n",
       "</style>\n",
       "<table border=\"1\" class=\"dataframe\">\n",
       "  <thead>\n",
       "    <tr style=\"text-align: right;\">\n",
       "      <th></th>\n",
       "      <th>#label</th>\n",
       "      <th>Expansion.Manner.Arg2-as-manner</th>\n",
       "      <th>Expansion.Substitution.Arg2-as-subst</th>\n",
       "      <th>Comparison.Concession.Arg1-as-denier</th>\n",
       "      <th>Expansion.Exception.Arg1-as-except</th>\n",
       "      <th>Expansion.Exception.Arg2-as-except</th>\n",
       "      <th>Comparison.Contrast</th>\n",
       "      <th>Temporal.Asynchronous.Precedence</th>\n",
       "      <th>Comparison.Concession.Arg2-as-denier</th>\n",
       "      <th>semantic_similarity_nouns</th>\n",
       "      <th>...</th>\n",
       "      <th>lexical_complexity_score</th>\n",
       "      <th>articles_per_sentence</th>\n",
       "      <th>ttr</th>\n",
       "      <th>POS_conjunctions</th>\n",
       "      <th>pronouns_per_sentence</th>\n",
       "      <th>tree_height</th>\n",
       "      <th>text_length</th>\n",
       "      <th>verbs_in_sentence</th>\n",
       "      <th>characters_per_word</th>\n",
       "      <th>POS_punctuations</th>\n",
       "    </tr>\n",
       "  </thead>\n",
       "  <tbody>\n",
       "    <tr>\n",
       "      <th>0</th>\n",
       "      <td>0.0</td>\n",
       "      <td>0</td>\n",
       "      <td>0</td>\n",
       "      <td>0</td>\n",
       "      <td>0</td>\n",
       "      <td>0</td>\n",
       "      <td>2</td>\n",
       "      <td>1</td>\n",
       "      <td>0</td>\n",
       "      <td>0.164365</td>\n",
       "      <td>...</td>\n",
       "      <td>7.406711</td>\n",
       "      <td>0.142857</td>\n",
       "      <td>0.683168</td>\n",
       "      <td>0.049020</td>\n",
       "      <td>0.642857</td>\n",
       "      <td>3.857143</td>\n",
       "      <td>102</td>\n",
       "      <td>1.285714</td>\n",
       "      <td>4.862745</td>\n",
       "      <td>0.097345</td>\n",
       "    </tr>\n",
       "    <tr>\n",
       "      <th>1</th>\n",
       "      <td>0.0</td>\n",
       "      <td>0</td>\n",
       "      <td>0</td>\n",
       "      <td>0</td>\n",
       "      <td>0</td>\n",
       "      <td>0</td>\n",
       "      <td>0</td>\n",
       "      <td>0</td>\n",
       "      <td>0</td>\n",
       "      <td>0.207224</td>\n",
       "      <td>...</td>\n",
       "      <td>7.652426</td>\n",
       "      <td>1.454545</td>\n",
       "      <td>0.590909</td>\n",
       "      <td>0.011236</td>\n",
       "      <td>0.090909</td>\n",
       "      <td>4.363636</td>\n",
       "      <td>89</td>\n",
       "      <td>0.909091</td>\n",
       "      <td>4.494382</td>\n",
       "      <td>0.091837</td>\n",
       "    </tr>\n",
       "    <tr>\n",
       "      <th>2</th>\n",
       "      <td>0.0</td>\n",
       "      <td>0</td>\n",
       "      <td>0</td>\n",
       "      <td>0</td>\n",
       "      <td>0</td>\n",
       "      <td>0</td>\n",
       "      <td>0</td>\n",
       "      <td>0</td>\n",
       "      <td>0</td>\n",
       "      <td>0.257176</td>\n",
       "      <td>...</td>\n",
       "      <td>8.269501</td>\n",
       "      <td>1.312500</td>\n",
       "      <td>0.517544</td>\n",
       "      <td>0.017391</td>\n",
       "      <td>0.375000</td>\n",
       "      <td>3.500000</td>\n",
       "      <td>115</td>\n",
       "      <td>0.875000</td>\n",
       "      <td>4.521739</td>\n",
       "      <td>0.128788</td>\n",
       "    </tr>\n",
       "    <tr>\n",
       "      <th>3</th>\n",
       "      <td>0.0</td>\n",
       "      <td>0</td>\n",
       "      <td>0</td>\n",
       "      <td>0</td>\n",
       "      <td>0</td>\n",
       "      <td>0</td>\n",
       "      <td>0</td>\n",
       "      <td>6</td>\n",
       "      <td>0</td>\n",
       "      <td>0.249245</td>\n",
       "      <td>...</td>\n",
       "      <td>7.802380</td>\n",
       "      <td>0.600000</td>\n",
       "      <td>0.531469</td>\n",
       "      <td>0.020833</td>\n",
       "      <td>0.600000</td>\n",
       "      <td>3.850000</td>\n",
       "      <td>144</td>\n",
       "      <td>1.000000</td>\n",
       "      <td>5.000000</td>\n",
       "      <td>0.100000</td>\n",
       "    </tr>\n",
       "    <tr>\n",
       "      <th>4</th>\n",
       "      <td>0.0</td>\n",
       "      <td>0</td>\n",
       "      <td>0</td>\n",
       "      <td>0</td>\n",
       "      <td>0</td>\n",
       "      <td>0</td>\n",
       "      <td>2</td>\n",
       "      <td>0</td>\n",
       "      <td>0</td>\n",
       "      <td>0.161453</td>\n",
       "      <td>...</td>\n",
       "      <td>7.951559</td>\n",
       "      <td>0.647059</td>\n",
       "      <td>0.704762</td>\n",
       "      <td>0.009434</td>\n",
       "      <td>0.529412</td>\n",
       "      <td>3.470588</td>\n",
       "      <td>106</td>\n",
       "      <td>0.882353</td>\n",
       "      <td>5.132075</td>\n",
       "      <td>0.101695</td>\n",
       "    </tr>\n",
       "  </tbody>\n",
       "</table>\n",
       "<p>5 rows × 33 columns</p>\n",
       "</div>"
      ],
      "text/plain": [
       "   #label  Expansion.Manner.Arg2-as-manner  \\\n",
       "0     0.0                                0   \n",
       "1     0.0                                0   \n",
       "2     0.0                                0   \n",
       "3     0.0                                0   \n",
       "4     0.0                                0   \n",
       "\n",
       "   Expansion.Substitution.Arg2-as-subst  Comparison.Concession.Arg1-as-denier  \\\n",
       "0                                     0                                     0   \n",
       "1                                     0                                     0   \n",
       "2                                     0                                     0   \n",
       "3                                     0                                     0   \n",
       "4                                     0                                     0   \n",
       "\n",
       "   Expansion.Exception.Arg1-as-except  Expansion.Exception.Arg2-as-except  \\\n",
       "0                                   0                                   0   \n",
       "1                                   0                                   0   \n",
       "2                                   0                                   0   \n",
       "3                                   0                                   0   \n",
       "4                                   0                                   0   \n",
       "\n",
       "   Comparison.Contrast  Temporal.Asynchronous.Precedence  \\\n",
       "0                    2                                 1   \n",
       "1                    0                                 0   \n",
       "2                    0                                 0   \n",
       "3                    0                                 6   \n",
       "4                    2                                 0   \n",
       "\n",
       "   Comparison.Concession.Arg2-as-denier  semantic_similarity_nouns  ...  \\\n",
       "0                                     0                   0.164365  ...   \n",
       "1                                     0                   0.207224  ...   \n",
       "2                                     0                   0.257176  ...   \n",
       "3                                     0                   0.249245  ...   \n",
       "4                                     0                   0.161453  ...   \n",
       "\n",
       "   lexical_complexity_score  articles_per_sentence       ttr  \\\n",
       "0                  7.406711               0.142857  0.683168   \n",
       "1                  7.652426               1.454545  0.590909   \n",
       "2                  8.269501               1.312500  0.517544   \n",
       "3                  7.802380               0.600000  0.531469   \n",
       "4                  7.951559               0.647059  0.704762   \n",
       "\n",
       "   POS_conjunctions  pronouns_per_sentence  tree_height  text_length  \\\n",
       "0          0.049020               0.642857     3.857143          102   \n",
       "1          0.011236               0.090909     4.363636           89   \n",
       "2          0.017391               0.375000     3.500000          115   \n",
       "3          0.020833               0.600000     3.850000          144   \n",
       "4          0.009434               0.529412     3.470588          106   \n",
       "\n",
       "   verbs_in_sentence  characters_per_word  POS_punctuations  \n",
       "0           1.285714             4.862745          0.097345  \n",
       "1           0.909091             4.494382          0.091837  \n",
       "2           0.875000             4.521739          0.128788  \n",
       "3           1.000000             5.000000          0.100000  \n",
       "4           0.882353             5.132075          0.101695  \n",
       "\n",
       "[5 rows x 33 columns]"
      ]
     },
     "execution_count": 21,
     "metadata": {},
     "output_type": "execute_result"
    }
   ],
   "source": [
    "positiv_feat_importances_df.head()"
   ]
  },
  {
   "cell_type": "code",
   "execution_count": 22,
   "metadata": {},
   "outputs": [],
   "source": [
    "y_positiv_feat_importances = positiv_feat_importances_df[\"#label\"]\n",
    "X_positiv_feat_importances = positiv_feat_importances_df.drop([\"#label\"],  axis='columns')"
   ]
  },
  {
   "cell_type": "code",
   "execution_count": 23,
   "metadata": {},
   "outputs": [
    {
     "name": "stdout",
     "output_type": "stream",
     "text": [
      "X_train_PFI shape:  (708, 32)\n",
      "X_test_PFI shape:  (177, 32)\n",
      "y_train_PFI shape:  (708,)\n",
      "y_test_PFI shape:  (177,)\n"
     ]
    }
   ],
   "source": [
    "X_train_PFI, X_test_PFI, y_train_PFI, y_test_PFI = train_test_split(X_positiv_feat_importances, y_positiv_feat_importances, test_size=0.2, random_state=123)\n",
    "\n",
    "print(\"X_train_PFI shape: \", X_train_PFI.shape)\n",
    "print(\"X_test_PFI shape: \", X_test_PFI.shape)\n",
    "print(\"y_train_PFI shape: \", y_train_PFI.shape)\n",
    "print(\"y_test_PFI shape: \", y_test_PFI.shape)"
   ]
  },
  {
   "cell_type": "code",
   "execution_count": 24,
   "metadata": {},
   "outputs": [
    {
     "data": {
      "text/html": [
       "<style>#sk-container-id-3 {color: black;background-color: white;}#sk-container-id-3 pre{padding: 0;}#sk-container-id-3 div.sk-toggleable {background-color: white;}#sk-container-id-3 label.sk-toggleable__label {cursor: pointer;display: block;width: 100%;margin-bottom: 0;padding: 0.3em;box-sizing: border-box;text-align: center;}#sk-container-id-3 label.sk-toggleable__label-arrow:before {content: \"▸\";float: left;margin-right: 0.25em;color: #696969;}#sk-container-id-3 label.sk-toggleable__label-arrow:hover:before {color: black;}#sk-container-id-3 div.sk-estimator:hover label.sk-toggleable__label-arrow:before {color: black;}#sk-container-id-3 div.sk-toggleable__content {max-height: 0;max-width: 0;overflow: hidden;text-align: left;background-color: #f0f8ff;}#sk-container-id-3 div.sk-toggleable__content pre {margin: 0.2em;color: black;border-radius: 0.25em;background-color: #f0f8ff;}#sk-container-id-3 input.sk-toggleable__control:checked~div.sk-toggleable__content {max-height: 200px;max-width: 100%;overflow: auto;}#sk-container-id-3 input.sk-toggleable__control:checked~label.sk-toggleable__label-arrow:before {content: \"▾\";}#sk-container-id-3 div.sk-estimator input.sk-toggleable__control:checked~label.sk-toggleable__label {background-color: #d4ebff;}#sk-container-id-3 div.sk-label input.sk-toggleable__control:checked~label.sk-toggleable__label {background-color: #d4ebff;}#sk-container-id-3 input.sk-hidden--visually {border: 0;clip: rect(1px 1px 1px 1px);clip: rect(1px, 1px, 1px, 1px);height: 1px;margin: -1px;overflow: hidden;padding: 0;position: absolute;width: 1px;}#sk-container-id-3 div.sk-estimator {font-family: monospace;background-color: #f0f8ff;border: 1px dotted black;border-radius: 0.25em;box-sizing: border-box;margin-bottom: 0.5em;}#sk-container-id-3 div.sk-estimator:hover {background-color: #d4ebff;}#sk-container-id-3 div.sk-parallel-item::after {content: \"\";width: 100%;border-bottom: 1px solid gray;flex-grow: 1;}#sk-container-id-3 div.sk-label:hover label.sk-toggleable__label {background-color: #d4ebff;}#sk-container-id-3 div.sk-serial::before {content: \"\";position: absolute;border-left: 1px solid gray;box-sizing: border-box;top: 0;bottom: 0;left: 50%;z-index: 0;}#sk-container-id-3 div.sk-serial {display: flex;flex-direction: column;align-items: center;background-color: white;padding-right: 0.2em;padding-left: 0.2em;position: relative;}#sk-container-id-3 div.sk-item {position: relative;z-index: 1;}#sk-container-id-3 div.sk-parallel {display: flex;align-items: stretch;justify-content: center;background-color: white;position: relative;}#sk-container-id-3 div.sk-item::before, #sk-container-id-3 div.sk-parallel-item::before {content: \"\";position: absolute;border-left: 1px solid gray;box-sizing: border-box;top: 0;bottom: 0;left: 50%;z-index: -1;}#sk-container-id-3 div.sk-parallel-item {display: flex;flex-direction: column;z-index: 1;position: relative;background-color: white;}#sk-container-id-3 div.sk-parallel-item:first-child::after {align-self: flex-end;width: 50%;}#sk-container-id-3 div.sk-parallel-item:last-child::after {align-self: flex-start;width: 50%;}#sk-container-id-3 div.sk-parallel-item:only-child::after {width: 0;}#sk-container-id-3 div.sk-dashed-wrapped {border: 1px dashed gray;margin: 0 0.4em 0.5em 0.4em;box-sizing: border-box;padding-bottom: 0.4em;background-color: white;}#sk-container-id-3 div.sk-label label {font-family: monospace;font-weight: bold;display: inline-block;line-height: 1.2em;}#sk-container-id-3 div.sk-label-container {text-align: center;}#sk-container-id-3 div.sk-container {/* jupyter's `normalize.less` sets `[hidden] { display: none; }` but bootstrap.min.css set `[hidden] { display: none !important; }` so we also need the `!important` here to be able to override the default hidden behavior on the sphinx rendered scikit-learn.org. See: https://github.com/scikit-learn/scikit-learn/issues/21755 */display: inline-block !important;position: relative;}#sk-container-id-3 div.sk-text-repr-fallback {display: none;}</style><div id=\"sk-container-id-3\" class=\"sk-top-container\"><div class=\"sk-text-repr-fallback\"><pre>LinearRegression()</pre><b>In a Jupyter environment, please rerun this cell to show the HTML representation or trust the notebook. <br />On GitHub, the HTML representation is unable to render, please try loading this page with nbviewer.org.</b></div><div class=\"sk-container\" hidden><div class=\"sk-item\"><div class=\"sk-estimator sk-toggleable\"><input class=\"sk-toggleable__control sk-hidden--visually\" id=\"sk-estimator-id-3\" type=\"checkbox\" checked><label for=\"sk-estimator-id-3\" class=\"sk-toggleable__label sk-toggleable__label-arrow\">LinearRegression</label><div class=\"sk-toggleable__content\"><pre>LinearRegression()</pre></div></div></div></div></div>"
      ],
      "text/plain": [
       "LinearRegression()"
      ]
     },
     "execution_count": 24,
     "metadata": {},
     "output_type": "execute_result"
    }
   ],
   "source": [
    "model_PFI = LinearRegression()\n",
    "model_PFI.fit(X_train_PFI , y_train_PFI)"
   ]
  },
  {
   "cell_type": "code",
   "execution_count": 25,
   "metadata": {},
   "outputs": [
    {
     "name": "stdout",
     "output_type": "stream",
     "text": [
      "Mean squared error: 0.038827300170337184\n"
     ]
    }
   ],
   "source": [
    "scores_PFI = cross_val_score(model_PFI, X_positiv_feat_importances, y_positiv_feat_importances, cv=5, scoring='neg_mean_squared_error')\n",
    "\n",
    "# durchschnittliche mittlere quadratische Abweichung\n",
    "mse_mean_PFI = -scores_PFI.mean()\n",
    "print(\"Mean squared error:\", mse_mean_PFI)"
   ]
  },
  {
   "cell_type": "markdown",
   "metadata": {},
   "source": [
    "# Predict the textual complexity of the automatic generated summaries"
   ]
  },
  {
   "cell_type": "code",
   "execution_count": 26,
   "metadata": {},
   "outputs": [],
   "source": [
    "summaries_df = pd.read_csv(\"text_complexity_model_summaries.csv\", index_col=False).drop([\"Unnamed: 0\"], axis='columns') #.drop([\"Expansion.Level-of-detail.Arg1-as-detail\", \"Expansion.Instantiation\"],  axis='columns')"
   ]
  },
  {
   "cell_type": "code",
   "execution_count": 27,
   "metadata": {},
   "outputs": [],
   "source": [
    "#summaries_df.to_csv(\"text_complexity_model_summaries.csv\")"
   ]
  },
  {
   "cell_type": "code",
   "execution_count": 28,
   "metadata": {},
   "outputs": [
    {
     "data": {
      "text/html": [
       "<div>\n",
       "<style scoped>\n",
       "    .dataframe tbody tr th:only-of-type {\n",
       "        vertical-align: middle;\n",
       "    }\n",
       "\n",
       "    .dataframe tbody tr th {\n",
       "        vertical-align: top;\n",
       "    }\n",
       "\n",
       "    .dataframe thead th {\n",
       "        text-align: right;\n",
       "    }\n",
       "</style>\n",
       "<table border=\"1\" class=\"dataframe\">\n",
       "  <thead>\n",
       "    <tr style=\"text-align: right;\">\n",
       "      <th></th>\n",
       "      <th>#id</th>\n",
       "      <th>sentence_length</th>\n",
       "      <th>characters_per_word</th>\n",
       "      <th>syllables_per_word</th>\n",
       "      <th>text_length</th>\n",
       "      <th>noun_phrases_per_sent</th>\n",
       "      <th>tree_height</th>\n",
       "      <th>sub_clauses_per_sent</th>\n",
       "      <th>sents_with_verb_as_root</th>\n",
       "      <th>sents_with_nouns_as_root</th>\n",
       "      <th>...</th>\n",
       "      <th>Temporal.Synchronous</th>\n",
       "      <th>Contingency.Purpose.Arg2-as-goal</th>\n",
       "      <th>Expansion.Exception.Arg1-as-except</th>\n",
       "      <th>Expansion.Level-of-detail.Arg2-as-detail</th>\n",
       "      <th>Expansion.Substitution.Arg1-as-subst</th>\n",
       "      <th>Contingency.Condition.Arg1-as-cond</th>\n",
       "      <th>Expansion.Instantiation.Arg2-as-instance</th>\n",
       "      <th>Contingency.Condition.Arg2-as-cond</th>\n",
       "      <th>Expansion.Equivalence</th>\n",
       "      <th>Expansion.Manner.Arg2-as-manner</th>\n",
       "    </tr>\n",
       "  </thead>\n",
       "  <tbody>\n",
       "    <tr>\n",
       "      <th>0</th>\n",
       "      <td>summary_FFN_maz-10110</td>\n",
       "      <td>21.800000</td>\n",
       "      <td>5.825688</td>\n",
       "      <td>2.119266</td>\n",
       "      <td>109</td>\n",
       "      <td>5.600000</td>\n",
       "      <td>7.000000</td>\n",
       "      <td>1.000000</td>\n",
       "      <td>0.200000</td>\n",
       "      <td>0.0</td>\n",
       "      <td>...</td>\n",
       "      <td>0</td>\n",
       "      <td>0</td>\n",
       "      <td>0</td>\n",
       "      <td>0</td>\n",
       "      <td>0</td>\n",
       "      <td>0</td>\n",
       "      <td>0</td>\n",
       "      <td>1</td>\n",
       "      <td>1</td>\n",
       "      <td>1</td>\n",
       "    </tr>\n",
       "    <tr>\n",
       "      <th>1</th>\n",
       "      <td>summary_FFN_maz-10175</td>\n",
       "      <td>15.500000</td>\n",
       "      <td>7.000000</td>\n",
       "      <td>2.387097</td>\n",
       "      <td>31</td>\n",
       "      <td>4.500000</td>\n",
       "      <td>7.000000</td>\n",
       "      <td>0.500000</td>\n",
       "      <td>0.500000</td>\n",
       "      <td>0.0</td>\n",
       "      <td>...</td>\n",
       "      <td>2</td>\n",
       "      <td>0</td>\n",
       "      <td>0</td>\n",
       "      <td>0</td>\n",
       "      <td>0</td>\n",
       "      <td>0</td>\n",
       "      <td>0</td>\n",
       "      <td>0</td>\n",
       "      <td>0</td>\n",
       "      <td>0</td>\n",
       "    </tr>\n",
       "    <tr>\n",
       "      <th>2</th>\n",
       "      <td>summary_FFN_maz-10205</td>\n",
       "      <td>17.666667</td>\n",
       "      <td>5.820755</td>\n",
       "      <td>2.066038</td>\n",
       "      <td>106</td>\n",
       "      <td>5.500000</td>\n",
       "      <td>6.666667</td>\n",
       "      <td>1.000000</td>\n",
       "      <td>0.500000</td>\n",
       "      <td>0.0</td>\n",
       "      <td>...</td>\n",
       "      <td>1</td>\n",
       "      <td>1</td>\n",
       "      <td>0</td>\n",
       "      <td>0</td>\n",
       "      <td>0</td>\n",
       "      <td>0</td>\n",
       "      <td>0</td>\n",
       "      <td>0</td>\n",
       "      <td>0</td>\n",
       "      <td>0</td>\n",
       "    </tr>\n",
       "    <tr>\n",
       "      <th>3</th>\n",
       "      <td>summary_FFN_maz-10207</td>\n",
       "      <td>27.714286</td>\n",
       "      <td>5.690722</td>\n",
       "      <td>1.979381</td>\n",
       "      <td>194</td>\n",
       "      <td>8.428571</td>\n",
       "      <td>7.857143</td>\n",
       "      <td>1.428571</td>\n",
       "      <td>0.714286</td>\n",
       "      <td>0.0</td>\n",
       "      <td>...</td>\n",
       "      <td>2</td>\n",
       "      <td>5</td>\n",
       "      <td>0</td>\n",
       "      <td>0</td>\n",
       "      <td>0</td>\n",
       "      <td>0</td>\n",
       "      <td>0</td>\n",
       "      <td>1</td>\n",
       "      <td>0</td>\n",
       "      <td>0</td>\n",
       "    </tr>\n",
       "    <tr>\n",
       "      <th>4</th>\n",
       "      <td>summary_FFN_maz-10374</td>\n",
       "      <td>25.500000</td>\n",
       "      <td>5.303922</td>\n",
       "      <td>1.872549</td>\n",
       "      <td>102</td>\n",
       "      <td>6.500000</td>\n",
       "      <td>7.500000</td>\n",
       "      <td>0.500000</td>\n",
       "      <td>0.750000</td>\n",
       "      <td>0.0</td>\n",
       "      <td>...</td>\n",
       "      <td>3</td>\n",
       "      <td>2</td>\n",
       "      <td>0</td>\n",
       "      <td>0</td>\n",
       "      <td>0</td>\n",
       "      <td>0</td>\n",
       "      <td>0</td>\n",
       "      <td>0</td>\n",
       "      <td>1</td>\n",
       "      <td>0</td>\n",
       "    </tr>\n",
       "  </tbody>\n",
       "</table>\n",
       "<p>5 rows × 54 columns</p>\n",
       "</div>"
      ],
      "text/plain": [
       "                     #id  sentence_length  characters_per_word  \\\n",
       "0  summary_FFN_maz-10110        21.800000             5.825688   \n",
       "1  summary_FFN_maz-10175        15.500000             7.000000   \n",
       "2  summary_FFN_maz-10205        17.666667             5.820755   \n",
       "3  summary_FFN_maz-10207        27.714286             5.690722   \n",
       "4  summary_FFN_maz-10374        25.500000             5.303922   \n",
       "\n",
       "   syllables_per_word  text_length  noun_phrases_per_sent  tree_height  \\\n",
       "0            2.119266          109               5.600000     7.000000   \n",
       "1            2.387097           31               4.500000     7.000000   \n",
       "2            2.066038          106               5.500000     6.666667   \n",
       "3            1.979381          194               8.428571     7.857143   \n",
       "4            1.872549          102               6.500000     7.500000   \n",
       "\n",
       "   sub_clauses_per_sent  sents_with_verb_as_root  sents_with_nouns_as_root  \\\n",
       "0              1.000000                 0.200000                       0.0   \n",
       "1              0.500000                 0.500000                       0.0   \n",
       "2              1.000000                 0.500000                       0.0   \n",
       "3              1.428571                 0.714286                       0.0   \n",
       "4              0.500000                 0.750000                       0.0   \n",
       "\n",
       "   ...  Temporal.Synchronous  Contingency.Purpose.Arg2-as-goal  \\\n",
       "0  ...                     0                                 0   \n",
       "1  ...                     2                                 0   \n",
       "2  ...                     1                                 1   \n",
       "3  ...                     2                                 5   \n",
       "4  ...                     3                                 2   \n",
       "\n",
       "   Expansion.Exception.Arg1-as-except  \\\n",
       "0                                   0   \n",
       "1                                   0   \n",
       "2                                   0   \n",
       "3                                   0   \n",
       "4                                   0   \n",
       "\n",
       "   Expansion.Level-of-detail.Arg2-as-detail  \\\n",
       "0                                         0   \n",
       "1                                         0   \n",
       "2                                         0   \n",
       "3                                         0   \n",
       "4                                         0   \n",
       "\n",
       "   Expansion.Substitution.Arg1-as-subst  Contingency.Condition.Arg1-as-cond  \\\n",
       "0                                     0                                   0   \n",
       "1                                     0                                   0   \n",
       "2                                     0                                   0   \n",
       "3                                     0                                   0   \n",
       "4                                     0                                   0   \n",
       "\n",
       "   Expansion.Instantiation.Arg2-as-instance  \\\n",
       "0                                         0   \n",
       "1                                         0   \n",
       "2                                         0   \n",
       "3                                         0   \n",
       "4                                         0   \n",
       "\n",
       "   Contingency.Condition.Arg2-as-cond  Expansion.Equivalence  \\\n",
       "0                                   1                      1   \n",
       "1                                   0                      0   \n",
       "2                                   0                      0   \n",
       "3                                   1                      0   \n",
       "4                                   0                      1   \n",
       "\n",
       "   Expansion.Manner.Arg2-as-manner  \n",
       "0                                1  \n",
       "1                                0  \n",
       "2                                0  \n",
       "3                                0  \n",
       "4                                0  \n",
       "\n",
       "[5 rows x 54 columns]"
      ]
     },
     "execution_count": 28,
     "metadata": {},
     "output_type": "execute_result"
    }
   ],
   "source": [
    "summaries_df.head()"
   ]
  },
  {
   "cell_type": "code",
   "execution_count": 29,
   "metadata": {},
   "outputs": [
    {
     "data": {
      "text/html": [
       "<div>\n",
       "<style scoped>\n",
       "    .dataframe tbody tr th:only-of-type {\n",
       "        vertical-align: middle;\n",
       "    }\n",
       "\n",
       "    .dataframe tbody tr th {\n",
       "        vertical-align: top;\n",
       "    }\n",
       "\n",
       "    .dataframe thead th {\n",
       "        text-align: right;\n",
       "    }\n",
       "</style>\n",
       "<table border=\"1\" class=\"dataframe\">\n",
       "  <thead>\n",
       "    <tr style=\"text-align: right;\">\n",
       "      <th></th>\n",
       "      <th>sentence_length</th>\n",
       "      <th>characters_per_word</th>\n",
       "      <th>syllables_per_word</th>\n",
       "      <th>text_length</th>\n",
       "      <th>noun_phrases_per_sent</th>\n",
       "      <th>tree_height</th>\n",
       "      <th>sub_clauses_per_sent</th>\n",
       "      <th>sents_with_verb_as_root</th>\n",
       "      <th>sents_with_nouns_as_root</th>\n",
       "      <th>POS_verbs</th>\n",
       "      <th>...</th>\n",
       "      <th>Temporal.Synchronous</th>\n",
       "      <th>Contingency.Purpose.Arg2-as-goal</th>\n",
       "      <th>Expansion.Exception.Arg1-as-except</th>\n",
       "      <th>Expansion.Level-of-detail.Arg2-as-detail</th>\n",
       "      <th>Expansion.Substitution.Arg1-as-subst</th>\n",
       "      <th>Contingency.Condition.Arg1-as-cond</th>\n",
       "      <th>Expansion.Instantiation.Arg2-as-instance</th>\n",
       "      <th>Contingency.Condition.Arg2-as-cond</th>\n",
       "      <th>Expansion.Equivalence</th>\n",
       "      <th>Expansion.Manner.Arg2-as-manner</th>\n",
       "    </tr>\n",
       "  </thead>\n",
       "  <tbody>\n",
       "    <tr>\n",
       "      <th>count</th>\n",
       "      <td>166.000000</td>\n",
       "      <td>166.000000</td>\n",
       "      <td>166.000000</td>\n",
       "      <td>166.000000</td>\n",
       "      <td>166.000000</td>\n",
       "      <td>166.000000</td>\n",
       "      <td>166.000000</td>\n",
       "      <td>166.000000</td>\n",
       "      <td>166.000000</td>\n",
       "      <td>166.000000</td>\n",
       "      <td>...</td>\n",
       "      <td>166.000000</td>\n",
       "      <td>166.000000</td>\n",
       "      <td>166.0</td>\n",
       "      <td>166.000000</td>\n",
       "      <td>166.000000</td>\n",
       "      <td>166.0</td>\n",
       "      <td>166.000000</td>\n",
       "      <td>166.000000</td>\n",
       "      <td>166.000000</td>\n",
       "      <td>166.000000</td>\n",
       "    </tr>\n",
       "    <tr>\n",
       "      <th>mean</th>\n",
       "      <td>19.464876</td>\n",
       "      <td>5.830316</td>\n",
       "      <td>2.080962</td>\n",
       "      <td>86.481928</td>\n",
       "      <td>5.386666</td>\n",
       "      <td>6.655278</td>\n",
       "      <td>1.127008</td>\n",
       "      <td>0.370260</td>\n",
       "      <td>0.025550</td>\n",
       "      <td>0.147616</td>\n",
       "      <td>...</td>\n",
       "      <td>1.030120</td>\n",
       "      <td>1.512048</td>\n",
       "      <td>0.0</td>\n",
       "      <td>0.006024</td>\n",
       "      <td>0.030120</td>\n",
       "      <td>0.0</td>\n",
       "      <td>0.042169</td>\n",
       "      <td>0.259036</td>\n",
       "      <td>0.271084</td>\n",
       "      <td>0.024096</td>\n",
       "    </tr>\n",
       "    <tr>\n",
       "      <th>std</th>\n",
       "      <td>4.864737</td>\n",
       "      <td>0.446521</td>\n",
       "      <td>0.171405</td>\n",
       "      <td>36.039158</td>\n",
       "      <td>1.427222</td>\n",
       "      <td>1.063664</td>\n",
       "      <td>0.642181</td>\n",
       "      <td>0.266940</td>\n",
       "      <td>0.080729</td>\n",
       "      <td>0.035245</td>\n",
       "      <td>...</td>\n",
       "      <td>1.081103</td>\n",
       "      <td>1.301458</td>\n",
       "      <td>0.0</td>\n",
       "      <td>0.077615</td>\n",
       "      <td>0.203744</td>\n",
       "      <td>0.0</td>\n",
       "      <td>0.201582</td>\n",
       "      <td>0.491512</td>\n",
       "      <td>0.543843</td>\n",
       "      <td>0.153812</td>\n",
       "    </tr>\n",
       "    <tr>\n",
       "      <th>min</th>\n",
       "      <td>9.000000</td>\n",
       "      <td>4.500000</td>\n",
       "      <td>1.702128</td>\n",
       "      <td>9.000000</td>\n",
       "      <td>2.000000</td>\n",
       "      <td>4.000000</td>\n",
       "      <td>0.000000</td>\n",
       "      <td>0.000000</td>\n",
       "      <td>0.000000</td>\n",
       "      <td>0.046729</td>\n",
       "      <td>...</td>\n",
       "      <td>0.000000</td>\n",
       "      <td>0.000000</td>\n",
       "      <td>0.0</td>\n",
       "      <td>0.000000</td>\n",
       "      <td>0.000000</td>\n",
       "      <td>0.0</td>\n",
       "      <td>0.000000</td>\n",
       "      <td>0.000000</td>\n",
       "      <td>0.000000</td>\n",
       "      <td>0.000000</td>\n",
       "    </tr>\n",
       "    <tr>\n",
       "      <th>25%</th>\n",
       "      <td>16.250000</td>\n",
       "      <td>5.538099</td>\n",
       "      <td>1.975250</td>\n",
       "      <td>57.250000</td>\n",
       "      <td>4.425000</td>\n",
       "      <td>6.000000</td>\n",
       "      <td>0.666667</td>\n",
       "      <td>0.166667</td>\n",
       "      <td>0.000000</td>\n",
       "      <td>0.127660</td>\n",
       "      <td>...</td>\n",
       "      <td>0.000000</td>\n",
       "      <td>1.000000</td>\n",
       "      <td>0.0</td>\n",
       "      <td>0.000000</td>\n",
       "      <td>0.000000</td>\n",
       "      <td>0.0</td>\n",
       "      <td>0.000000</td>\n",
       "      <td>0.000000</td>\n",
       "      <td>0.000000</td>\n",
       "      <td>0.000000</td>\n",
       "    </tr>\n",
       "    <tr>\n",
       "      <th>50%</th>\n",
       "      <td>19.000000</td>\n",
       "      <td>5.783268</td>\n",
       "      <td>2.067741</td>\n",
       "      <td>93.000000</td>\n",
       "      <td>5.200000</td>\n",
       "      <td>6.690477</td>\n",
       "      <td>1.000000</td>\n",
       "      <td>0.375000</td>\n",
       "      <td>0.000000</td>\n",
       "      <td>0.144387</td>\n",
       "      <td>...</td>\n",
       "      <td>1.000000</td>\n",
       "      <td>1.000000</td>\n",
       "      <td>0.0</td>\n",
       "      <td>0.000000</td>\n",
       "      <td>0.000000</td>\n",
       "      <td>0.0</td>\n",
       "      <td>0.000000</td>\n",
       "      <td>0.000000</td>\n",
       "      <td>0.000000</td>\n",
       "      <td>0.000000</td>\n",
       "    </tr>\n",
       "    <tr>\n",
       "      <th>75%</th>\n",
       "      <td>21.800000</td>\n",
       "      <td>6.126052</td>\n",
       "      <td>2.173118</td>\n",
       "      <td>109.000000</td>\n",
       "      <td>6.000000</td>\n",
       "      <td>7.300000</td>\n",
       "      <td>1.500000</td>\n",
       "      <td>0.500000</td>\n",
       "      <td>0.000000</td>\n",
       "      <td>0.164722</td>\n",
       "      <td>...</td>\n",
       "      <td>2.000000</td>\n",
       "      <td>2.000000</td>\n",
       "      <td>0.0</td>\n",
       "      <td>0.000000</td>\n",
       "      <td>0.000000</td>\n",
       "      <td>0.0</td>\n",
       "      <td>0.000000</td>\n",
       "      <td>0.000000</td>\n",
       "      <td>0.000000</td>\n",
       "      <td>0.000000</td>\n",
       "    </tr>\n",
       "    <tr>\n",
       "      <th>max</th>\n",
       "      <td>34.000000</td>\n",
       "      <td>7.000000</td>\n",
       "      <td>2.500000</td>\n",
       "      <td>194.000000</td>\n",
       "      <td>11.200000</td>\n",
       "      <td>10.000000</td>\n",
       "      <td>4.200000</td>\n",
       "      <td>1.000000</td>\n",
       "      <td>0.500000</td>\n",
       "      <td>0.300000</td>\n",
       "      <td>...</td>\n",
       "      <td>4.000000</td>\n",
       "      <td>6.000000</td>\n",
       "      <td>0.0</td>\n",
       "      <td>1.000000</td>\n",
       "      <td>2.000000</td>\n",
       "      <td>0.0</td>\n",
       "      <td>1.000000</td>\n",
       "      <td>2.000000</td>\n",
       "      <td>4.000000</td>\n",
       "      <td>1.000000</td>\n",
       "    </tr>\n",
       "  </tbody>\n",
       "</table>\n",
       "<p>8 rows × 53 columns</p>\n",
       "</div>"
      ],
      "text/plain": [
       "       sentence_length  characters_per_word  syllables_per_word  text_length  \\\n",
       "count       166.000000           166.000000          166.000000   166.000000   \n",
       "mean         19.464876             5.830316            2.080962    86.481928   \n",
       "std           4.864737             0.446521            0.171405    36.039158   \n",
       "min           9.000000             4.500000            1.702128     9.000000   \n",
       "25%          16.250000             5.538099            1.975250    57.250000   \n",
       "50%          19.000000             5.783268            2.067741    93.000000   \n",
       "75%          21.800000             6.126052            2.173118   109.000000   \n",
       "max          34.000000             7.000000            2.500000   194.000000   \n",
       "\n",
       "       noun_phrases_per_sent  tree_height  sub_clauses_per_sent  \\\n",
       "count             166.000000   166.000000            166.000000   \n",
       "mean                5.386666     6.655278              1.127008   \n",
       "std                 1.427222     1.063664              0.642181   \n",
       "min                 2.000000     4.000000              0.000000   \n",
       "25%                 4.425000     6.000000              0.666667   \n",
       "50%                 5.200000     6.690477              1.000000   \n",
       "75%                 6.000000     7.300000              1.500000   \n",
       "max                11.200000    10.000000              4.200000   \n",
       "\n",
       "       sents_with_verb_as_root  sents_with_nouns_as_root   POS_verbs  ...  \\\n",
       "count               166.000000                166.000000  166.000000  ...   \n",
       "mean                  0.370260                  0.025550    0.147616  ...   \n",
       "std                   0.266940                  0.080729    0.035245  ...   \n",
       "min                   0.000000                  0.000000    0.046729  ...   \n",
       "25%                   0.166667                  0.000000    0.127660  ...   \n",
       "50%                   0.375000                  0.000000    0.144387  ...   \n",
       "75%                   0.500000                  0.000000    0.164722  ...   \n",
       "max                   1.000000                  0.500000    0.300000  ...   \n",
       "\n",
       "       Temporal.Synchronous  Contingency.Purpose.Arg2-as-goal  \\\n",
       "count            166.000000                        166.000000   \n",
       "mean               1.030120                          1.512048   \n",
       "std                1.081103                          1.301458   \n",
       "min                0.000000                          0.000000   \n",
       "25%                0.000000                          1.000000   \n",
       "50%                1.000000                          1.000000   \n",
       "75%                2.000000                          2.000000   \n",
       "max                4.000000                          6.000000   \n",
       "\n",
       "       Expansion.Exception.Arg1-as-except  \\\n",
       "count                               166.0   \n",
       "mean                                  0.0   \n",
       "std                                   0.0   \n",
       "min                                   0.0   \n",
       "25%                                   0.0   \n",
       "50%                                   0.0   \n",
       "75%                                   0.0   \n",
       "max                                   0.0   \n",
       "\n",
       "       Expansion.Level-of-detail.Arg2-as-detail  \\\n",
       "count                                166.000000   \n",
       "mean                                   0.006024   \n",
       "std                                    0.077615   \n",
       "min                                    0.000000   \n",
       "25%                                    0.000000   \n",
       "50%                                    0.000000   \n",
       "75%                                    0.000000   \n",
       "max                                    1.000000   \n",
       "\n",
       "       Expansion.Substitution.Arg1-as-subst  \\\n",
       "count                            166.000000   \n",
       "mean                               0.030120   \n",
       "std                                0.203744   \n",
       "min                                0.000000   \n",
       "25%                                0.000000   \n",
       "50%                                0.000000   \n",
       "75%                                0.000000   \n",
       "max                                2.000000   \n",
       "\n",
       "       Contingency.Condition.Arg1-as-cond  \\\n",
       "count                               166.0   \n",
       "mean                                  0.0   \n",
       "std                                   0.0   \n",
       "min                                   0.0   \n",
       "25%                                   0.0   \n",
       "50%                                   0.0   \n",
       "75%                                   0.0   \n",
       "max                                   0.0   \n",
       "\n",
       "       Expansion.Instantiation.Arg2-as-instance  \\\n",
       "count                                166.000000   \n",
       "mean                                   0.042169   \n",
       "std                                    0.201582   \n",
       "min                                    0.000000   \n",
       "25%                                    0.000000   \n",
       "50%                                    0.000000   \n",
       "75%                                    0.000000   \n",
       "max                                    1.000000   \n",
       "\n",
       "       Contingency.Condition.Arg2-as-cond  Expansion.Equivalence  \\\n",
       "count                          166.000000             166.000000   \n",
       "mean                             0.259036               0.271084   \n",
       "std                              0.491512               0.543843   \n",
       "min                              0.000000               0.000000   \n",
       "25%                              0.000000               0.000000   \n",
       "50%                              0.000000               0.000000   \n",
       "75%                              0.000000               0.000000   \n",
       "max                              2.000000               4.000000   \n",
       "\n",
       "       Expansion.Manner.Arg2-as-manner  \n",
       "count                       166.000000  \n",
       "mean                          0.024096  \n",
       "std                           0.153812  \n",
       "min                           0.000000  \n",
       "25%                           0.000000  \n",
       "50%                           0.000000  \n",
       "75%                           0.000000  \n",
       "max                           1.000000  \n",
       "\n",
       "[8 rows x 53 columns]"
      ]
     },
     "execution_count": 29,
     "metadata": {},
     "output_type": "execute_result"
    }
   ],
   "source": [
    "summaries = summaries_df.drop([\"#id\"],  axis='columns')\n",
    "summaries.describe()"
   ]
  },
  {
   "cell_type": "markdown",
   "metadata": {},
   "source": [
    "# Model mit allen Features"
   ]
  },
  {
   "cell_type": "code",
   "execution_count": 30,
   "metadata": {},
   "outputs": [],
   "source": [
    "summaries_text_complexity_predictions = model.predict(summaries)"
   ]
  },
  {
   "cell_type": "code",
   "execution_count": 33,
   "metadata": {},
   "outputs": [
    {
     "data": {
      "text/plain": [
       "array([1.0044568 , 0.73178592, 0.72896182, 1.00991321, 0.83819274,\n",
       "       0.94955003, 0.68604263, 0.95272433, 1.29170691, 0.63947351,\n",
       "       0.59696056, 1.17277592, 1.22034238, 0.89683081, 0.68334506,\n",
       "       0.76289345, 0.93242468, 0.57690126, 0.68784019, 0.68812742,\n",
       "       0.76203129, 1.21901692, 0.67970488, 0.8227023 , 0.31037426,\n",
       "       0.8565385 , 0.78211247, 0.96999996, 0.85732144, 0.95042224,\n",
       "       0.96858307, 0.97316461, 0.38345479, 0.68883753, 0.9164366 ,\n",
       "       1.09520574, 1.20792317, 0.47951822, 0.61317474, 1.00446502,\n",
       "       0.80763946, 0.59734054, 0.89597931, 0.49126974, 0.58696882,\n",
       "       0.92795775, 0.94312094, 0.92721537, 0.83343244, 1.12193237,\n",
       "       0.80989564, 0.94335809, 0.17991142, 1.14500742, 0.58914813,\n",
       "       0.86077832, 0.70866861, 0.75347776, 0.74293596, 1.10296271,\n",
       "       0.60028366, 0.80158072, 0.78183415, 0.67681683, 0.79053283,\n",
       "       0.80566608, 0.61527148, 1.22723236, 0.89486456, 0.78798584,\n",
       "       0.68133408, 0.71572679, 1.20357023, 0.67680907, 0.85741664,\n",
       "       1.16281209, 0.81494498, 0.75118521, 0.67611356, 1.17647036,\n",
       "       1.14823288, 0.6490075 , 0.68251557, 0.80584369, 0.68492462,\n",
       "       0.5583381 , 0.91944442, 0.945449  , 0.36407067, 1.10059822,\n",
       "       0.61050875, 1.03515052, 0.54044439, 0.93041587, 1.21789692,\n",
       "       0.74800914, 0.50883672, 1.04649087, 1.03690962, 0.86426324,\n",
       "       0.64974483, 0.89424742, 0.95410849, 0.91101362, 0.8229605 ,\n",
       "       1.04549333, 0.72176022, 0.70708293, 0.69388637, 0.69600138,\n",
       "       1.13734912, 0.8630797 , 0.87850575, 0.77044535, 0.89903493,\n",
       "       0.92457643, 0.5372779 , 0.94210207, 0.80768453, 0.89189486,\n",
       "       0.7634619 , 0.68245877, 0.76102349, 0.6021429 , 1.05573426,\n",
       "       0.80660697, 0.93617146, 1.32427885, 0.87189384, 0.98039362,\n",
       "       0.77880238, 0.7403243 , 0.49572523, 0.52483025, 0.6315956 ,\n",
       "       0.89112413, 1.06760035, 0.82520711, 0.83834198, 0.79739016,\n",
       "       0.72186905, 0.9971142 , 1.11724589, 0.71016283, 0.70576953,\n",
       "       0.86790948, 0.77333253, 0.85448836, 0.9060182 , 1.01231641,\n",
       "       0.94325026, 0.99706212, 0.76061975, 0.80809257, 0.66454911,\n",
       "       0.80339713, 0.85079712, 0.53362933, 1.13368594, 0.83673423,\n",
       "       0.82424762, 0.99882518, 0.80169275, 1.22315205, 0.87857015,\n",
       "       0.79501134])"
      ]
     },
     "execution_count": 33,
     "metadata": {},
     "output_type": "execute_result"
    }
   ],
   "source": [
    "summaries_text_complexity_predictions"
   ]
  },
  {
   "cell_type": "code",
   "execution_count": 32,
   "metadata": {},
   "outputs": [
    {
     "data": {
      "text/plain": [
       "0.8331321741061071"
      ]
     },
     "execution_count": 32,
     "metadata": {},
     "output_type": "execute_result"
    }
   ],
   "source": [
    "summaries_text_complexity_predictions.mean()"
   ]
  }
 ],
 "metadata": {
  "kernelspec": {
   "display_name": "Python 3",
   "language": "python",
   "name": "python3"
  },
  "language_info": {
   "codemirror_mode": {
    "name": "ipython",
    "version": 3
   },
   "file_extension": ".py",
   "mimetype": "text/x-python",
   "name": "python",
   "nbconvert_exporter": "python",
   "pygments_lexer": "ipython3",
   "version": "3.8.0"
  }
 },
 "nbformat": 4,
 "nbformat_minor": 4
}
