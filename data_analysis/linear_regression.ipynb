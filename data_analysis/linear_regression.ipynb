{
 "cells": [
  {
   "cell_type": "markdown",
   "metadata": {},
   "source": [
    "# Lineare Regression \n",
    "\n",
    "Lineare Regression ist ein statistisches Verfahren zur Beschreibung der Beziehung zwischen einer abhängigen Variable (y) und einer oder mehreren unabhängigen Variablen (X). Sie zielt darauf ab, eine lineare Beziehung zwischen den Variablen zu modellieren, indem sie eine mathematische Funktion verwendet, die die unabhängigen Variablen auf die abhängige Variable abbildet. Das Ziel ist es, eine Hyperebene zu finden, die die Trainingsdaten am besten beschreibt und in der Lage ist, einen kontinuierlichen Wert für neue Instanzen vorherzusagen. Je näher die die Hyperebene an den Instanzen liegt, desto besser ist das Modell. Das Ziel der Linearen Regression besteht darin, die Koeffizienten so anzupassen, dass sie die Residuen minimiert, das heißt, die Differenz zwischen den beobachteten Werten und den vorhergesagten Werten der abhängigen Variable. (Bishop and Nasrabadi, 2006)"
   ]
  },
  {
   "cell_type": "code",
   "execution_count": 146,
   "metadata": {},
   "outputs": [],
   "source": [
    "import pandas as pd\n",
    "import matplotlib.pyplot as plt\n",
    "import numpy as np\n",
    "from sklearn.model_selection import train_test_split\n",
    "from sklearn.preprocessing import StandardScaler\n",
    "from sklearn.linear_model import LinearRegression\n",
    "from sklearn.metrics import mean_squared_error\n",
    "from sklearn.metrics import mean_absolute_error\n",
    "from sklearn.metrics import precision_recall_fscore_support\n",
    "from sklearn.model_selection import cross_val_score\n",
    "from math import sqrt"
   ]
  },
  {
   "cell_type": "code",
   "execution_count": 3,
   "metadata": {},
   "outputs": [],
   "source": [
    "lexica_corpus_df = pd.read_csv(\"text_complexity_lexica.csv\")\n",
    "lexica_corpus_df = lexica_corpus_df.drop([\"Unnamed: 0\"],  axis='columns')\n",
    "lexica_corpus_df = lexica_corpus_df.drop([\"#id\"],  axis='columns')"
   ]
  },
  {
   "cell_type": "code",
   "execution_count": 102,
   "metadata": {},
   "outputs": [
    {
     "data": {
      "text/html": [
       "<div>\n",
       "<style scoped>\n",
       "    .dataframe tbody tr th:only-of-type {\n",
       "        vertical-align: middle;\n",
       "    }\n",
       "\n",
       "    .dataframe tbody tr th {\n",
       "        vertical-align: top;\n",
       "    }\n",
       "\n",
       "    .dataframe thead th {\n",
       "        text-align: right;\n",
       "    }\n",
       "</style>\n",
       "<table border=\"1\" class=\"dataframe\">\n",
       "  <thead>\n",
       "    <tr style=\"text-align: right;\">\n",
       "      <th></th>\n",
       "      <th>#label</th>\n",
       "      <th>sentence_length</th>\n",
       "      <th>characters_per_word</th>\n",
       "      <th>syllables_per_word</th>\n",
       "      <th>text_length</th>\n",
       "      <th>noun_phrases_per_sent</th>\n",
       "      <th>tree_height</th>\n",
       "      <th>sub_clauses_per_sent</th>\n",
       "      <th>sents_with_verb_as_root</th>\n",
       "      <th>sents_with_nouns_as_root</th>\n",
       "      <th>...</th>\n",
       "      <th>POS_adpositions</th>\n",
       "      <th>ttr</th>\n",
       "      <th>lexical_complexity_score</th>\n",
       "      <th>verbs_in_sentence</th>\n",
       "      <th>pronouns_per_sentence</th>\n",
       "      <th>articles_per_sentence</th>\n",
       "      <th>count_of_discourse_markers</th>\n",
       "      <th>semantic_similarity_nouns</th>\n",
       "      <th>semantic_similarity_verbs</th>\n",
       "      <th>semantic_similarity_adjectives\\r\\n</th>\n",
       "    </tr>\n",
       "  </thead>\n",
       "  <tbody>\n",
       "    <tr>\n",
       "      <th>0</th>\n",
       "      <td>0.0</td>\n",
       "      <td>7.285714</td>\n",
       "      <td>4.862745</td>\n",
       "      <td>1.627451</td>\n",
       "      <td>102</td>\n",
       "      <td>2.214286</td>\n",
       "      <td>3.857143</td>\n",
       "      <td>0.071429</td>\n",
       "      <td>0.357143</td>\n",
       "      <td>0.000000</td>\n",
       "      <td>...</td>\n",
       "      <td>0.137255</td>\n",
       "      <td>0.683168</td>\n",
       "      <td>7.406711</td>\n",
       "      <td>1.285714</td>\n",
       "      <td>0.642857</td>\n",
       "      <td>0.142857</td>\n",
       "      <td>1.071429</td>\n",
       "      <td>0.164365</td>\n",
       "      <td>0.339265</td>\n",
       "      <td>0.329539</td>\n",
       "    </tr>\n",
       "    <tr>\n",
       "      <th>1</th>\n",
       "      <td>0.0</td>\n",
       "      <td>8.090909</td>\n",
       "      <td>4.494382</td>\n",
       "      <td>1.539326</td>\n",
       "      <td>89</td>\n",
       "      <td>2.454545</td>\n",
       "      <td>4.363636</td>\n",
       "      <td>0.000000</td>\n",
       "      <td>0.363636</td>\n",
       "      <td>0.090909</td>\n",
       "      <td>...</td>\n",
       "      <td>0.146067</td>\n",
       "      <td>0.590909</td>\n",
       "      <td>7.652426</td>\n",
       "      <td>0.909091</td>\n",
       "      <td>0.090909</td>\n",
       "      <td>1.454545</td>\n",
       "      <td>0.272727</td>\n",
       "      <td>0.207224</td>\n",
       "      <td>0.405196</td>\n",
       "      <td>0.241409</td>\n",
       "    </tr>\n",
       "    <tr>\n",
       "      <th>2</th>\n",
       "      <td>0.0</td>\n",
       "      <td>7.187500</td>\n",
       "      <td>4.521739</td>\n",
       "      <td>1.634783</td>\n",
       "      <td>115</td>\n",
       "      <td>2.750000</td>\n",
       "      <td>3.500000</td>\n",
       "      <td>0.312500</td>\n",
       "      <td>0.687500</td>\n",
       "      <td>0.062500</td>\n",
       "      <td>...</td>\n",
       "      <td>0.113043</td>\n",
       "      <td>0.517544</td>\n",
       "      <td>8.269501</td>\n",
       "      <td>0.875000</td>\n",
       "      <td>0.375000</td>\n",
       "      <td>1.312500</td>\n",
       "      <td>0.375000</td>\n",
       "      <td>0.257176</td>\n",
       "      <td>0.401604</td>\n",
       "      <td>0.011698</td>\n",
       "    </tr>\n",
       "    <tr>\n",
       "      <th>3</th>\n",
       "      <td>0.0</td>\n",
       "      <td>7.200000</td>\n",
       "      <td>5.000000</td>\n",
       "      <td>1.743056</td>\n",
       "      <td>144</td>\n",
       "      <td>2.000000</td>\n",
       "      <td>3.850000</td>\n",
       "      <td>0.150000</td>\n",
       "      <td>0.350000</td>\n",
       "      <td>0.000000</td>\n",
       "      <td>...</td>\n",
       "      <td>0.090278</td>\n",
       "      <td>0.531469</td>\n",
       "      <td>7.802380</td>\n",
       "      <td>1.000000</td>\n",
       "      <td>0.600000</td>\n",
       "      <td>0.600000</td>\n",
       "      <td>0.800000</td>\n",
       "      <td>0.249245</td>\n",
       "      <td>0.449268</td>\n",
       "      <td>0.249822</td>\n",
       "    </tr>\n",
       "    <tr>\n",
       "      <th>4</th>\n",
       "      <td>0.0</td>\n",
       "      <td>6.235294</td>\n",
       "      <td>5.132075</td>\n",
       "      <td>1.877358</td>\n",
       "      <td>106</td>\n",
       "      <td>2.176471</td>\n",
       "      <td>3.470588</td>\n",
       "      <td>0.117647</td>\n",
       "      <td>0.470588</td>\n",
       "      <td>0.000000</td>\n",
       "      <td>...</td>\n",
       "      <td>0.122642</td>\n",
       "      <td>0.704762</td>\n",
       "      <td>7.951559</td>\n",
       "      <td>0.882353</td>\n",
       "      <td>0.529412</td>\n",
       "      <td>0.647059</td>\n",
       "      <td>0.411765</td>\n",
       "      <td>0.161453</td>\n",
       "      <td>0.386161</td>\n",
       "      <td>0.202404</td>\n",
       "    </tr>\n",
       "  </tbody>\n",
       "</table>\n",
       "<p>5 rows × 29 columns</p>\n",
       "</div>"
      ],
      "text/plain": [
       "   #label  sentence_length  characters_per_word  syllables_per_word  \\\n",
       "0     0.0         7.285714             4.862745            1.627451   \n",
       "1     0.0         8.090909             4.494382            1.539326   \n",
       "2     0.0         7.187500             4.521739            1.634783   \n",
       "3     0.0         7.200000             5.000000            1.743056   \n",
       "4     0.0         6.235294             5.132075            1.877358   \n",
       "\n",
       "   text_length  noun_phrases_per_sent  tree_height  sub_clauses_per_sent  \\\n",
       "0          102               2.214286     3.857143              0.071429   \n",
       "1           89               2.454545     4.363636              0.000000   \n",
       "2          115               2.750000     3.500000              0.312500   \n",
       "3          144               2.000000     3.850000              0.150000   \n",
       "4          106               2.176471     3.470588              0.117647   \n",
       "\n",
       "   sents_with_verb_as_root  sents_with_nouns_as_root  ...  POS_adpositions  \\\n",
       "0                 0.357143                  0.000000  ...         0.137255   \n",
       "1                 0.363636                  0.090909  ...         0.146067   \n",
       "2                 0.687500                  0.062500  ...         0.113043   \n",
       "3                 0.350000                  0.000000  ...         0.090278   \n",
       "4                 0.470588                  0.000000  ...         0.122642   \n",
       "\n",
       "        ttr  lexical_complexity_score  verbs_in_sentence  \\\n",
       "0  0.683168                  7.406711           1.285714   \n",
       "1  0.590909                  7.652426           0.909091   \n",
       "2  0.517544                  8.269501           0.875000   \n",
       "3  0.531469                  7.802380           1.000000   \n",
       "4  0.704762                  7.951559           0.882353   \n",
       "\n",
       "   pronouns_per_sentence  articles_per_sentence  count_of_discourse_markers  \\\n",
       "0               0.642857               0.142857                    1.071429   \n",
       "1               0.090909               1.454545                    0.272727   \n",
       "2               0.375000               1.312500                    0.375000   \n",
       "3               0.600000               0.600000                    0.800000   \n",
       "4               0.529412               0.647059                    0.411765   \n",
       "\n",
       "   semantic_similarity_nouns  semantic_similarity_verbs  \\\n",
       "0                   0.164365                   0.339265   \n",
       "1                   0.207224                   0.405196   \n",
       "2                   0.257176                   0.401604   \n",
       "3                   0.249245                   0.449268   \n",
       "4                   0.161453                   0.386161   \n",
       "\n",
       "   semantic_similarity_adjectives\\r\\n  \n",
       "0                            0.329539  \n",
       "1                            0.241409  \n",
       "2                            0.011698  \n",
       "3                            0.249822  \n",
       "4                            0.202404  \n",
       "\n",
       "[5 rows x 29 columns]"
      ]
     },
     "execution_count": 102,
     "metadata": {},
     "output_type": "execute_result"
    }
   ],
   "source": [
    "# list(lexica_corpus_df.columns)\n",
    "lexica_corpus_df.head()"
   ]
  },
  {
   "cell_type": "markdown",
   "metadata": {},
   "source": [
    "## Baseline Textkomplexitätsmerkmale"
   ]
  },
  {
   "cell_type": "code",
   "execution_count": 84,
   "metadata": {},
   "outputs": [
    {
     "data": {
      "text/html": [
       "<div>\n",
       "<style scoped>\n",
       "    .dataframe tbody tr th:only-of-type {\n",
       "        vertical-align: middle;\n",
       "    }\n",
       "\n",
       "    .dataframe tbody tr th {\n",
       "        vertical-align: top;\n",
       "    }\n",
       "\n",
       "    .dataframe thead th {\n",
       "        text-align: right;\n",
       "    }\n",
       "</style>\n",
       "<table border=\"1\" class=\"dataframe\">\n",
       "  <thead>\n",
       "    <tr style=\"text-align: right;\">\n",
       "      <th></th>\n",
       "      <th>#label</th>\n",
       "      <th>sentence_length</th>\n",
       "      <th>characters_per_word</th>\n",
       "      <th>syllables_per_word</th>\n",
       "      <th>text_length</th>\n",
       "    </tr>\n",
       "  </thead>\n",
       "  <tbody>\n",
       "    <tr>\n",
       "      <th>0</th>\n",
       "      <td>0.0</td>\n",
       "      <td>7.285714</td>\n",
       "      <td>4.862745</td>\n",
       "      <td>1.627451</td>\n",
       "      <td>102</td>\n",
       "    </tr>\n",
       "    <tr>\n",
       "      <th>1</th>\n",
       "      <td>0.0</td>\n",
       "      <td>8.090909</td>\n",
       "      <td>4.494382</td>\n",
       "      <td>1.539326</td>\n",
       "      <td>89</td>\n",
       "    </tr>\n",
       "    <tr>\n",
       "      <th>2</th>\n",
       "      <td>0.0</td>\n",
       "      <td>7.187500</td>\n",
       "      <td>4.521739</td>\n",
       "      <td>1.634783</td>\n",
       "      <td>115</td>\n",
       "    </tr>\n",
       "    <tr>\n",
       "      <th>3</th>\n",
       "      <td>0.0</td>\n",
       "      <td>7.200000</td>\n",
       "      <td>5.000000</td>\n",
       "      <td>1.743056</td>\n",
       "      <td>144</td>\n",
       "    </tr>\n",
       "    <tr>\n",
       "      <th>4</th>\n",
       "      <td>0.0</td>\n",
       "      <td>6.235294</td>\n",
       "      <td>5.132075</td>\n",
       "      <td>1.877358</td>\n",
       "      <td>106</td>\n",
       "    </tr>\n",
       "  </tbody>\n",
       "</table>\n",
       "</div>"
      ],
      "text/plain": [
       "   #label  sentence_length  characters_per_word  syllables_per_word  \\\n",
       "0     0.0         7.285714             4.862745            1.627451   \n",
       "1     0.0         8.090909             4.494382            1.539326   \n",
       "2     0.0         7.187500             4.521739            1.634783   \n",
       "3     0.0         7.200000             5.000000            1.743056   \n",
       "4     0.0         6.235294             5.132075            1.877358   \n",
       "\n",
       "   text_length  \n",
       "0          102  \n",
       "1           89  \n",
       "2          115  \n",
       "3          144  \n",
       "4          106  "
      ]
     },
     "execution_count": 84,
     "metadata": {},
     "output_type": "execute_result"
    }
   ],
   "source": [
    "baseline_df = lexica_corpus_df[[\"#label\", \"sentence_length\", \"characters_per_word\", \"syllables_per_word\", \"text_length\"]]\n",
    "baseline_df.head()"
   ]
  },
  {
   "cell_type": "markdown",
   "metadata": {},
   "source": [
    "### Train und Test Daten"
   ]
  },
  {
   "cell_type": "code",
   "execution_count": 87,
   "metadata": {},
   "outputs": [
    {
     "name": "stdout",
     "output_type": "stream",
     "text": [
      "X_train_baseline shape:  (708, 4)\n",
      "X_test_baseline shape:  (177, 4)\n",
      "y_train_baseline shape:  (708,)\n",
      "y_test_baseline shape:  (177,)\n"
     ]
    }
   ],
   "source": [
    "y_baseline = baseline_df[\"#label\"]\n",
    "X_baseline = baseline_df.drop([\"#label\"],  axis='columns')\n",
    "\n",
    "X_train_baseline, X_test_baseline, y_train_baseline, y_test_baseline = train_test_split(X_baseline, y_baseline, test_size=0.2, random_state=123)\n",
    "\n",
    "print(\"X_train_baseline shape: \", X_train_baseline.shape)\n",
    "print(\"X_test_baseline shape: \", X_test_baseline.shape)\n",
    "print(\"y_train_baseline shape: \", y_train_baseline.shape)\n",
    "print(\"y_test_baseline shape: \", y_test_baseline.shape)"
   ]
  },
  {
   "cell_type": "markdown",
   "metadata": {},
   "source": [
    "### Standardisierung\n",
    "Standardisierung zur Normalisierung der Daten, indem die Daten so skaliert werden, dass sie einen Mittelwert von Null und eine Standardabweichung von Eins haben. Dies verhindert, dass Datenpunkte, die eine viel größere Skala haben als andere, das Modell dominieren."
   ]
  },
  {
   "cell_type": "code",
   "execution_count": 91,
   "metadata": {},
   "outputs": [],
   "source": [
    "scaler_bl = StandardScaler()\n",
    "train_scaled_baseline = scaler_bl.fit_transform(X_train_baseline)\n",
    "test_scaled_baseline = scaler_bl.transform(X_test_baseline)"
   ]
  },
  {
   "cell_type": "markdown",
   "metadata": {},
   "source": [
    "### Lineare Regression"
   ]
  },
  {
   "cell_type": "code",
   "execution_count": 92,
   "metadata": {},
   "outputs": [
    {
     "data": {
      "text/html": [
       "<style>#sk-container-id-5 {color: black;background-color: white;}#sk-container-id-5 pre{padding: 0;}#sk-container-id-5 div.sk-toggleable {background-color: white;}#sk-container-id-5 label.sk-toggleable__label {cursor: pointer;display: block;width: 100%;margin-bottom: 0;padding: 0.3em;box-sizing: border-box;text-align: center;}#sk-container-id-5 label.sk-toggleable__label-arrow:before {content: \"▸\";float: left;margin-right: 0.25em;color: #696969;}#sk-container-id-5 label.sk-toggleable__label-arrow:hover:before {color: black;}#sk-container-id-5 div.sk-estimator:hover label.sk-toggleable__label-arrow:before {color: black;}#sk-container-id-5 div.sk-toggleable__content {max-height: 0;max-width: 0;overflow: hidden;text-align: left;background-color: #f0f8ff;}#sk-container-id-5 div.sk-toggleable__content pre {margin: 0.2em;color: black;border-radius: 0.25em;background-color: #f0f8ff;}#sk-container-id-5 input.sk-toggleable__control:checked~div.sk-toggleable__content {max-height: 200px;max-width: 100%;overflow: auto;}#sk-container-id-5 input.sk-toggleable__control:checked~label.sk-toggleable__label-arrow:before {content: \"▾\";}#sk-container-id-5 div.sk-estimator input.sk-toggleable__control:checked~label.sk-toggleable__label {background-color: #d4ebff;}#sk-container-id-5 div.sk-label input.sk-toggleable__control:checked~label.sk-toggleable__label {background-color: #d4ebff;}#sk-container-id-5 input.sk-hidden--visually {border: 0;clip: rect(1px 1px 1px 1px);clip: rect(1px, 1px, 1px, 1px);height: 1px;margin: -1px;overflow: hidden;padding: 0;position: absolute;width: 1px;}#sk-container-id-5 div.sk-estimator {font-family: monospace;background-color: #f0f8ff;border: 1px dotted black;border-radius: 0.25em;box-sizing: border-box;margin-bottom: 0.5em;}#sk-container-id-5 div.sk-estimator:hover {background-color: #d4ebff;}#sk-container-id-5 div.sk-parallel-item::after {content: \"\";width: 100%;border-bottom: 1px solid gray;flex-grow: 1;}#sk-container-id-5 div.sk-label:hover label.sk-toggleable__label {background-color: #d4ebff;}#sk-container-id-5 div.sk-serial::before {content: \"\";position: absolute;border-left: 1px solid gray;box-sizing: border-box;top: 0;bottom: 0;left: 50%;z-index: 0;}#sk-container-id-5 div.sk-serial {display: flex;flex-direction: column;align-items: center;background-color: white;padding-right: 0.2em;padding-left: 0.2em;position: relative;}#sk-container-id-5 div.sk-item {position: relative;z-index: 1;}#sk-container-id-5 div.sk-parallel {display: flex;align-items: stretch;justify-content: center;background-color: white;position: relative;}#sk-container-id-5 div.sk-item::before, #sk-container-id-5 div.sk-parallel-item::before {content: \"\";position: absolute;border-left: 1px solid gray;box-sizing: border-box;top: 0;bottom: 0;left: 50%;z-index: -1;}#sk-container-id-5 div.sk-parallel-item {display: flex;flex-direction: column;z-index: 1;position: relative;background-color: white;}#sk-container-id-5 div.sk-parallel-item:first-child::after {align-self: flex-end;width: 50%;}#sk-container-id-5 div.sk-parallel-item:last-child::after {align-self: flex-start;width: 50%;}#sk-container-id-5 div.sk-parallel-item:only-child::after {width: 0;}#sk-container-id-5 div.sk-dashed-wrapped {border: 1px dashed gray;margin: 0 0.4em 0.5em 0.4em;box-sizing: border-box;padding-bottom: 0.4em;background-color: white;}#sk-container-id-5 div.sk-label label {font-family: monospace;font-weight: bold;display: inline-block;line-height: 1.2em;}#sk-container-id-5 div.sk-label-container {text-align: center;}#sk-container-id-5 div.sk-container {/* jupyter's `normalize.less` sets `[hidden] { display: none; }` but bootstrap.min.css set `[hidden] { display: none !important; }` so we also need the `!important` here to be able to override the default hidden behavior on the sphinx rendered scikit-learn.org. See: https://github.com/scikit-learn/scikit-learn/issues/21755 */display: inline-block !important;position: relative;}#sk-container-id-5 div.sk-text-repr-fallback {display: none;}</style><div id=\"sk-container-id-5\" class=\"sk-top-container\"><div class=\"sk-text-repr-fallback\"><pre>LinearRegression()</pre><b>In a Jupyter environment, please rerun this cell to show the HTML representation or trust the notebook. <br />On GitHub, the HTML representation is unable to render, please try loading this page with nbviewer.org.</b></div><div class=\"sk-container\" hidden><div class=\"sk-item\"><div class=\"sk-estimator sk-toggleable\"><input class=\"sk-toggleable__control sk-hidden--visually\" id=\"sk-estimator-id-5\" type=\"checkbox\" checked><label for=\"sk-estimator-id-5\" class=\"sk-toggleable__label sk-toggleable__label-arrow\">LinearRegression</label><div class=\"sk-toggleable__content\"><pre>LinearRegression()</pre></div></div></div></div></div>"
      ],
      "text/plain": [
       "LinearRegression()"
      ]
     },
     "execution_count": 92,
     "metadata": {},
     "output_type": "execute_result"
    }
   ],
   "source": [
    "model_bl = LinearRegression()\n",
    "model_bl.fit(train_scaled_baseline, y_train_baseline)"
   ]
  },
  {
   "cell_type": "markdown",
   "metadata": {},
   "source": [
    "### Model Evaluation"
   ]
  },
  {
   "cell_type": "code",
   "execution_count": 95,
   "metadata": {},
   "outputs": [
    {
     "name": "stdout",
     "output_type": "stream",
     "text": [
      "mse_baseline =  0.03685208023090866  & mae_baseline =  0.14821594137849967  & rmse_baseline =  0.19196895642501333\n"
     ]
    }
   ],
   "source": [
    "mse_baseline = mean_squared_error(y_train_baseline, model_bl.predict(train_scaled_baseline))\n",
    "mae_baseline = mean_absolute_error(y_train_baseline, model_bl.predict(train_scaled_baseline))\n",
    "print(\"mse_baseline = \",mse_baseline,\" & mae_baseline = \",mae_baseline,\" & rmse_baseline = \", sqrt(mse_baseline))"
   ]
  },
  {
   "cell_type": "code",
   "execution_count": 96,
   "metadata": {},
   "outputs": [
    {
     "name": "stdout",
     "output_type": "stream",
     "text": [
      "mse_baseline =  0.0388434573784167  & mae_baseline =  0.1543669159060447  & rmse_baseline =  0.1970874358715357\n"
     ]
    }
   ],
   "source": [
    "test_mse_baseline = mean_squared_error(y_test_baseline, model_bl.predict(test_scaled_baseline))\n",
    "test_mae_baseline = mean_absolute_error(y_test_baseline, model_bl.predict(test_scaled_baseline))\n",
    "print(\"mse_baseline = \",test_mse_baseline,\" & mae_baseline = \",test_mae_baseline,\" & rmse_baseline = \", sqrt(test_mse_baseline))"
   ]
  },
  {
   "cell_type": "code",
   "execution_count": 101,
   "metadata": {},
   "outputs": [
    {
     "name": "stdout",
     "output_type": "stream",
     "text": [
      "Mean squared error: 0.05364619107960027\n"
     ]
    }
   ],
   "source": [
    "scores_bl = cross_val_score(model_bl, X_baseline, y_baseline, cv=5, scoring='neg_mean_squared_error')\n",
    "\n",
    "# durchschnittliche mittlere quadratische Abweichung\n",
    "mse_mean_bl = -scores_bl.mean()\n",
    "print(\"Mean squared error:\", mse_mean_bl)"
   ]
  },
  {
   "cell_type": "markdown",
   "metadata": {},
   "source": [
    "## Alle Textkomplexitätsmerkmale (ausser Diskursmarkerbedeutung)"
   ]
  },
  {
   "cell_type": "markdown",
   "metadata": {},
   "source": [
    "### Train und Test Daten"
   ]
  },
  {
   "cell_type": "code",
   "execution_count": 85,
   "metadata": {},
   "outputs": [
    {
     "name": "stdout",
     "output_type": "stream",
     "text": [
      "X_train shape:  (708, 28)\n",
      "X_test shape:  (177, 28)\n",
      "y_train shape:  (708,)\n",
      "y_test shape:  (177,)\n"
     ]
    }
   ],
   "source": [
    "y = lexica_corpus_df[\"#label\"]\n",
    "X = lexica_corpus_df.drop([\"#label\"],  axis='columns')\n",
    "\n",
    "X_train, X_test, y_train, y_test = train_test_split(X, y, test_size=0.2, random_state=123)\n",
    "\n",
    "print(\"X_train shape: \", X_train.shape)\n",
    "print(\"X_test shape: \", X_test.shape)\n",
    "print(\"y_train shape: \", y_train.shape)\n",
    "print(\"y_test shape: \", y_test.shape)"
   ]
  },
  {
   "cell_type": "markdown",
   "metadata": {},
   "source": [
    "### Standardisierung\n",
    "Standardisierung zur Normalisierung der Daten, indem die Daten so skaliert werden, dass sie einen Mittelwert von Null und eine Standardabweichung von Eins haben. Dies verhindert, dass Datenpunkte, die eine viel größere Skala haben als andere, das Modell dominieren."
   ]
  },
  {
   "cell_type": "code",
   "execution_count": 18,
   "metadata": {},
   "outputs": [],
   "source": [
    "scaler = StandardScaler()\n",
    "train_scaled = scaler.fit_transform(X_train)\n",
    "test_scaled = scaler.transform(X_test)"
   ]
  },
  {
   "cell_type": "markdown",
   "metadata": {},
   "source": [
    "### Lineare Regression"
   ]
  },
  {
   "cell_type": "code",
   "execution_count": 21,
   "metadata": {},
   "outputs": [
    {
     "data": {
      "text/html": [
       "<style>#sk-container-id-1 {color: black;background-color: white;}#sk-container-id-1 pre{padding: 0;}#sk-container-id-1 div.sk-toggleable {background-color: white;}#sk-container-id-1 label.sk-toggleable__label {cursor: pointer;display: block;width: 100%;margin-bottom: 0;padding: 0.3em;box-sizing: border-box;text-align: center;}#sk-container-id-1 label.sk-toggleable__label-arrow:before {content: \"▸\";float: left;margin-right: 0.25em;color: #696969;}#sk-container-id-1 label.sk-toggleable__label-arrow:hover:before {color: black;}#sk-container-id-1 div.sk-estimator:hover label.sk-toggleable__label-arrow:before {color: black;}#sk-container-id-1 div.sk-toggleable__content {max-height: 0;max-width: 0;overflow: hidden;text-align: left;background-color: #f0f8ff;}#sk-container-id-1 div.sk-toggleable__content pre {margin: 0.2em;color: black;border-radius: 0.25em;background-color: #f0f8ff;}#sk-container-id-1 input.sk-toggleable__control:checked~div.sk-toggleable__content {max-height: 200px;max-width: 100%;overflow: auto;}#sk-container-id-1 input.sk-toggleable__control:checked~label.sk-toggleable__label-arrow:before {content: \"▾\";}#sk-container-id-1 div.sk-estimator input.sk-toggleable__control:checked~label.sk-toggleable__label {background-color: #d4ebff;}#sk-container-id-1 div.sk-label input.sk-toggleable__control:checked~label.sk-toggleable__label {background-color: #d4ebff;}#sk-container-id-1 input.sk-hidden--visually {border: 0;clip: rect(1px 1px 1px 1px);clip: rect(1px, 1px, 1px, 1px);height: 1px;margin: -1px;overflow: hidden;padding: 0;position: absolute;width: 1px;}#sk-container-id-1 div.sk-estimator {font-family: monospace;background-color: #f0f8ff;border: 1px dotted black;border-radius: 0.25em;box-sizing: border-box;margin-bottom: 0.5em;}#sk-container-id-1 div.sk-estimator:hover {background-color: #d4ebff;}#sk-container-id-1 div.sk-parallel-item::after {content: \"\";width: 100%;border-bottom: 1px solid gray;flex-grow: 1;}#sk-container-id-1 div.sk-label:hover label.sk-toggleable__label {background-color: #d4ebff;}#sk-container-id-1 div.sk-serial::before {content: \"\";position: absolute;border-left: 1px solid gray;box-sizing: border-box;top: 0;bottom: 0;left: 50%;z-index: 0;}#sk-container-id-1 div.sk-serial {display: flex;flex-direction: column;align-items: center;background-color: white;padding-right: 0.2em;padding-left: 0.2em;position: relative;}#sk-container-id-1 div.sk-item {position: relative;z-index: 1;}#sk-container-id-1 div.sk-parallel {display: flex;align-items: stretch;justify-content: center;background-color: white;position: relative;}#sk-container-id-1 div.sk-item::before, #sk-container-id-1 div.sk-parallel-item::before {content: \"\";position: absolute;border-left: 1px solid gray;box-sizing: border-box;top: 0;bottom: 0;left: 50%;z-index: -1;}#sk-container-id-1 div.sk-parallel-item {display: flex;flex-direction: column;z-index: 1;position: relative;background-color: white;}#sk-container-id-1 div.sk-parallel-item:first-child::after {align-self: flex-end;width: 50%;}#sk-container-id-1 div.sk-parallel-item:last-child::after {align-self: flex-start;width: 50%;}#sk-container-id-1 div.sk-parallel-item:only-child::after {width: 0;}#sk-container-id-1 div.sk-dashed-wrapped {border: 1px dashed gray;margin: 0 0.4em 0.5em 0.4em;box-sizing: border-box;padding-bottom: 0.4em;background-color: white;}#sk-container-id-1 div.sk-label label {font-family: monospace;font-weight: bold;display: inline-block;line-height: 1.2em;}#sk-container-id-1 div.sk-label-container {text-align: center;}#sk-container-id-1 div.sk-container {/* jupyter's `normalize.less` sets `[hidden] { display: none; }` but bootstrap.min.css set `[hidden] { display: none !important; }` so we also need the `!important` here to be able to override the default hidden behavior on the sphinx rendered scikit-learn.org. See: https://github.com/scikit-learn/scikit-learn/issues/21755 */display: inline-block !important;position: relative;}#sk-container-id-1 div.sk-text-repr-fallback {display: none;}</style><div id=\"sk-container-id-1\" class=\"sk-top-container\"><div class=\"sk-text-repr-fallback\"><pre>LinearRegression()</pre><b>In a Jupyter environment, please rerun this cell to show the HTML representation or trust the notebook. <br />On GitHub, the HTML representation is unable to render, please try loading this page with nbviewer.org.</b></div><div class=\"sk-container\" hidden><div class=\"sk-item\"><div class=\"sk-estimator sk-toggleable\"><input class=\"sk-toggleable__control sk-hidden--visually\" id=\"sk-estimator-id-1\" type=\"checkbox\" checked><label for=\"sk-estimator-id-1\" class=\"sk-toggleable__label sk-toggleable__label-arrow\">LinearRegression</label><div class=\"sk-toggleable__content\"><pre>LinearRegression()</pre></div></div></div></div></div>"
      ],
      "text/plain": [
       "LinearRegression()"
      ]
     },
     "execution_count": 21,
     "metadata": {},
     "output_type": "execute_result"
    }
   ],
   "source": [
    "model = LinearRegression()\n",
    "model.fit(train_scaled, y_train)"
   ]
  },
  {
   "cell_type": "markdown",
   "metadata": {},
   "source": [
    "### Model Evaluation\n",
    "\n",
    "- Der mittlere quadratische Fehler (mse) ist ein Maß für die durchschnittliche Abweichung zwischen den Vorhersagen und den tatsächlichen Werten und wird verwendet, um die Leistung von Regressionsmodellen zu bewerten. Je kleiner der mittlere quadratische Fehler, desto besser ist die Leistung des Modells.\n",
    "- Der mittlere absolute Fehler (mae) ist ein weiteres Maß für die durchschnittliche Abweichung zwischen den Vorhersagen und den tatsächlichen Werten. Im Vergleich zum mittleren quadratischen Fehler ist er weniger empfindlich gegenüber Ausreißern in den Daten."
   ]
  },
  {
   "cell_type": "code",
   "execution_count": 90,
   "metadata": {},
   "outputs": [
    {
     "name": "stdout",
     "output_type": "stream",
     "text": [
      "mse =  0.022792693642563977  & mae =  0.11877430520329106  & rmse =  0.15097249299976462\n"
     ]
    }
   ],
   "source": [
    "mse = mean_squared_error(y_train, model.predict(train_scaled))\n",
    "mae = mean_absolute_error(y_train, model.predict(train_scaled))\n",
    "print(\"mse = \",mse,\" & mae = \",mae,\" & rmse = \", sqrt(mse))"
   ]
  },
  {
   "cell_type": "code",
   "execution_count": 26,
   "metadata": {},
   "outputs": [
    {
     "name": "stdout",
     "output_type": "stream",
     "text": [
      "mse =  0.02445497425332712  & mae =  0.12057222047965488  & rmse =  0.1563808628104063\n"
     ]
    }
   ],
   "source": [
    "test_mse = mean_squared_error(y_test, model.predict(test_scaled))\n",
    "test_mae = mean_absolute_error(y_test, model.predict(test_scaled))\n",
    "print(\"mse = \",test_mse,\" & mae = \",test_mae,\" & rmse = \", sqrt(test_mse))"
   ]
  },
  {
   "cell_type": "markdown",
   "metadata": {},
   "source": [
    "- 5-Fold-Validierung ist ein Verfahren, bei dem die verfügbaren Daten in fünf zufällige Untergruppen unterteilt werden. Das Modell wird dann fünfmal trainiert und getestet, wobei jeweils eine der fünf Untergruppen als Testdatensatz und die anderen vier als Trainingsdatensätze verwendet werden. Das Ergebnis der Validierung ist der Durchschnitt der Leistung des Modells auf den fünf Testdatensätzen."
   ]
  },
  {
   "cell_type": "code",
   "execution_count": 100,
   "metadata": {},
   "outputs": [
    {
     "name": "stdout",
     "output_type": "stream",
     "text": [
      "Mean squared error: 0.03548004207834071\n"
     ]
    }
   ],
   "source": [
    "scores = cross_val_score(model, X, y, cv=5, scoring='neg_mean_squared_error')\n",
    "\n",
    "# durchschnittliche mittlere quadratische Abweichung\n",
    "mse_mean = -scores.mean()\n",
    "print(\"Mean squared error:\", mse_mean)"
   ]
  },
  {
   "cell_type": "markdown",
   "metadata": {},
   "source": [
    "### Mit Diskursmarkerbedeutung\n"
   ]
  },
  {
   "cell_type": "code",
   "execution_count": 44,
   "metadata": {},
   "outputs": [],
   "source": [
    "dms_df = pd.read_csv(\"discourse_marker_sense_vectores.csv\")"
   ]
  },
  {
   "cell_type": "code",
   "execution_count": 45,
   "metadata": {},
   "outputs": [
    {
     "data": {
      "text/html": [
       "<div>\n",
       "<style scoped>\n",
       "    .dataframe tbody tr th:only-of-type {\n",
       "        vertical-align: middle;\n",
       "    }\n",
       "\n",
       "    .dataframe tbody tr th {\n",
       "        vertical-align: top;\n",
       "    }\n",
       "\n",
       "    .dataframe thead th {\n",
       "        text-align: right;\n",
       "    }\n",
       "</style>\n",
       "<table border=\"1\" class=\"dataframe\">\n",
       "  <thead>\n",
       "    <tr style=\"text-align: right;\">\n",
       "      <th></th>\n",
       "      <th>#label</th>\n",
       "      <th>Contingency.Cause.Reason</th>\n",
       "      <th>Expansion.Substitution.Arg2-as-subst</th>\n",
       "      <th>Contingency.Cause.Result</th>\n",
       "      <th>Contingency.Purpose.Arg1-as-goal</th>\n",
       "      <th>Expansion.Conjunction</th>\n",
       "      <th>Temporal.Asynchronous.Succession</th>\n",
       "      <th>Comparison.Contrast</th>\n",
       "      <th>Temporal.Asynchronous.Precedence</th>\n",
       "      <th>Expansion.Exception.Arg2-as-except</th>\n",
       "      <th>...</th>\n",
       "      <th>Temporal.Synchronous</th>\n",
       "      <th>Contingency.Purpose.Arg2-as-goal</th>\n",
       "      <th>Expansion.Exception.Arg1-as-except</th>\n",
       "      <th>Expansion.Level-of-detail.Arg2-as-detail</th>\n",
       "      <th>Expansion.Substitution.Arg1-as-subst</th>\n",
       "      <th>Contingency.Condition.Arg1-as-cond</th>\n",
       "      <th>Expansion.Instantiation.Arg2-as-instance</th>\n",
       "      <th>Contingency.Condition.Arg2-as-cond</th>\n",
       "      <th>Expansion.Equivalence</th>\n",
       "      <th>Expansion.Manner.Arg2-as-manner</th>\n",
       "    </tr>\n",
       "  </thead>\n",
       "  <tbody>\n",
       "    <tr>\n",
       "      <th>0</th>\n",
       "      <td>0.0</td>\n",
       "      <td>1</td>\n",
       "      <td>0</td>\n",
       "      <td>0</td>\n",
       "      <td>0</td>\n",
       "      <td>5</td>\n",
       "      <td>1</td>\n",
       "      <td>2</td>\n",
       "      <td>1</td>\n",
       "      <td>0</td>\n",
       "      <td>...</td>\n",
       "      <td>1</td>\n",
       "      <td>0</td>\n",
       "      <td>0</td>\n",
       "      <td>0</td>\n",
       "      <td>0</td>\n",
       "      <td>0</td>\n",
       "      <td>0</td>\n",
       "      <td>0</td>\n",
       "      <td>3</td>\n",
       "      <td>0</td>\n",
       "    </tr>\n",
       "    <tr>\n",
       "      <th>1</th>\n",
       "      <td>0.0</td>\n",
       "      <td>0</td>\n",
       "      <td>0</td>\n",
       "      <td>0</td>\n",
       "      <td>0</td>\n",
       "      <td>2</td>\n",
       "      <td>0</td>\n",
       "      <td>0</td>\n",
       "      <td>0</td>\n",
       "      <td>0</td>\n",
       "      <td>...</td>\n",
       "      <td>0</td>\n",
       "      <td>0</td>\n",
       "      <td>0</td>\n",
       "      <td>0</td>\n",
       "      <td>0</td>\n",
       "      <td>0</td>\n",
       "      <td>0</td>\n",
       "      <td>0</td>\n",
       "      <td>1</td>\n",
       "      <td>0</td>\n",
       "    </tr>\n",
       "    <tr>\n",
       "      <th>2</th>\n",
       "      <td>0.0</td>\n",
       "      <td>2</td>\n",
       "      <td>0</td>\n",
       "      <td>0</td>\n",
       "      <td>0</td>\n",
       "      <td>2</td>\n",
       "      <td>0</td>\n",
       "      <td>0</td>\n",
       "      <td>0</td>\n",
       "      <td>0</td>\n",
       "      <td>...</td>\n",
       "      <td>0</td>\n",
       "      <td>0</td>\n",
       "      <td>0</td>\n",
       "      <td>0</td>\n",
       "      <td>0</td>\n",
       "      <td>0</td>\n",
       "      <td>0</td>\n",
       "      <td>0</td>\n",
       "      <td>1</td>\n",
       "      <td>0</td>\n",
       "    </tr>\n",
       "    <tr>\n",
       "      <th>3</th>\n",
       "      <td>0.0</td>\n",
       "      <td>0</td>\n",
       "      <td>0</td>\n",
       "      <td>1</td>\n",
       "      <td>0</td>\n",
       "      <td>4</td>\n",
       "      <td>0</td>\n",
       "      <td>0</td>\n",
       "      <td>6</td>\n",
       "      <td>0</td>\n",
       "      <td>...</td>\n",
       "      <td>2</td>\n",
       "      <td>0</td>\n",
       "      <td>0</td>\n",
       "      <td>0</td>\n",
       "      <td>0</td>\n",
       "      <td>0</td>\n",
       "      <td>0</td>\n",
       "      <td>0</td>\n",
       "      <td>1</td>\n",
       "      <td>0</td>\n",
       "    </tr>\n",
       "    <tr>\n",
       "      <th>4</th>\n",
       "      <td>0.0</td>\n",
       "      <td>0</td>\n",
       "      <td>0</td>\n",
       "      <td>2</td>\n",
       "      <td>0</td>\n",
       "      <td>2</td>\n",
       "      <td>0</td>\n",
       "      <td>2</td>\n",
       "      <td>0</td>\n",
       "      <td>0</td>\n",
       "      <td>...</td>\n",
       "      <td>0</td>\n",
       "      <td>0</td>\n",
       "      <td>0</td>\n",
       "      <td>0</td>\n",
       "      <td>0</td>\n",
       "      <td>0</td>\n",
       "      <td>0</td>\n",
       "      <td>0</td>\n",
       "      <td>1</td>\n",
       "      <td>0</td>\n",
       "    </tr>\n",
       "  </tbody>\n",
       "</table>\n",
       "<p>5 rows × 26 columns</p>\n",
       "</div>"
      ],
      "text/plain": [
       "   #label  Contingency.Cause.Reason  Expansion.Substitution.Arg2-as-subst  \\\n",
       "0     0.0                         1                                     0   \n",
       "1     0.0                         0                                     0   \n",
       "2     0.0                         2                                     0   \n",
       "3     0.0                         0                                     0   \n",
       "4     0.0                         0                                     0   \n",
       "\n",
       "   Contingency.Cause.Result  Contingency.Purpose.Arg1-as-goal  \\\n",
       "0                         0                                 0   \n",
       "1                         0                                 0   \n",
       "2                         0                                 0   \n",
       "3                         1                                 0   \n",
       "4                         2                                 0   \n",
       "\n",
       "   Expansion.Conjunction  Temporal.Asynchronous.Succession  \\\n",
       "0                      5                                 1   \n",
       "1                      2                                 0   \n",
       "2                      2                                 0   \n",
       "3                      4                                 0   \n",
       "4                      2                                 0   \n",
       "\n",
       "   Comparison.Contrast  Temporal.Asynchronous.Precedence  \\\n",
       "0                    2                                 1   \n",
       "1                    0                                 0   \n",
       "2                    0                                 0   \n",
       "3                    0                                 6   \n",
       "4                    2                                 0   \n",
       "\n",
       "   Expansion.Exception.Arg2-as-except  ...  Temporal.Synchronous  \\\n",
       "0                                   0  ...                     1   \n",
       "1                                   0  ...                     0   \n",
       "2                                   0  ...                     0   \n",
       "3                                   0  ...                     2   \n",
       "4                                   0  ...                     0   \n",
       "\n",
       "   Contingency.Purpose.Arg2-as-goal  Expansion.Exception.Arg1-as-except  \\\n",
       "0                                 0                                   0   \n",
       "1                                 0                                   0   \n",
       "2                                 0                                   0   \n",
       "3                                 0                                   0   \n",
       "4                                 0                                   0   \n",
       "\n",
       "   Expansion.Level-of-detail.Arg2-as-detail  \\\n",
       "0                                         0   \n",
       "1                                         0   \n",
       "2                                         0   \n",
       "3                                         0   \n",
       "4                                         0   \n",
       "\n",
       "   Expansion.Substitution.Arg1-as-subst  Contingency.Condition.Arg1-as-cond  \\\n",
       "0                                     0                                   0   \n",
       "1                                     0                                   0   \n",
       "2                                     0                                   0   \n",
       "3                                     0                                   0   \n",
       "4                                     0                                   0   \n",
       "\n",
       "   Expansion.Instantiation.Arg2-as-instance  \\\n",
       "0                                         0   \n",
       "1                                         0   \n",
       "2                                         0   \n",
       "3                                         0   \n",
       "4                                         0   \n",
       "\n",
       "   Contingency.Condition.Arg2-as-cond  Expansion.Equivalence  \\\n",
       "0                                   0                      3   \n",
       "1                                   0                      1   \n",
       "2                                   0                      1   \n",
       "3                                   0                      1   \n",
       "4                                   0                      1   \n",
       "\n",
       "   Expansion.Manner.Arg2-as-manner  \n",
       "0                                0  \n",
       "1                                0  \n",
       "2                                0  \n",
       "3                                0  \n",
       "4                                0  \n",
       "\n",
       "[5 rows x 26 columns]"
      ]
     },
     "execution_count": 45,
     "metadata": {},
     "output_type": "execute_result"
    }
   ],
   "source": [
    "dms_df = dms_df.drop([\"Unnamed: 0\", \"#id\"],  axis='columns')\n",
    "dms_df.head()"
   ]
  },
  {
   "cell_type": "code",
   "execution_count": 48,
   "metadata": {},
   "outputs": [],
   "source": [
    "lexica_corpus_dms_df = pd.concat([lexica_corpus_df, dms_df], axis=1)"
   ]
  },
  {
   "cell_type": "code",
   "execution_count": 49,
   "metadata": {},
   "outputs": [
    {
     "data": {
      "text/html": [
       "<div>\n",
       "<style scoped>\n",
       "    .dataframe tbody tr th:only-of-type {\n",
       "        vertical-align: middle;\n",
       "    }\n",
       "\n",
       "    .dataframe tbody tr th {\n",
       "        vertical-align: top;\n",
       "    }\n",
       "\n",
       "    .dataframe thead th {\n",
       "        text-align: right;\n",
       "    }\n",
       "</style>\n",
       "<table border=\"1\" class=\"dataframe\">\n",
       "  <thead>\n",
       "    <tr style=\"text-align: right;\">\n",
       "      <th></th>\n",
       "      <th>#label</th>\n",
       "      <th>sentence_length</th>\n",
       "      <th>characters_per_word</th>\n",
       "      <th>syllables_per_word</th>\n",
       "      <th>text_length</th>\n",
       "      <th>noun_phrases_per_sent</th>\n",
       "      <th>tree_height</th>\n",
       "      <th>sub_clauses_per_sent</th>\n",
       "      <th>sents_with_verb_as_root</th>\n",
       "      <th>sents_with_nouns_as_root</th>\n",
       "      <th>...</th>\n",
       "      <th>Temporal.Synchronous</th>\n",
       "      <th>Contingency.Purpose.Arg2-as-goal</th>\n",
       "      <th>Expansion.Exception.Arg1-as-except</th>\n",
       "      <th>Expansion.Level-of-detail.Arg2-as-detail</th>\n",
       "      <th>Expansion.Substitution.Arg1-as-subst</th>\n",
       "      <th>Contingency.Condition.Arg1-as-cond</th>\n",
       "      <th>Expansion.Instantiation.Arg2-as-instance</th>\n",
       "      <th>Contingency.Condition.Arg2-as-cond</th>\n",
       "      <th>Expansion.Equivalence</th>\n",
       "      <th>Expansion.Manner.Arg2-as-manner</th>\n",
       "    </tr>\n",
       "  </thead>\n",
       "  <tbody>\n",
       "    <tr>\n",
       "      <th>0</th>\n",
       "      <td>0.0</td>\n",
       "      <td>7.285714</td>\n",
       "      <td>4.862745</td>\n",
       "      <td>1.627451</td>\n",
       "      <td>102</td>\n",
       "      <td>2.214286</td>\n",
       "      <td>3.857143</td>\n",
       "      <td>0.071429</td>\n",
       "      <td>0.357143</td>\n",
       "      <td>0.000000</td>\n",
       "      <td>...</td>\n",
       "      <td>1</td>\n",
       "      <td>0</td>\n",
       "      <td>0</td>\n",
       "      <td>0</td>\n",
       "      <td>0</td>\n",
       "      <td>0</td>\n",
       "      <td>0</td>\n",
       "      <td>0</td>\n",
       "      <td>3</td>\n",
       "      <td>0</td>\n",
       "    </tr>\n",
       "    <tr>\n",
       "      <th>1</th>\n",
       "      <td>0.0</td>\n",
       "      <td>8.090909</td>\n",
       "      <td>4.494382</td>\n",
       "      <td>1.539326</td>\n",
       "      <td>89</td>\n",
       "      <td>2.454545</td>\n",
       "      <td>4.363636</td>\n",
       "      <td>0.000000</td>\n",
       "      <td>0.363636</td>\n",
       "      <td>0.090909</td>\n",
       "      <td>...</td>\n",
       "      <td>0</td>\n",
       "      <td>0</td>\n",
       "      <td>0</td>\n",
       "      <td>0</td>\n",
       "      <td>0</td>\n",
       "      <td>0</td>\n",
       "      <td>0</td>\n",
       "      <td>0</td>\n",
       "      <td>1</td>\n",
       "      <td>0</td>\n",
       "    </tr>\n",
       "    <tr>\n",
       "      <th>2</th>\n",
       "      <td>0.0</td>\n",
       "      <td>7.187500</td>\n",
       "      <td>4.521739</td>\n",
       "      <td>1.634783</td>\n",
       "      <td>115</td>\n",
       "      <td>2.750000</td>\n",
       "      <td>3.500000</td>\n",
       "      <td>0.312500</td>\n",
       "      <td>0.687500</td>\n",
       "      <td>0.062500</td>\n",
       "      <td>...</td>\n",
       "      <td>0</td>\n",
       "      <td>0</td>\n",
       "      <td>0</td>\n",
       "      <td>0</td>\n",
       "      <td>0</td>\n",
       "      <td>0</td>\n",
       "      <td>0</td>\n",
       "      <td>0</td>\n",
       "      <td>1</td>\n",
       "      <td>0</td>\n",
       "    </tr>\n",
       "    <tr>\n",
       "      <th>3</th>\n",
       "      <td>0.0</td>\n",
       "      <td>7.200000</td>\n",
       "      <td>5.000000</td>\n",
       "      <td>1.743056</td>\n",
       "      <td>144</td>\n",
       "      <td>2.000000</td>\n",
       "      <td>3.850000</td>\n",
       "      <td>0.150000</td>\n",
       "      <td>0.350000</td>\n",
       "      <td>0.000000</td>\n",
       "      <td>...</td>\n",
       "      <td>2</td>\n",
       "      <td>0</td>\n",
       "      <td>0</td>\n",
       "      <td>0</td>\n",
       "      <td>0</td>\n",
       "      <td>0</td>\n",
       "      <td>0</td>\n",
       "      <td>0</td>\n",
       "      <td>1</td>\n",
       "      <td>0</td>\n",
       "    </tr>\n",
       "    <tr>\n",
       "      <th>4</th>\n",
       "      <td>0.0</td>\n",
       "      <td>6.235294</td>\n",
       "      <td>5.132075</td>\n",
       "      <td>1.877358</td>\n",
       "      <td>106</td>\n",
       "      <td>2.176471</td>\n",
       "      <td>3.470588</td>\n",
       "      <td>0.117647</td>\n",
       "      <td>0.470588</td>\n",
       "      <td>0.000000</td>\n",
       "      <td>...</td>\n",
       "      <td>0</td>\n",
       "      <td>0</td>\n",
       "      <td>0</td>\n",
       "      <td>0</td>\n",
       "      <td>0</td>\n",
       "      <td>0</td>\n",
       "      <td>0</td>\n",
       "      <td>0</td>\n",
       "      <td>1</td>\n",
       "      <td>0</td>\n",
       "    </tr>\n",
       "  </tbody>\n",
       "</table>\n",
       "<p>5 rows × 55 columns</p>\n",
       "</div>"
      ],
      "text/plain": [
       "   #label  sentence_length  characters_per_word  syllables_per_word  \\\n",
       "0     0.0         7.285714             4.862745            1.627451   \n",
       "1     0.0         8.090909             4.494382            1.539326   \n",
       "2     0.0         7.187500             4.521739            1.634783   \n",
       "3     0.0         7.200000             5.000000            1.743056   \n",
       "4     0.0         6.235294             5.132075            1.877358   \n",
       "\n",
       "   text_length  noun_phrases_per_sent  tree_height  sub_clauses_per_sent  \\\n",
       "0          102               2.214286     3.857143              0.071429   \n",
       "1           89               2.454545     4.363636              0.000000   \n",
       "2          115               2.750000     3.500000              0.312500   \n",
       "3          144               2.000000     3.850000              0.150000   \n",
       "4          106               2.176471     3.470588              0.117647   \n",
       "\n",
       "   sents_with_verb_as_root  sents_with_nouns_as_root  ...  \\\n",
       "0                 0.357143                  0.000000  ...   \n",
       "1                 0.363636                  0.090909  ...   \n",
       "2                 0.687500                  0.062500  ...   \n",
       "3                 0.350000                  0.000000  ...   \n",
       "4                 0.470588                  0.000000  ...   \n",
       "\n",
       "   Temporal.Synchronous  Contingency.Purpose.Arg2-as-goal  \\\n",
       "0                     1                                 0   \n",
       "1                     0                                 0   \n",
       "2                     0                                 0   \n",
       "3                     2                                 0   \n",
       "4                     0                                 0   \n",
       "\n",
       "   Expansion.Exception.Arg1-as-except  \\\n",
       "0                                   0   \n",
       "1                                   0   \n",
       "2                                   0   \n",
       "3                                   0   \n",
       "4                                   0   \n",
       "\n",
       "   Expansion.Level-of-detail.Arg2-as-detail  \\\n",
       "0                                         0   \n",
       "1                                         0   \n",
       "2                                         0   \n",
       "3                                         0   \n",
       "4                                         0   \n",
       "\n",
       "   Expansion.Substitution.Arg1-as-subst  Contingency.Condition.Arg1-as-cond  \\\n",
       "0                                     0                                   0   \n",
       "1                                     0                                   0   \n",
       "2                                     0                                   0   \n",
       "3                                     0                                   0   \n",
       "4                                     0                                   0   \n",
       "\n",
       "   Expansion.Instantiation.Arg2-as-instance  \\\n",
       "0                                         0   \n",
       "1                                         0   \n",
       "2                                         0   \n",
       "3                                         0   \n",
       "4                                         0   \n",
       "\n",
       "   Contingency.Condition.Arg2-as-cond  Expansion.Equivalence  \\\n",
       "0                                   0                      3   \n",
       "1                                   0                      1   \n",
       "2                                   0                      1   \n",
       "3                                   0                      1   \n",
       "4                                   0                      1   \n",
       "\n",
       "   Expansion.Manner.Arg2-as-manner  \n",
       "0                                0  \n",
       "1                                0  \n",
       "2                                0  \n",
       "3                                0  \n",
       "4                                0  \n",
       "\n",
       "[5 rows x 55 columns]"
      ]
     },
     "execution_count": 49,
     "metadata": {},
     "output_type": "execute_result"
    }
   ],
   "source": [
    "lexica_corpus_dms_df.head()"
   ]
  },
  {
   "cell_type": "code",
   "execution_count": 68,
   "metadata": {},
   "outputs": [],
   "source": [
    "y_dms = lexica_corpus_dms_df[\"#label\"].iloc[:, 1]\n",
    "X_dms = lexica_corpus_dms_df.drop([\"#label\"],  axis='columns')"
   ]
  },
  {
   "cell_type": "markdown",
   "metadata": {},
   "source": [
    "### Train und Test Daten"
   ]
  },
  {
   "cell_type": "code",
   "execution_count": 69,
   "metadata": {},
   "outputs": [],
   "source": [
    "X_train_dms, X_test_dms, y_train_dms, y_test_dms = train_test_split(X_dms, y_dms, test_size=0.2, random_state=123)"
   ]
  },
  {
   "cell_type": "code",
   "execution_count": 70,
   "metadata": {},
   "outputs": [
    {
     "name": "stdout",
     "output_type": "stream",
     "text": [
      "X_train_dms shape:  (708, 53)\n",
      "X_test_dms shape:  (177, 53)\n",
      "y_train_dms shape:  (708,)\n",
      "y_test_dms shape:  (177,)\n"
     ]
    }
   ],
   "source": [
    "print(\"X_train_dms shape: \", X_train_dms.shape)\n",
    "print(\"X_test_dms shape: \", X_test_dms.shape)\n",
    "print(\"y_train_dms shape: \", y_train_dms.shape)\n",
    "print(\"y_test_dms shape: \", y_test_dms.shape)"
   ]
  },
  {
   "cell_type": "markdown",
   "metadata": {},
   "source": [
    "### Standardisierung"
   ]
  },
  {
   "cell_type": "code",
   "execution_count": 72,
   "metadata": {},
   "outputs": [],
   "source": [
    "scaler_dms = StandardScaler()\n",
    "train_scaled_dms = scaler_dms.fit_transform(X_train_dms)\n",
    "test_scaled_dms = scaler_dms.transform(X_test_dms)"
   ]
  },
  {
   "cell_type": "markdown",
   "metadata": {},
   "source": [
    "### Lineare Regression"
   ]
  },
  {
   "cell_type": "code",
   "execution_count": 73,
   "metadata": {},
   "outputs": [
    {
     "data": {
      "text/html": [
       "<style>#sk-container-id-3 {color: black;background-color: white;}#sk-container-id-3 pre{padding: 0;}#sk-container-id-3 div.sk-toggleable {background-color: white;}#sk-container-id-3 label.sk-toggleable__label {cursor: pointer;display: block;width: 100%;margin-bottom: 0;padding: 0.3em;box-sizing: border-box;text-align: center;}#sk-container-id-3 label.sk-toggleable__label-arrow:before {content: \"▸\";float: left;margin-right: 0.25em;color: #696969;}#sk-container-id-3 label.sk-toggleable__label-arrow:hover:before {color: black;}#sk-container-id-3 div.sk-estimator:hover label.sk-toggleable__label-arrow:before {color: black;}#sk-container-id-3 div.sk-toggleable__content {max-height: 0;max-width: 0;overflow: hidden;text-align: left;background-color: #f0f8ff;}#sk-container-id-3 div.sk-toggleable__content pre {margin: 0.2em;color: black;border-radius: 0.25em;background-color: #f0f8ff;}#sk-container-id-3 input.sk-toggleable__control:checked~div.sk-toggleable__content {max-height: 200px;max-width: 100%;overflow: auto;}#sk-container-id-3 input.sk-toggleable__control:checked~label.sk-toggleable__label-arrow:before {content: \"▾\";}#sk-container-id-3 div.sk-estimator input.sk-toggleable__control:checked~label.sk-toggleable__label {background-color: #d4ebff;}#sk-container-id-3 div.sk-label input.sk-toggleable__control:checked~label.sk-toggleable__label {background-color: #d4ebff;}#sk-container-id-3 input.sk-hidden--visually {border: 0;clip: rect(1px 1px 1px 1px);clip: rect(1px, 1px, 1px, 1px);height: 1px;margin: -1px;overflow: hidden;padding: 0;position: absolute;width: 1px;}#sk-container-id-3 div.sk-estimator {font-family: monospace;background-color: #f0f8ff;border: 1px dotted black;border-radius: 0.25em;box-sizing: border-box;margin-bottom: 0.5em;}#sk-container-id-3 div.sk-estimator:hover {background-color: #d4ebff;}#sk-container-id-3 div.sk-parallel-item::after {content: \"\";width: 100%;border-bottom: 1px solid gray;flex-grow: 1;}#sk-container-id-3 div.sk-label:hover label.sk-toggleable__label {background-color: #d4ebff;}#sk-container-id-3 div.sk-serial::before {content: \"\";position: absolute;border-left: 1px solid gray;box-sizing: border-box;top: 0;bottom: 0;left: 50%;z-index: 0;}#sk-container-id-3 div.sk-serial {display: flex;flex-direction: column;align-items: center;background-color: white;padding-right: 0.2em;padding-left: 0.2em;position: relative;}#sk-container-id-3 div.sk-item {position: relative;z-index: 1;}#sk-container-id-3 div.sk-parallel {display: flex;align-items: stretch;justify-content: center;background-color: white;position: relative;}#sk-container-id-3 div.sk-item::before, #sk-container-id-3 div.sk-parallel-item::before {content: \"\";position: absolute;border-left: 1px solid gray;box-sizing: border-box;top: 0;bottom: 0;left: 50%;z-index: -1;}#sk-container-id-3 div.sk-parallel-item {display: flex;flex-direction: column;z-index: 1;position: relative;background-color: white;}#sk-container-id-3 div.sk-parallel-item:first-child::after {align-self: flex-end;width: 50%;}#sk-container-id-3 div.sk-parallel-item:last-child::after {align-self: flex-start;width: 50%;}#sk-container-id-3 div.sk-parallel-item:only-child::after {width: 0;}#sk-container-id-3 div.sk-dashed-wrapped {border: 1px dashed gray;margin: 0 0.4em 0.5em 0.4em;box-sizing: border-box;padding-bottom: 0.4em;background-color: white;}#sk-container-id-3 div.sk-label label {font-family: monospace;font-weight: bold;display: inline-block;line-height: 1.2em;}#sk-container-id-3 div.sk-label-container {text-align: center;}#sk-container-id-3 div.sk-container {/* jupyter's `normalize.less` sets `[hidden] { display: none; }` but bootstrap.min.css set `[hidden] { display: none !important; }` so we also need the `!important` here to be able to override the default hidden behavior on the sphinx rendered scikit-learn.org. See: https://github.com/scikit-learn/scikit-learn/issues/21755 */display: inline-block !important;position: relative;}#sk-container-id-3 div.sk-text-repr-fallback {display: none;}</style><div id=\"sk-container-id-3\" class=\"sk-top-container\"><div class=\"sk-text-repr-fallback\"><pre>LinearRegression()</pre><b>In a Jupyter environment, please rerun this cell to show the HTML representation or trust the notebook. <br />On GitHub, the HTML representation is unable to render, please try loading this page with nbviewer.org.</b></div><div class=\"sk-container\" hidden><div class=\"sk-item\"><div class=\"sk-estimator sk-toggleable\"><input class=\"sk-toggleable__control sk-hidden--visually\" id=\"sk-estimator-id-3\" type=\"checkbox\" checked><label for=\"sk-estimator-id-3\" class=\"sk-toggleable__label sk-toggleable__label-arrow\">LinearRegression</label><div class=\"sk-toggleable__content\"><pre>LinearRegression()</pre></div></div></div></div></div>"
      ],
      "text/plain": [
       "LinearRegression()"
      ]
     },
     "execution_count": 73,
     "metadata": {},
     "output_type": "execute_result"
    }
   ],
   "source": [
    "model_dms = LinearRegression()\n",
    "model_dms.fit(train_scaled_dms, y_train_dms)"
   ]
  },
  {
   "cell_type": "markdown",
   "metadata": {},
   "source": [
    "### Model Evaluation"
   ]
  },
  {
   "cell_type": "code",
   "execution_count": 75,
   "metadata": {},
   "outputs": [],
   "source": [
    "mse_dms = mean_squared_error(y_train_dms, model_dms.predict(train_scaled_dms))\n",
    "mae_dms = mean_absolute_error(y_train_dms, model_dms.predict(train_scaled_dms))\n",
    "print(\"mse = \",mse_dms,\" & mae = \",mae_dms,\" & rmse = \", sqrt(mse_dms))"
   ]
  },
  {
   "cell_type": "code",
   "execution_count": 77,
   "metadata": {},
   "outputs": [
    {
     "name": "stdout",
     "output_type": "stream",
     "text": [
      "mse =  0.025746639609367242  & mae =  0.12163565469434091  & rmse =  0.16045759442721072\n"
     ]
    }
   ],
   "source": [
    "test_mse_dms = mean_squared_error(y_test_dms, model_dms.predict(test_scaled_dms))\n",
    "test_mae_dms = mean_absolute_error(y_test_dms, model_dms.predict(test_scaled_dms))\n",
    "print(\"mse = \",test_mse_dms,\" & mae = \",test_mae_dms,\" & rmse = \", sqrt(test_mse_dms))"
   ]
  },
  {
   "cell_type": "markdown",
   "metadata": {},
   "source": [
    "### 5-Fold-Validierung"
   ]
  },
  {
   "cell_type": "code",
   "execution_count": 78,
   "metadata": {},
   "outputs": [
    {
     "name": "stdout",
     "output_type": "stream",
     "text": [
      "Mean squared error: 0.03417932126838972\n"
     ]
    }
   ],
   "source": [
    "scores_dms = cross_val_score(model_dms, X_dms, y_dms, cv=5, scoring='neg_mean_squared_error')\n",
    "\n",
    "# durchschnittliche mittlere quadratische Abweichung\n",
    "mse_mean_dms = -scores_dms.mean()\n",
    "print(\"Mean squared error:\", mse_mean_dms)"
   ]
  },
  {
   "cell_type": "markdown",
   "metadata": {},
   "source": [
    "### Merkmalswichtigkeit für das Modell\n",
    "\n",
    "Die Feature Importance (Merkmalswichtigkeit) zeigt, welche Merkmale (Features) die größte Vorhersagekraft für das Modell haben. Bei linearen Modellen können die Koeffizienten - also Gewichte - wiedergeben, wie wichtig das jeweilige Merkmal ist, um eine Vorhersage zu treffen, die möglichst einen kleinen Abstand zum eigentlich gesuchten Wert hat. (siehe Feature Importance in https://christophm.github.io/interpretable-ml-book/limo.html )"
   ]
  },
  {
   "cell_type": "code",
   "execution_count": 109,
   "metadata": {},
   "outputs": [],
   "source": [
    "importances = model_dms.coef_\n",
    "features = lexica_corpus_dms_df.drop([\"#label\"],  axis='columns').columns\n",
    "feat_importances = pd.Series(importances, index=features)\n",
    "feat_importances = feat_importances.sort_values()"
   ]
  },
  {
   "cell_type": "code",
   "execution_count": 115,
   "metadata": {},
   "outputs": [
    {
     "data": {
      "text/plain": [
       "<AxesSubplot:title={'center':'Feature Importances'}>"
      ]
     },
     "execution_count": 115,
     "metadata": {},
     "output_type": "execute_result"
    },
    {
     "name": "stderr",
     "output_type": "stream",
     "text": [
      "c:\\users\\daniela weiß\\appdata\\local\\programs\\python\\python38\\lib\\site-packages\\matplotlib\\backends\\backend_agg.py:238: RuntimeWarning: Glyph 13 missing from current font.\n",
      "  font.set_text(s, 0.0, flags=flags)\n",
      "c:\\users\\daniela weiß\\appdata\\local\\programs\\python\\python38\\lib\\site-packages\\matplotlib\\backends\\backend_agg.py:201: RuntimeWarning: Glyph 13 missing from current font.\n",
      "  font.set_text(s, 0, flags=flags)\n"
     ]
    },
    {
     "data": {
      "image/png": "[encoded data removed]",
      "text/plain": [
       "<Figure size 1440x1440 with 1 Axes>"
      ]
     },
     "metadata": {
      "needs_background": "light"
     },
     "output_type": "display_data"
    }
   ],
   "source": [
    "plt.figure(figsize=(20, 20)) \n",
    "plt.title('Feature Importances')\n",
    "feat_importances.plot(kind='barh')"
   ]
  },
  {
   "cell_type": "markdown",
   "metadata": {},
   "source": [
    "Einige der extrahierten Features aus dem Lexica-Korpus haben sogar eine negative Feature Importanz, was bedeutet, dass diese die Fehler des Modells vergrößern.  "
   ]
  },
  {
   "cell_type": "code",
   "execution_count": 139,
   "metadata": {},
   "outputs": [],
   "source": [
    "positiv_feat_importances = feat_importances[21:]\n",
    "#positiv_feat_importances.index.tolist()"
   ]
  },
  {
   "cell_type": "code",
   "execution_count": 144,
   "metadata": {},
   "outputs": [
    {
     "data": {
      "text/plain": [
       "POS_verbs                                        -0.085520\n",
       "noun_phrases_per_sent                            -0.084191\n",
       "POS_numerales                                    -0.041700\n",
       "POS_pronouns                                     -0.037049\n",
       "sents_with_verb_as_root                          -0.030224\n",
       "Expansion.Conjunction                            -0.028525\n",
       "sub_clauses_per_sent                             -0.027452\n",
       "semantic_similarity_adjectives\\r\\n               -0.024555\n",
       "count_of_discourse_markers                       -0.019342\n",
       "sents_with_nouns_as_root                         -0.018779\n",
       "POS_aux_verbs                                    -0.018417\n",
       "semantic_similarity_verbs                        -0.014958\n",
       "Expansion.Manner.Arg1-as-manner                  -0.013501\n",
       "Expansion.Equivalence                            -0.011337\n",
       "Expansion.Disjunction                            -0.011336\n",
       "Expansion.Level-of-detail.Arg2-as-detail         -0.008291\n",
       "POS_nouns                                        -0.006325\n",
       "Contingency.Cause.Result                         -0.005953\n",
       "Expansion.Instantiation.Arg2-as-instance         -0.004327\n",
       "Contingency.Negative-condition.Arg1-as-negCond   -0.002409\n",
       "Contingency.Purpose.Arg1-as-goal                 -0.001242\n",
       "Expansion.Manner.Arg2-as-manner                   0.000583\n",
       "Expansion.Substitution.Arg2-as-subst              0.000840\n",
       "Comparison.Concession.Arg1-as-denier              0.000881\n",
       "Expansion.Exception.Arg1-as-except                0.001763\n",
       "Expansion.Exception.Arg2-as-except                0.002380\n",
       "Comparison.Contrast                               0.002525\n",
       "Temporal.Asynchronous.Precedence                  0.003595\n",
       "Comparison.Concession.Arg2-as-denier              0.004435\n",
       "semantic_similarity_nouns                         0.005550\n",
       "Contingency.Condition.Arg1-as-cond                0.008992\n",
       "Contingency.Purpose.Arg2-as-goal                  0.009115\n",
       "Contingency.Cause.Reason                          0.009159\n",
       "Contingency.Negative-condition.Arg2-as-negCond    0.011269\n",
       "sentence_length                                   0.011804\n",
       "Temporal.Asynchronous.Succession                  0.013574\n",
       "Expansion.Substitution.Arg1-as-subst              0.014563\n",
       "Contingency.Condition.Arg2-as-cond                0.017611\n",
       "POS_adjectives                                    0.020466\n",
       "POS_determiners                                   0.021928\n",
       "Temporal.Synchronous                              0.022936\n",
       "syllables_per_word                                0.027248\n",
       "POS_adpositions                                   0.034322\n",
       "lexical_complexity_score                          0.034564\n",
       "articles_per_sentence                             0.034906\n",
       "ttr                                               0.041272\n",
       "POS_conjunctions                                  0.055568\n",
       "pronouns_per_sentence                             0.058615\n",
       "tree_height                                       0.068592\n",
       "text_length                                       0.075112\n",
       "verbs_in_sentence                                 0.075262\n",
       "characters_per_word                               0.086300\n",
       "POS_punctuations                                  0.128242\n",
       "dtype: float64"
      ]
     },
     "execution_count": 144,
     "metadata": {},
     "output_type": "execute_result"
    }
   ],
   "source": [
    "feat_importances"
   ]
  },
  {
   "cell_type": "code",
   "execution_count": 136,
   "metadata": {},
   "outputs": [],
   "source": [
    "positiv_feat_importances_df = lexica_corpus_dms_df[['#label',\n",
    "'Expansion.Manner.Arg2-as-manner',\n",
    " 'Expansion.Substitution.Arg2-as-subst',\n",
    " 'Comparison.Concession.Arg1-as-denier',\n",
    " 'Expansion.Exception.Arg1-as-except',\n",
    " 'Expansion.Exception.Arg2-as-except',\n",
    " 'Comparison.Contrast',\n",
    " 'Temporal.Asynchronous.Precedence',\n",
    " 'Comparison.Concession.Arg2-as-denier',\n",
    " 'semantic_similarity_nouns',\n",
    " 'Contingency.Condition.Arg1-as-cond',\n",
    " 'Contingency.Purpose.Arg2-as-goal',\n",
    " 'Contingency.Cause.Reason',\n",
    " 'Contingency.Negative-condition.Arg2-as-negCond',\n",
    " 'sentence_length',\n",
    " 'Temporal.Asynchronous.Succession',\n",
    " 'Expansion.Substitution.Arg1-as-subst',\n",
    " 'Contingency.Condition.Arg2-as-cond',\n",
    " 'POS_adjectives',\n",
    " 'POS_determiners',\n",
    " 'Temporal.Synchronous',\n",
    " 'syllables_per_word',\n",
    " 'POS_adpositions',\n",
    " 'lexical_complexity_score',\n",
    " 'articles_per_sentence',\n",
    " 'ttr',\n",
    " 'POS_conjunctions',\n",
    " 'pronouns_per_sentence',\n",
    " 'tree_height',\n",
    " 'text_length',\n",
    " 'verbs_in_sentence',\n",
    " 'characters_per_word',\n",
    " 'POS_punctuations']]"
   ]
  },
  {
   "cell_type": "code",
   "execution_count": 137,
   "metadata": {},
   "outputs": [
    {
     "data": {
      "text/html": [
       "<div>\n",
       "<style scoped>\n",
       "    .dataframe tbody tr th:only-of-type {\n",
       "        vertical-align: middle;\n",
       "    }\n",
       "\n",
       "    .dataframe tbody tr th {\n",
       "        vertical-align: top;\n",
       "    }\n",
       "\n",
       "    .dataframe thead th {\n",
       "        text-align: right;\n",
       "    }\n",
       "</style>\n",
       "<table border=\"1\" class=\"dataframe\">\n",
       "  <thead>\n",
       "    <tr style=\"text-align: right;\">\n",
       "      <th></th>\n",
       "      <th>#label</th>\n",
       "      <th>#label</th>\n",
       "      <th>Expansion.Manner.Arg2-as-manner</th>\n",
       "      <th>Expansion.Substitution.Arg2-as-subst</th>\n",
       "      <th>Comparison.Concession.Arg1-as-denier</th>\n",
       "      <th>Expansion.Exception.Arg1-as-except</th>\n",
       "      <th>Expansion.Exception.Arg2-as-except</th>\n",
       "      <th>Comparison.Contrast</th>\n",
       "      <th>Temporal.Asynchronous.Precedence</th>\n",
       "      <th>Comparison.Concession.Arg2-as-denier</th>\n",
       "      <th>...</th>\n",
       "      <th>lexical_complexity_score</th>\n",
       "      <th>articles_per_sentence</th>\n",
       "      <th>ttr</th>\n",
       "      <th>POS_conjunctions</th>\n",
       "      <th>pronouns_per_sentence</th>\n",
       "      <th>tree_height</th>\n",
       "      <th>text_length</th>\n",
       "      <th>verbs_in_sentence</th>\n",
       "      <th>characters_per_word</th>\n",
       "      <th>POS_punctuations</th>\n",
       "    </tr>\n",
       "  </thead>\n",
       "  <tbody>\n",
       "    <tr>\n",
       "      <th>0</th>\n",
       "      <td>0.0</td>\n",
       "      <td>0.0</td>\n",
       "      <td>0</td>\n",
       "      <td>0</td>\n",
       "      <td>0</td>\n",
       "      <td>0</td>\n",
       "      <td>0</td>\n",
       "      <td>2</td>\n",
       "      <td>1</td>\n",
       "      <td>0</td>\n",
       "      <td>...</td>\n",
       "      <td>7.406711</td>\n",
       "      <td>0.142857</td>\n",
       "      <td>0.683168</td>\n",
       "      <td>0.049020</td>\n",
       "      <td>0.642857</td>\n",
       "      <td>3.857143</td>\n",
       "      <td>102</td>\n",
       "      <td>1.285714</td>\n",
       "      <td>4.862745</td>\n",
       "      <td>0.097345</td>\n",
       "    </tr>\n",
       "    <tr>\n",
       "      <th>1</th>\n",
       "      <td>0.0</td>\n",
       "      <td>0.0</td>\n",
       "      <td>0</td>\n",
       "      <td>0</td>\n",
       "      <td>0</td>\n",
       "      <td>0</td>\n",
       "      <td>0</td>\n",
       "      <td>0</td>\n",
       "      <td>0</td>\n",
       "      <td>0</td>\n",
       "      <td>...</td>\n",
       "      <td>7.652426</td>\n",
       "      <td>1.454545</td>\n",
       "      <td>0.590909</td>\n",
       "      <td>0.011236</td>\n",
       "      <td>0.090909</td>\n",
       "      <td>4.363636</td>\n",
       "      <td>89</td>\n",
       "      <td>0.909091</td>\n",
       "      <td>4.494382</td>\n",
       "      <td>0.091837</td>\n",
       "    </tr>\n",
       "    <tr>\n",
       "      <th>2</th>\n",
       "      <td>0.0</td>\n",
       "      <td>0.0</td>\n",
       "      <td>0</td>\n",
       "      <td>0</td>\n",
       "      <td>0</td>\n",
       "      <td>0</td>\n",
       "      <td>0</td>\n",
       "      <td>0</td>\n",
       "      <td>0</td>\n",
       "      <td>0</td>\n",
       "      <td>...</td>\n",
       "      <td>8.269501</td>\n",
       "      <td>1.312500</td>\n",
       "      <td>0.517544</td>\n",
       "      <td>0.017391</td>\n",
       "      <td>0.375000</td>\n",
       "      <td>3.500000</td>\n",
       "      <td>115</td>\n",
       "      <td>0.875000</td>\n",
       "      <td>4.521739</td>\n",
       "      <td>0.128788</td>\n",
       "    </tr>\n",
       "    <tr>\n",
       "      <th>3</th>\n",
       "      <td>0.0</td>\n",
       "      <td>0.0</td>\n",
       "      <td>0</td>\n",
       "      <td>0</td>\n",
       "      <td>0</td>\n",
       "      <td>0</td>\n",
       "      <td>0</td>\n",
       "      <td>0</td>\n",
       "      <td>6</td>\n",
       "      <td>0</td>\n",
       "      <td>...</td>\n",
       "      <td>7.802380</td>\n",
       "      <td>0.600000</td>\n",
       "      <td>0.531469</td>\n",
       "      <td>0.020833</td>\n",
       "      <td>0.600000</td>\n",
       "      <td>3.850000</td>\n",
       "      <td>144</td>\n",
       "      <td>1.000000</td>\n",
       "      <td>5.000000</td>\n",
       "      <td>0.100000</td>\n",
       "    </tr>\n",
       "    <tr>\n",
       "      <th>4</th>\n",
       "      <td>0.0</td>\n",
       "      <td>0.0</td>\n",
       "      <td>0</td>\n",
       "      <td>0</td>\n",
       "      <td>0</td>\n",
       "      <td>0</td>\n",
       "      <td>0</td>\n",
       "      <td>2</td>\n",
       "      <td>0</td>\n",
       "      <td>0</td>\n",
       "      <td>...</td>\n",
       "      <td>7.951559</td>\n",
       "      <td>0.647059</td>\n",
       "      <td>0.704762</td>\n",
       "      <td>0.009434</td>\n",
       "      <td>0.529412</td>\n",
       "      <td>3.470588</td>\n",
       "      <td>106</td>\n",
       "      <td>0.882353</td>\n",
       "      <td>5.132075</td>\n",
       "      <td>0.101695</td>\n",
       "    </tr>\n",
       "  </tbody>\n",
       "</table>\n",
       "<p>5 rows × 34 columns</p>\n",
       "</div>"
      ],
      "text/plain": [
       "   #label  #label  Expansion.Manner.Arg2-as-manner  \\\n",
       "0     0.0     0.0                                0   \n",
       "1     0.0     0.0                                0   \n",
       "2     0.0     0.0                                0   \n",
       "3     0.0     0.0                                0   \n",
       "4     0.0     0.0                                0   \n",
       "\n",
       "   Expansion.Substitution.Arg2-as-subst  Comparison.Concession.Arg1-as-denier  \\\n",
       "0                                     0                                     0   \n",
       "1                                     0                                     0   \n",
       "2                                     0                                     0   \n",
       "3                                     0                                     0   \n",
       "4                                     0                                     0   \n",
       "\n",
       "   Expansion.Exception.Arg1-as-except  Expansion.Exception.Arg2-as-except  \\\n",
       "0                                   0                                   0   \n",
       "1                                   0                                   0   \n",
       "2                                   0                                   0   \n",
       "3                                   0                                   0   \n",
       "4                                   0                                   0   \n",
       "\n",
       "   Comparison.Contrast  Temporal.Asynchronous.Precedence  \\\n",
       "0                    2                                 1   \n",
       "1                    0                                 0   \n",
       "2                    0                                 0   \n",
       "3                    0                                 6   \n",
       "4                    2                                 0   \n",
       "\n",
       "   Comparison.Concession.Arg2-as-denier  ...  lexical_complexity_score  \\\n",
       "0                                     0  ...                  7.406711   \n",
       "1                                     0  ...                  7.652426   \n",
       "2                                     0  ...                  8.269501   \n",
       "3                                     0  ...                  7.802380   \n",
       "4                                     0  ...                  7.951559   \n",
       "\n",
       "   articles_per_sentence       ttr  POS_conjunctions  pronouns_per_sentence  \\\n",
       "0               0.142857  0.683168          0.049020               0.642857   \n",
       "1               1.454545  0.590909          0.011236               0.090909   \n",
       "2               1.312500  0.517544          0.017391               0.375000   \n",
       "3               0.600000  0.531469          0.020833               0.600000   \n",
       "4               0.647059  0.704762          0.009434               0.529412   \n",
       "\n",
       "   tree_height  text_length  verbs_in_sentence  characters_per_word  \\\n",
       "0     3.857143          102           1.285714             4.862745   \n",
       "1     4.363636           89           0.909091             4.494382   \n",
       "2     3.500000          115           0.875000             4.521739   \n",
       "3     3.850000          144           1.000000             5.000000   \n",
       "4     3.470588          106           0.882353             5.132075   \n",
       "\n",
       "   POS_punctuations  \n",
       "0          0.097345  \n",
       "1          0.091837  \n",
       "2          0.128788  \n",
       "3          0.100000  \n",
       "4          0.101695  \n",
       "\n",
       "[5 rows x 34 columns]"
      ]
     },
     "execution_count": 137,
     "metadata": {},
     "output_type": "execute_result"
    }
   ],
   "source": [
    "positiv_feat_importances_df.head()"
   ]
  },
  {
   "cell_type": "code",
   "execution_count": 138,
   "metadata": {},
   "outputs": [],
   "source": [
    "y_positiv_feat_importances = positiv_feat_importances_df[\"#label\"].iloc[:, 1]\n",
    "X_positiv_feat_importances = positiv_feat_importances_df.drop([\"#label\"],  axis='columns')"
   ]
  },
  {
   "cell_type": "code",
   "execution_count": 140,
   "metadata": {},
   "outputs": [
    {
     "name": "stdout",
     "output_type": "stream",
     "text": [
      "X_train_PFI shape:  (708, 32)\n",
      "X_test_PFI shape:  (177, 32)\n",
      "y_train_PFI shape:  (708,)\n",
      "y_test_PFI shape:  (177,)\n"
     ]
    }
   ],
   "source": [
    "X_train_PFI, X_test_PFI, y_train_PFI, y_test_PFI = train_test_split(X_positiv_feat_importances, y_positiv_feat_importances, test_size=0.2, random_state=123)\n",
    "\n",
    "print(\"X_train_PFI shape: \", X_train_PFI.shape)\n",
    "print(\"X_test_PFI shape: \", X_test_PFI.shape)\n",
    "print(\"y_train_PFI shape: \", y_train_PFI.shape)\n",
    "print(\"y_test_PFI shape: \", y_test_PFI.shape)"
   ]
  },
  {
   "cell_type": "code",
   "execution_count": 141,
   "metadata": {},
   "outputs": [],
   "source": [
    "scaler_PFI = StandardScaler()\n",
    "train_scaled_PFI = scaler_PFI.fit_transform(X_train_PFI)\n",
    "test_scaled_PFI = scaler_PFI.transform(X_test_PFI)"
   ]
  },
  {
   "cell_type": "code",
   "execution_count": 142,
   "metadata": {},
   "outputs": [
    {
     "data": {
      "text/html": [
       "<style>#sk-container-id-6 {color: black;background-color: white;}#sk-container-id-6 pre{padding: 0;}#sk-container-id-6 div.sk-toggleable {background-color: white;}#sk-container-id-6 label.sk-toggleable__label {cursor: pointer;display: block;width: 100%;margin-bottom: 0;padding: 0.3em;box-sizing: border-box;text-align: center;}#sk-container-id-6 label.sk-toggleable__label-arrow:before {content: \"▸\";float: left;margin-right: 0.25em;color: #696969;}#sk-container-id-6 label.sk-toggleable__label-arrow:hover:before {color: black;}#sk-container-id-6 div.sk-estimator:hover label.sk-toggleable__label-arrow:before {color: black;}#sk-container-id-6 div.sk-toggleable__content {max-height: 0;max-width: 0;overflow: hidden;text-align: left;background-color: #f0f8ff;}#sk-container-id-6 div.sk-toggleable__content pre {margin: 0.2em;color: black;border-radius: 0.25em;background-color: #f0f8ff;}#sk-container-id-6 input.sk-toggleable__control:checked~div.sk-toggleable__content {max-height: 200px;max-width: 100%;overflow: auto;}#sk-container-id-6 input.sk-toggleable__control:checked~label.sk-toggleable__label-arrow:before {content: \"▾\";}#sk-container-id-6 div.sk-estimator input.sk-toggleable__control:checked~label.sk-toggleable__label {background-color: #d4ebff;}#sk-container-id-6 div.sk-label input.sk-toggleable__control:checked~label.sk-toggleable__label {background-color: #d4ebff;}#sk-container-id-6 input.sk-hidden--visually {border: 0;clip: rect(1px 1px 1px 1px);clip: rect(1px, 1px, 1px, 1px);height: 1px;margin: -1px;overflow: hidden;padding: 0;position: absolute;width: 1px;}#sk-container-id-6 div.sk-estimator {font-family: monospace;background-color: #f0f8ff;border: 1px dotted black;border-radius: 0.25em;box-sizing: border-box;margin-bottom: 0.5em;}#sk-container-id-6 div.sk-estimator:hover {background-color: #d4ebff;}#sk-container-id-6 div.sk-parallel-item::after {content: \"\";width: 100%;border-bottom: 1px solid gray;flex-grow: 1;}#sk-container-id-6 div.sk-label:hover label.sk-toggleable__label {background-color: #d4ebff;}#sk-container-id-6 div.sk-serial::before {content: \"\";position: absolute;border-left: 1px solid gray;box-sizing: border-box;top: 0;bottom: 0;left: 50%;z-index: 0;}#sk-container-id-6 div.sk-serial {display: flex;flex-direction: column;align-items: center;background-color: white;padding-right: 0.2em;padding-left: 0.2em;position: relative;}#sk-container-id-6 div.sk-item {position: relative;z-index: 1;}#sk-container-id-6 div.sk-parallel {display: flex;align-items: stretch;justify-content: center;background-color: white;position: relative;}#sk-container-id-6 div.sk-item::before, #sk-container-id-6 div.sk-parallel-item::before {content: \"\";position: absolute;border-left: 1px solid gray;box-sizing: border-box;top: 0;bottom: 0;left: 50%;z-index: -1;}#sk-container-id-6 div.sk-parallel-item {display: flex;flex-direction: column;z-index: 1;position: relative;background-color: white;}#sk-container-id-6 div.sk-parallel-item:first-child::after {align-self: flex-end;width: 50%;}#sk-container-id-6 div.sk-parallel-item:last-child::after {align-self: flex-start;width: 50%;}#sk-container-id-6 div.sk-parallel-item:only-child::after {width: 0;}#sk-container-id-6 div.sk-dashed-wrapped {border: 1px dashed gray;margin: 0 0.4em 0.5em 0.4em;box-sizing: border-box;padding-bottom: 0.4em;background-color: white;}#sk-container-id-6 div.sk-label label {font-family: monospace;font-weight: bold;display: inline-block;line-height: 1.2em;}#sk-container-id-6 div.sk-label-container {text-align: center;}#sk-container-id-6 div.sk-container {/* jupyter's `normalize.less` sets `[hidden] { display: none; }` but bootstrap.min.css set `[hidden] { display: none !important; }` so we also need the `!important` here to be able to override the default hidden behavior on the sphinx rendered scikit-learn.org. See: https://github.com/scikit-learn/scikit-learn/issues/21755 */display: inline-block !important;position: relative;}#sk-container-id-6 div.sk-text-repr-fallback {display: none;}</style><div id=\"sk-container-id-6\" class=\"sk-top-container\"><div class=\"sk-text-repr-fallback\"><pre>LinearRegression()</pre><b>In a Jupyter environment, please rerun this cell to show the HTML representation or trust the notebook. <br />On GitHub, the HTML representation is unable to render, please try loading this page with nbviewer.org.</b></div><div class=\"sk-container\" hidden><div class=\"sk-item\"><div class=\"sk-estimator sk-toggleable\"><input class=\"sk-toggleable__control sk-hidden--visually\" id=\"sk-estimator-id-6\" type=\"checkbox\" checked><label for=\"sk-estimator-id-6\" class=\"sk-toggleable__label sk-toggleable__label-arrow\">LinearRegression</label><div class=\"sk-toggleable__content\"><pre>LinearRegression()</pre></div></div></div></div></div>"
      ],
      "text/plain": [
       "LinearRegression()"
      ]
     },
     "execution_count": 142,
     "metadata": {},
     "output_type": "execute_result"
    }
   ],
   "source": [
    "model_PFI = LinearRegression()\n",
    "model_PFI.fit(train_scaled_PFI, y_train_PFI)"
   ]
  },
  {
   "cell_type": "code",
   "execution_count": 143,
   "metadata": {},
   "outputs": [
    {
     "name": "stdout",
     "output_type": "stream",
     "text": [
      "Mean squared error: 0.03882730017033705\n"
     ]
    }
   ],
   "source": [
    "scores_PFI = cross_val_score(model_PFI, X_positiv_feat_importances, y_positiv_feat_importances, cv=5, scoring='neg_mean_squared_error')\n",
    "\n",
    "# durchschnittliche mittlere quadratische Abweichung\n",
    "mse_mean_PFI = -scores_PFI.mean()\n",
    "print(\"Mean squared error:\", mse_mean_PFI)"
   ]
  }
 ],
 "metadata": {
  "kernelspec": {
   "display_name": "Python 3",
   "language": "python",
   "name": "python3"
  },
  "language_info": {
   "codemirror_mode": {
    "name": "ipython",
    "version": 3
   },
   "file_extension": ".py",
   "mimetype": "text/x-python",
   "name": "python",
   "nbconvert_exporter": "python",
   "pygments_lexer": "ipython3",
   "version": "3.8.0"
  }
 },
 "nbformat": 4,
 "nbformat_minor": 4
}
